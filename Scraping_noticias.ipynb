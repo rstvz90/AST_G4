{
  "nbformat": 4,
  "nbformat_minor": 0,
  "metadata": {
    "colab": {
      "provenance": [],
      "include_colab_link": true
    },
    "kernelspec": {
      "name": "python3",
      "display_name": "Python 3"
    },
    "language_info": {
      "name": "python"
    }
  },
  "cells": [
    {
      "cell_type": "markdown",
      "metadata": {
        "id": "view-in-github",
        "colab_type": "text"
      },
      "source": [
        "<a href=\"https://colab.research.google.com/github/rstvz90/AST_G4/blob/main/Scraping_noticias.ipynb\" target=\"_parent\"><img src=\"https://colab.research.google.com/assets/colab-badge.svg\" alt=\"Open In Colab\"/></a>"
      ]
    },
    {
      "cell_type": "markdown",
      "source": [
        "TP Scrapin noticias.\n",
        "\n"
      ],
      "metadata": {
        "id": "gxAmVTG3moOm"
      }
    },
    {
      "cell_type": "code",
      "source": [
        "import csv\n",
        "import requests\n",
        "from bs4 import BeautifulSoup\n",
        "import pandas as pd"
      ],
      "metadata": {
        "id": "V79T08Rbu8FM"
      },
      "execution_count": 1,
      "outputs": []
    },
    {
      "cell_type": "code",
      "source": [
        "import re"
      ],
      "metadata": {
        "id": "M1_ZT7KNHHfn"
      },
      "execution_count": 2,
      "outputs": []
    },
    {
      "cell_type": "code",
      "source": [
        "import locale\n",
        "locale.setlocale(locale.LC_TIME, 'es_ES')"
      ],
      "metadata": {
        "colab": {
          "base_uri": "https://localhost:8080/",
          "height": 35
        },
        "id": "QFVrJ4RkXmeX",
        "outputId": "719606a0-878f-400a-8f30-01790c70e849"
      },
      "execution_count": 3,
      "outputs": [
        {
          "output_type": "execute_result",
          "data": {
            "text/plain": [
              "'es_ES'"
            ],
            "application/vnd.google.colaboratory.intrinsic+json": {
              "type": "string"
            }
          },
          "metadata": {},
          "execution_count": 3
        }
      ]
    },
    {
      "cell_type": "code",
      "source": [
        "from datetime import datetime"
      ],
      "metadata": {
        "id": "HwTQ6XsmQEvm"
      },
      "execution_count": 4,
      "outputs": []
    },
    {
      "cell_type": "code",
      "source": [],
      "metadata": {
        "id": "1CmbSvifZJP7"
      },
      "execution_count": null,
      "outputs": []
    },
    {
      "cell_type": "code",
      "source": [
        "url = \"https://tn.com.ar/buscar/robo-escuela/\""
      ],
      "metadata": {
        "id": "mYPFyHU9vRqm"
      },
      "execution_count": 13,
      "outputs": []
    },
    {
      "cell_type": "code",
      "source": [
        "#preparamos los datos\n",
        "req = requests.get(url)"
      ],
      "metadata": {
        "id": "Mgaq4jBg3Lq8"
      },
      "execution_count": 14,
      "outputs": []
    },
    {
      "cell_type": "code",
      "source": [
        "#extraemos el código HTML de la url\n",
        "soup = BeautifulSoup(req.text, 'html.parser')"
      ],
      "metadata": {
        "id": "C6T7jra03TJb"
      },
      "execution_count": 15,
      "outputs": []
    },
    {
      "cell_type": "code",
      "source": [
        "links = soup.find_all('a') #buscamos las etiquetas <a> que contienen enlaces a las noticias"
      ],
      "metadata": {
        "id": "ovYv9zVp3dxF"
      },
      "execution_count": 16,
      "outputs": []
    },
    {
      "cell_type": "code",
      "source": [
        "# Buscamos todos los elementos que potencialmente pueden contener el texto de las noticias\n",
        "news_elements = soup.find_all(['p'])"
      ],
      "metadata": {
        "id": "vJqmHeXIBPv0"
      },
      "execution_count": 8,
      "outputs": []
    },
    {
      "cell_type": "code",
      "source": [
        "subt = soup.find_all(class_ = \"card__subheadline\")"
      ],
      "metadata": {
        "id": "PPZBUnIASdTf"
      },
      "execution_count": 9,
      "outputs": []
    },
    {
      "cell_type": "code",
      "source": [
        "subt = []\n",
        "for link in soup.find_all(class_ = \"card__subheadline\"):\n",
        "    subt.append(link.get_text())"
      ],
      "metadata": {
        "id": "8gC7HrJmWRq7"
      },
      "execution_count": 17,
      "outputs": []
    },
    {
      "cell_type": "code",
      "source": [
        "subt"
      ],
      "metadata": {
        "colab": {
          "base_uri": "https://localhost:8080/"
        },
        "id": "JOlGxPuQCBvr",
        "outputId": "86c3f2be-a04a-492d-fbfd-f3f1147d2041"
      },
      "execution_count": 18,
      "outputs": [
        {
          "output_type": "execute_result",
          "data": {
            "text/plain": [
              "['El ladrón les exigió los celulares a los chicos. Tras ello escapó del lugar junto a su cómplice. El colegio suspendió las clases y prometió mejorar la seguridad.',\n",
              " 'El hecho ocurrió en la Escuela Técnica N° 13 del barrio Nicoll, donde delincuentes vandalizaron las instalaciones y se llevaron varios materiales que usan los chicos para estudiar. ',\n",
              " 'Los ladrones, de entre 15 y 17 años, fueron interceptados por la Policía cuando intentaban darse a la fuga con las computadoras escondidas en tachos de basura. ',\n",
              " 'El delincuente lo obligó a caminar varias cuadras junto con él mientras lo amenazaba con apuñalarlo. Le robó el celular, un aro de oro que tenía en la oreja y escapó.',\n",
              " 'Sucedió en Orán. El delincuente sorprendió a la profesora mientras estaba dando clases de educación física, la agarró del brazo y le puso el arma en el cuello. Un alumno de tan solo 11 años no dudó.',\n",
              " 'La salvaje agresión ocurrió este jueves cuando el menor se dirigía a su colegio, ubicado en la localidad bonaerense de Rafael Castillo. Los ladrones lo atacaron con una navaja para robarle la mochila y el celular.',\n",
              " 'Las autoridades creen que los delincuentes ingresaron al establecimiento durante el fin de semana. Había rejas forzadas, cajones revueltos y muebles rotos. ',\n",
              " 'Llevaban mochilas y una vestimenta similar al uniforme, lo que permitió que pasaran desapercibidos. Se llevaron un celular y dos billeteras. ',\n",
              " 'Ante la inseguridad, la falta de aulas acondicionadas para ser utilizadas, el calor y los ventiladores que no alcanzan, los alumnos se ven afectados y las autoridades locales no brindan respuestas. ',\n",
              " 'El personal de maestranza del establecimiento halló la cocina violentada, con el gas abierto y alcohol derramado por el piso. Se llevaron hasta la ropa de trabajo del personal de cocina. ',\n",
              " 'Tomás tenía 18 años y recibió cinco heridas en el tórax. Falleció a los minutos de llegar al hospital. ',\n",
              " 'Se trata de la Primaria N° 42 y la Secundaria N° 16 que comparten el edificio en el barrio Belgrano de Pergamino. Las autoridades del establecimiento piden seguridad. ',\n",
              " 'El hecho ocurrió el sábado en la Escuela N° 35 de Los Hornos. Tras el saqueo, los alumnos solo pueden asistir hasta el mediodía y las autoridades improvisan viandas para que puedan llevarse a sus casas. ',\n",
              " 'Se trata de dos alumnos que van a quinto grado de la escuela 75  “Juan E. Martínez”, de la localidad de Santa Lucía, en Corrientes. Los mensajes que dejaron en el pizarrón fueron clave para reconcerlos.',\n",
              " 'Todo ocurrió en la madrugada del domingo, en la institución ubicada en Camino Centernario y 511. ',\n",
              " 'Los ladrones ingresaron al establecimiento mientras se estaba dictando clases y les gatillaron a los estudiantes.  ',\n",
              " '“Lloro todo el día”, dijo la víctima de 31 años. Recién había pagado la primera cuota de las 36 cuando se la llevaron de la puerta del colegio al que asistía en Mar del Plata.',\n",
              " 'El robo quedó registrado por las cámaras de seguridad. La escuela de Merlo lo había mandado a febrero. ',\n",
              " 'Ocurrió en el Instituto Tecnológico San Bonifacio. Los alumnos vieron a dos ladrones. Uno fue atrapado y el otro logró escapar. Querían llevarse bicicletas y le sacaron el celular a un profesor cuando salía del aula.',\n",
              " 'Lucas Cancino fue apuñalado en un robo cuando salía de su casa para ir a la escuela. “No hay suficientes policías, es injustificable tener 80.000 efectivos para toda la provincia”, remarcó el ministro de Seguridad. ']"
            ]
          },
          "metadata": {},
          "execution_count": 18
        }
      ]
    },
    {
      "cell_type": "code",
      "source": [
        "for text in subt:\n",
        " print(type(text))"
      ],
      "metadata": {
        "colab": {
          "base_uri": "https://localhost:8080/"
        },
        "id": "UvDs2giXWkd-",
        "outputId": "87979d83-dbba-4b5c-89db-4915f66e78e8"
      },
      "execution_count": null,
      "outputs": [
        {
          "output_type": "stream",
          "name": "stdout",
          "text": [
            "<class 'bs4.element.Tag'>\n",
            "<class 'bs4.element.Tag'>\n",
            "<class 'bs4.element.Tag'>\n",
            "<class 'bs4.element.Tag'>\n",
            "<class 'bs4.element.Tag'>\n",
            "<class 'bs4.element.Tag'>\n",
            "<class 'bs4.element.Tag'>\n",
            "<class 'bs4.element.Tag'>\n",
            "<class 'bs4.element.Tag'>\n",
            "<class 'bs4.element.Tag'>\n",
            "<class 'bs4.element.Tag'>\n",
            "<class 'bs4.element.Tag'>\n",
            "<class 'bs4.element.Tag'>\n",
            "<class 'bs4.element.Tag'>\n",
            "<class 'bs4.element.Tag'>\n",
            "<class 'bs4.element.Tag'>\n",
            "<class 'bs4.element.Tag'>\n",
            "<class 'bs4.element.Tag'>\n",
            "<class 'bs4.element.Tag'>\n",
            "<class 'bs4.element.Tag'>\n"
          ]
        }
      ]
    },
    {
      "cell_type": "code",
      "source": [
        "desc = []\n",
        "for link in soup.find_all('p'):\n",
        "    desc.append(link.get_text())"
      ],
      "metadata": {
        "id": "daCTrJolYdSZ"
      },
      "execution_count": 12,
      "outputs": []
    },
    {
      "cell_type": "code",
      "source": [
        "print(desc)"
      ],
      "metadata": {
        "colab": {
          "base_uri": "https://localhost:8080/"
        },
        "id": "ET5Exc9sZAE8",
        "outputId": "e0fa07f9-31a1-47dc-f0a4-6d2a61f9e9ea"
      },
      "execution_count": 13,
      "outputs": [
        {
          "output_type": "stream",
          "name": "stdout",
          "text": [
            "['El ladrón les exigió los celulares a los chicos. Tras ello escapó del lugar junto a su cómplice. El colegio suspendió las clases y prometió mejorar la seguridad.', 'El hecho ocurrió en la Escuela Técnica N° 13 del barrio Nicoll, donde delincuentes vandalizaron las instalaciones y se llevaron varios materiales que usan los chicos para estudiar. ', 'Los ladrones, de entre 15 y 17 años, fueron interceptados por la Policía cuando intentaban darse a la fuga con las computadoras escondidas en tachos de basura. ', 'El delincuente lo obligó a caminar varias cuadras junto con él mientras lo amenazaba con apuñalarlo. Le robó el celular, un aro de oro que tenía en la oreja y escapó.', 'Sucedió en Orán. El delincuente sorprendió a la profesora mientras estaba dando clases de educación física, la agarró del brazo y le puso el arma en el cuello. Un alumno de tan solo 11 años no dudó.', 'La salvaje agresión ocurrió este jueves cuando el menor se dirigía a su colegio, ubicado en la localidad bonaerense de Rafael Castillo. Los ladrones lo atacaron con una navaja para robarle la mochila y el celular.', 'Las autoridades creen que los delincuentes ingresaron al establecimiento durante el fin de semana. Había rejas forzadas, cajones revueltos y muebles rotos. ', 'Llevaban mochilas y una vestimenta similar al uniforme, lo que permitió que pasaran desapercibidos. Se llevaron un celular y dos billeteras. ', 'Ante la inseguridad, la falta de aulas acondicionadas para ser utilizadas, el calor y los ventiladores que no alcanzan, los alumnos se ven afectados y las autoridades locales no brindan respuestas. ', 'El personal de maestranza del establecimiento halló la cocina violentada, con el gas abierto y alcohol derramado por el piso. Se llevaron hasta la ropa de trabajo del personal de cocina. ', 'Tomás tenía 18 años y recibió cinco heridas en el tórax. Falleció a los minutos de llegar al hospital. ', 'Se trata de la Primaria N° 42 y la Secundaria N° 16 que comparten el edificio en el barrio Belgrano de Pergamino. Las autoridades del establecimiento piden seguridad. ', 'El hecho ocurrió el sábado en la Escuela N° 35 de Los Hornos. Tras el saqueo, los alumnos solo pueden asistir hasta el mediodía y las autoridades improvisan viandas para que puedan llevarse a sus casas. ', 'Se trata de dos alumnos que van a quinto grado de la escuela 75  “Juan E. Martínez”, de la localidad de Santa Lucía, en Corrientes. Los mensajes que dejaron en el pizarrón fueron clave para reconcerlos.', 'Todo ocurrió en la madrugada del domingo, en la institución ubicada en Camino Centernario y 511. ', 'Los ladrones ingresaron al establecimiento mientras se estaba dictando clases y les gatillaron a los estudiantes.  ', '“Lloro todo el día”, dijo la víctima de 31 años. Recién había pagado la primera cuota de las 36 cuando se la llevaron de la puerta del colegio al que asistía en Mar del Plata.', 'El robo quedó registrado por las cámaras de seguridad. La escuela de Merlo lo había mandado a febrero. ', 'Ocurrió en el Instituto Tecnológico San Bonifacio. Los alumnos vieron a dos ladrones. Uno fue atrapado y el otro logró escapar. Querían llevarse bicicletas y le sacaron el celular a un profesor cuando salía del aula.', 'Lucas Cancino fue apuñalado en un robo cuando salía de su casa para ir a la escuela. “No hay suficientes policías, es injustificable tener 80.000 efectivos para toda la provincia”, remarcó el ministro de Seguridad. ']\n"
          ]
        }
      ]
    },
    {
      "cell_type": "code",
      "source": [
        "#import os\n",
        "\n",
        "## Install es_ES\n",
        "#!/usr/share/locales/install-language-pack es_ES\n",
        "#!dpkg-reconfigure locales\n",
        "\n",
        "## Restart Python process to pick up the new locales\n",
        "#os.kill(os.getpid(), 9)"
      ],
      "metadata": {
        "colab": {
          "base_uri": "https://localhost:8080/"
        },
        "id": "1VkquIdwJD7s",
        "outputId": "bd5c70d5-0c5f-4f76-ee07-785504e28224"
      },
      "execution_count": null,
      "outputs": [
        {
          "output_type": "stream",
          "name": "stdout",
          "text": [
            "Generating locales (this might take a while)...\n",
            "  es_ES.ISO-8859-1... done\n",
            "Generation complete.\n",
            "\u001b[1mdpkg-trigger:\u001b[0m \u001b[1;31merror:\u001b[0m must be called from a maintainer script (or with a --by-package option)\n",
            "\n",
            "Type dpkg-trigger --help for help about this utility.\n",
            "Generating locales (this might take a while)...\n",
            "  en_US.UTF-8... done\n",
            "  es_ES.ISO-8859-1..."
          ]
        }
      ]
    },
    {
      "cell_type": "code",
      "source": [],
      "metadata": {
        "colab": {
          "base_uri": "https://localhost:8080/",
          "height": 35
        },
        "id": "UJ7eAtzYIS7l",
        "outputId": "5c6267ab-03b2-4885-ec54-8869067c8e97"
      },
      "execution_count": 10,
      "outputs": [
        {
          "output_type": "execute_result",
          "data": {
            "text/plain": [
              "'es_ES'"
            ],
            "application/vnd.google.colaboratory.intrinsic+json": {
              "type": "string"
            }
          },
          "metadata": {},
          "execution_count": 10
        }
      ]
    },
    {
      "cell_type": "code",
      "source": [
        "dtime = []\n",
        "for link in soup.find_all(class_ = \"time__value\"):\n",
        "    dtime.append(link.get_text())\n",
        "\n",
        "dtime = [fecha.replace(\"sept\", \"sep\") for fecha in dtime]\n",
        "\n",
        "dtime = [datetime.strptime(dtime, \"%d %b %Y\").date() for dtime in dtime]\n",
        "print(len(dtime))\n",
        "dtime"
      ],
      "metadata": {
        "id": "2oOYeJ-WZikY",
        "colab": {
          "base_uri": "https://localhost:8080/"
        },
        "outputId": "616666db-01fc-4436-f5a8-24b12b410a8d"
      },
      "execution_count": 95,
      "outputs": [
        {
          "output_type": "stream",
          "name": "stdout",
          "text": [
            "20\n"
          ]
        },
        {
          "output_type": "execute_result",
          "data": {
            "text/plain": [
              "[datetime.date(2024, 3, 13),\n",
              " datetime.date(2024, 2, 9),\n",
              " datetime.date(2023, 11, 15),\n",
              " datetime.date(2023, 8, 14),\n",
              " datetime.date(2023, 8, 3),\n",
              " datetime.date(2023, 6, 3),\n",
              " datetime.date(2023, 4, 19),\n",
              " datetime.date(2023, 4, 12),\n",
              " datetime.date(2023, 3, 17),\n",
              " datetime.date(2022, 11, 29),\n",
              " datetime.date(2022, 11, 7),\n",
              " datetime.date(2022, 9, 19),\n",
              " datetime.date(2022, 8, 2),\n",
              " datetime.date(2022, 7, 15),\n",
              " datetime.date(2022, 7, 5),\n",
              " datetime.date(2022, 6, 22),\n",
              " datetime.date(2022, 6, 16),\n",
              " datetime.date(2021, 12, 17),\n",
              " datetime.date(2021, 10, 29),\n",
              " datetime.date(2021, 10, 13)]"
            ]
          },
          "metadata": {},
          "execution_count": 95
        }
      ]
    },
    {
      "cell_type": "code",
      "source": [
        "Ctag = []\n",
        "\n",
        "for link in soup.find_all(class_ =\"card__tag\"):\n",
        "    Ctag.append(link.get_text())"
      ],
      "metadata": {
        "id": "E2v-YBJ8bk5f"
      },
      "execution_count": 27,
      "outputs": []
    },
    {
      "cell_type": "code",
      "source": [
        "print(len(Ctag))\n",
        "Ctag"
      ],
      "metadata": {
        "colab": {
          "base_uri": "https://localhost:8080/"
        },
        "id": "AGVdenPxcmVL",
        "outputId": "2f2103f4-240b-4381-d1c6-ef71d40c1796"
      },
      "execution_count": 94,
      "outputs": [
        {
          "output_type": "stream",
          "name": "stdout",
          "text": [
            "20\n"
          ]
        },
        {
          "output_type": "execute_result",
          "data": {
            "text/plain": [
              "['Chaco',\n",
              " 'Robo',\n",
              " 'San Telmo',\n",
              " 'La Plata',\n",
              " 'Escuela',\n",
              " 'La Matanza',\n",
              " 'Moreno',\n",
              " 'La Plata',\n",
              " 'Laferrere',\n",
              " 'Palermo',\n",
              " 'Crimen',\n",
              " 'TN y la Gente',\n",
              " 'Robo',\n",
              " 'Corrientes',\n",
              " 'La Plata',\n",
              " 'villa fiorito',\n",
              " 'Mar del Plata',\n",
              " 'Motochorros',\n",
              " 'TN y la Gente',\n",
              " 'Inseguridad']"
            ]
          },
          "metadata": {},
          "execution_count": 94
        }
      ]
    },
    {
      "cell_type": "code",
      "source": [
        "titulo = []\n",
        "for link in soup.find_all(class_ = 'card__headline'):\n",
        "    titulo.append(link.get_text())\n",
        "print(len(titulo))\n",
        "titulo"
      ],
      "metadata": {
        "id": "-FkpGsYWc0JC",
        "colab": {
          "base_uri": "https://localhost:8080/"
        },
        "outputId": "f968a361-ef36-4201-9914-18485b215017"
      },
      "execution_count": 93,
      "outputs": [
        {
          "output_type": "stream",
          "name": "stdout",
          "text": [
            "20\n"
          ]
        },
        {
          "output_type": "execute_result",
          "data": {
            "text/plain": [
              "['Un delincuente entró a una escuela, asaltó a los alumnos que estaban clase y los amenazó con un arma',\n",
              " 'A días del inicio de las clases, robaron y prendieron fuego una escuela en Virrey del Pino',\n",
              " 'Detuvieron a cinco adolescentes que robaron 142 netbooks en una escuela de San Telmo ',\n",
              " '“Temí que lo mataran como a Morena”: dramático robo a un chico de 14 años cuando iba a la escuela en La Plata',\n",
              " 'Un ladrón entró a robar a una escuela con un machete y un nene lo echó a golpes con su cinturón',\n",
              " 'Un chico de 13 años fue acuchillado por dos ladrones cuando iba a la escuela: lo rescataron los vecinos',\n",
              " 'En una semana robaron dos veces una escuela en Moreno: se llevaron hasta el bronce del mástil',\n",
              " 'Dos delincuentes se hicieron pasar por alumnos, entraron a un colegio y les robaron a preceptores',\n",
              " 'Hay 300 chicos sin clases en una escuela que no puede terminar las refacciones porque le roban los materiales',\n",
              " 'Robo en una escuela de Palermo: se llevaron 150 computadoras y la leche para el desayuno de los chicos ',\n",
              " 'Salió de la escuela, quiso defender a su compañera de un robo y lo mataron a puñaladas ',\n",
              " 'Una escuela fue asaltada tres veces en 12 días: “Estamos asustados, nunca sabemos qué vamos a encontrar”',\n",
              " 'Hicieron un boquete en una escuela, se robaron los alimentos de todo el mes y dejaron a 400 chicos sin comer',\n",
              " 'Corrientes: dos nenes de 11 años robaron en el colegio donde estudian y los descubrieron por la caligrafía',\n",
              " 'Una escuela de La Plata suspendió las clases porque le robaron todas las computadoras',\n",
              " 'Ocho delincuentes robaron y amenazaron de muerte a los alumnos de un instituto en plena clase',\n",
              " 'Una mujer se compró una moto para trabajar y terminar la escuela, pero se la robaron y pide ayuda',\n",
              " 'Un estudiante iba a rendir un examen, pero unos motochorros le robaron la mochila y en la escuela lo desaprobaron por no llevar el trabajo práctico',\n",
              " 'Delincuentes entraron a robar a una escuela de Lomas de Zamora mientras los chicos estaban en clase',\n",
              " 'Sergio Berni criticó a la Justicia por el asesinato del joven en Quilmes: “Hay que discutir cómo una persona que fue detenida por robo con arma sale a los 4 días”']"
            ]
          },
          "metadata": {},
          "execution_count": 93
        }
      ]
    },
    {
      "cell_type": "code",
      "source": [
        "url = []\n",
        "for link in soup.find_all(class_ = 'card__headline'):\n",
        "    url.append(link.find('a')['href'])\n"
      ],
      "metadata": {
        "id": "oNHG3A7GMhRM"
      },
      "execution_count": 108,
      "outputs": []
    },
    {
      "cell_type": "code",
      "source": [
        "print(len(url))"
      ],
      "metadata": {
        "colab": {
          "base_uri": "https://localhost:8080/"
        },
        "id": "KNAQ0AH7c9Un",
        "outputId": "d26e4f74-51cb-4a5c-de51-1db87f7c62c2"
      },
      "execution_count": 110,
      "outputs": [
        {
          "output_type": "stream",
          "name": "stdout",
          "text": [
            "['/policiales/2024/03/13/un-delincuente-ingreso-a-una-escuela-asalto-a-alumnos-en-plena-clase-y-los-amenazo-con-un-arma/', '/policiales/2024/02/09/a-dias-del-inicio-las-clases-robaron-y-prendieron-fuego-una-escuela-en-virrey-del-pino/', '/policiales/2023/11/15/detuvieron-a-cinco-adolescentes-que-robaron-142-netbooks-en-una-escuela-de-san-telmo/', '/policiales/2023/08/14/temi-que-lo-mataran-como-a-morena-dramatico-robo-a-un-chico-de-14-anos-cuando-iba-a-la-escuela-en-la-plata/', '/policiales/2023/08/03/un-ladron-entro-a-robar-a-una-escuela-con-un-machete-y-un-nene-lo-echo-a-golpes-con-su-cinturon/', '/policiales/2023/06/03/un-chico-de-13-anos-fue-acuchillado-por-dos-ladrones-cuando-iba-a-la-escuela-y-fue-rescatado-por-los-vecinos/', '/policiales/2023/04/19/en-una-semana-robaron-dos-veces-una-escuela-en-moreno-se-llevaron-hasta-el-bronce-del-mastil/', '/policiales/2023/04/12/dos-delincuentes-se-hicieron-pasar-por-alumnos-entraron-a-un-colegio-y-les-robaron-a-preceptores/', '/policiales/2023/03/17/hay-300-chicos-sin-clases-en-una-escuela-que-no-puede-terminar-las-refacciones-porque-le-roban-los-materiales/', '/policiales/2022/11/29/robo-en-una-escuela-de-palermo-se-llevaron-150-computadoras-y-la-leche-para-el-desayuno-de-los-chicos/', '/policiales/2022/11/07/salio-de-la-escuela-quiso-defender-a-su-companera-de-un-robo-y-lo-mataron-a-punaladas/', '/policiales/2022/09/19/una-escuela-fue-asaltada-tres-veces-en-12-dias-estamos-asustados-nunca-sabemos-que-vamos-a-encontrar/', '/policiales/2022/08/02/hicieron-un-boquete-en-una-escuela-se-robaron-la-mercaderia-de-todo-el-mes-y-dejaron-a-400-chicos-sin-comer/', '/policiales/2022/07/15/corrientes-dos-nenes-de-11-anos-robaron-en-el-colegio-donde-estudian-y-los-descubrieron-por-la-caligrafia/', '/sociedad/2022/07/05/una-escuela-de-la-plata-suspendio-las-clases-porque-le-robaron-todas-las-computadoras/', '/policiales/2022/06/22/ocho-delincuentes-robaron-y-amenazaron-de-muerte-a-los-alumnos-de-un-instituto-en-plena-clase/', '/policiales/2022/06/16/una-mujer-se-compro-una-moto-para-trabajar-y-terminar-la-escuela-pero-se-la-robaron-y-pide-ayuda/', '/policiales/2021/12/17/un-estudiante-iba-a-rendir-un-examen-motochorros-le-robaron-la-mochila-y-lo-desaprobaron-por-no-llevar-el-trabajo-practico/', '/policiales/2021/10/29/delincuentes-entraron-a-robar-a-una-escuela-de-lomas-de-zamora-mientras-los-chicos-estaban-en-clase/', '/politica/2021/10/13/sergio-berni-critico-a-la-justicia-por-el-asesinato-del-joven-en-quilmes-hay-que-discutir-como-una-persona-que-fue-detenida-por-robo-con-arma-sale-a-los-4-dias/']\n"
          ]
        }
      ]
    },
    {
      "cell_type": "code",
      "source": [
        "#ver esto!!!\n",
        "#markup = '<a class=\"cls1 cls2\" id=\"id1 id2\">'\n",
        "#soup = BeautifulSoup(markup, 'html.parser')\n",
        "#soup.a['href']\n",
        "# http://url2/"
      ],
      "metadata": {
        "colab": {
          "base_uri": "https://localhost:8080/",
          "height": 176
        },
        "id": "L8MBMwjbf2Sq",
        "outputId": "2cd0f08c-aea5-4e2a-d0d8-009a819409b1"
      },
      "execution_count": null,
      "outputs": [
        {
          "output_type": "error",
          "ename": "NameError",
          "evalue": "name 'markup' is not defined",
          "traceback": [
            "\u001b[0;31m---------------------------------------------------------------------------\u001b[0m",
            "\u001b[0;31mNameError\u001b[0m                                 Traceback (most recent call last)",
            "\u001b[0;32m<ipython-input-118-30efdd701b17>\u001b[0m in \u001b[0;36m<cell line: 1>\u001b[0;34m()\u001b[0m\n\u001b[0;32m----> 1\u001b[0;31m \u001b[0msoup\u001b[0m \u001b[0;34m=\u001b[0m \u001b[0mBeautifulSoup\u001b[0m\u001b[0;34m(\u001b[0m\u001b[0mmarkup\u001b[0m\u001b[0;34m,\u001b[0m \u001b[0;34m'html.parser'\u001b[0m\u001b[0;34m)\u001b[0m\u001b[0;34m\u001b[0m\u001b[0;34m\u001b[0m\u001b[0m\n\u001b[0m\u001b[1;32m      2\u001b[0m \u001b[0msoup\u001b[0m\u001b[0;34m.\u001b[0m\u001b[0ma\u001b[0m\u001b[0;34m[\u001b[0m\u001b[0;34m'href'\u001b[0m\u001b[0;34m]\u001b[0m\u001b[0;34m\u001b[0m\u001b[0;34m\u001b[0m\u001b[0m\n\u001b[1;32m      3\u001b[0m \u001b[0;31m# http://url2/\u001b[0m\u001b[0;34m\u001b[0m\u001b[0;34m\u001b[0m\u001b[0m\n",
            "\u001b[0;31mNameError\u001b[0m: name 'markup' is not defined"
          ]
        }
      ]
    },
    {
      "cell_type": "code",
      "source": [
        "#1 armar DF en dist celdas identificar el camino para los puntos que necesitamos para las columnas. Titulo/texto/fecha/URL\n",
        "#2 buscar palabras"
      ],
      "metadata": {
        "id": "rE-3JTZDalvs"
      },
      "execution_count": null,
      "outputs": []
    },
    {
      "cell_type": "code",
      "source": [
        "filtered_texts = [] #lista para almacenar los enlaces de las noticias que contienen las palabras clave"
      ],
      "metadata": {
        "id": "EcxqgawK8ngf"
      },
      "execution_count": null,
      "outputs": []
    },
    {
      "cell_type": "code",
      "source": [
        "# Buscamos todos los elementos de texto en la página\n",
        "text_elements = soup.find_all(text=True)"
      ],
      "metadata": {
        "colab": {
          "base_uri": "https://localhost:8080/"
        },
        "id": "9u2H_UPSBpXE",
        "outputId": "35882e6d-085d-4e22-c269-7b96ad28f249"
      },
      "execution_count": null,
      "outputs": [
        {
          "output_type": "stream",
          "name": "stderr",
          "text": [
            "<ipython-input-51-fb7cfa59a67d>:2: DeprecationWarning: The 'text' argument to find()-type methods is deprecated. Use 'string' instead.\n",
            "  text_elements = soup.find_all(text=True)\n"
          ]
        }
      ]
    },
    {
      "cell_type": "code",
      "source": [
        "# Palabras clave a buscar\n",
        "keywords = [\"notebook\", \"computadora\", \"caba\", \"ciudad autónoma de buenos aires\"]"
      ],
      "metadata": {
        "id": "a4EcOSmb8nqF"
      },
      "execution_count": null,
      "outputs": []
    },
    {
      "cell_type": "code",
      "source": [
        "# Recorremos los elementos de texto y verificamos si contienen las palabras clave utilizando expresiones regulares\n",
        "for element in text_elements:\n",
        "    # Verificamos si alguna de las palabras clave está presente en el texto del elemento utilizando expresiones regulares\n",
        "    if any(re.search(r'\\b{}\\b'.format(keyword), element, flags=re.IGNORECASE) for keyword in keywords):\n",
        "        # Añadimos el texto del elemento a nuestra lista\n",
        "        filtered_texts.append(element)"
      ],
      "metadata": {
        "id": "jmogdgQS8nzp"
      },
      "execution_count": null,
      "outputs": []
    },
    {
      "cell_type": "code",
      "source": [
        "# Imprimimos los textos de las noticias filtradas\n",
        "for text in filtered_texts:\n",
        "    print(text)"
      ],
      "metadata": {
        "colab": {
          "base_uri": "https://localhost:8080/"
        },
        "id": "RSIuqcFXAjsV",
        "outputId": "d443f9d5-63c0-450a-b4e0-999bf3fcec67"
      },
      "execution_count": null,
      "outputs": [
        {
          "output_type": "stream",
          "name": "stdout",
          "text": [
            "window.Fusion=window.Fusion||{};Fusion.arcSite=\"tn\";Fusion.contextPath=\"/pf\";Fusion.deployment=\"486\";Fusion.globalContent={\"type\":\"results\",\"version\":\"0.6.0\",\"additional_properties\":{\"took\":125,\"timed_out\":false},\"count\":48,\"next\":7,\"query\":\"robo escuela\",\"content_elements\":[{\"subheadlines\":{\"basic\":\"El ladrón les exigió los celulares a los chicos. Tras ello escapó del lugar junto a su cómplice. El colegio suspendió las clases y prometió mejorar la seguridad.\"},\"description\":{\"basic\":\"\"},\"language\":\"\",\"source\":{\"system\":\"composer\",\"name\":\"artear\",\"source_type\":\"staff\"},\"taxonomy\":{\"sections\":[{\"path\":\"/policiales\",\"parent\":{\"default\":\"/\"},\"_website\":\"tn\",\"parent_id\":\"/\",\"name\":\"Policiales\",\"_id\":\"/policiales\",\"additional_properties\":{\"original\":{\"parent\":{\"default\":\"/\",\"site-map\":\"/todo-noticias\",\"hamburger\":\"/todonoticias\",\"footermenu1\":\"/\",\"primary\":null,\"Videos\":null},\"site\":{\"site_url\":\"/policiales/\"},\"inactive\":false,\"node_type\":\"section\",\"_website\":\"tn\",\"name\":\"Policiales\",\"_id\":\"/policiales\",\"ancestors\":{\"default\":[\"/\"],\"site-map\":[\"/\",\"/todo-noticias\"],\"hamburger\":[\"/\",\"/todonoticias\"],\"footermenu1\":[\"/\"],\"primary\":[],\"Videos\":[]},\"order\":{\"default\":1014,\"site-map\":2005,\"footermenu1\":1007,\"hamburger\":2005}}},\"_website_section_id\":\"tn./policiales\",\"type\":\"section\",\"version\":\"0.6.0\"}],\"primary_section\":{\"path\":\"/policiales\",\"parent\":{\"default\":\"/\"},\"_website\":\"tn\",\"parent_id\":\"/\",\"name\":\"Policiales\",\"_id\":\"/policiales\",\"additional_properties\":{\"original\":{\"parent\":{\"default\":\"/\",\"site-map\":\"/todo-noticias\",\"hamburger\":\"/todonoticias\",\"footermenu1\":\"/\",\"primary\":null,\"Videos\":null},\"site\":{\"site_url\":\"/policiales/\"},\"inactive\":false,\"node_type\":\"section\",\"_website\":\"tn\",\"name\":\"Policiales\",\"_id\":\"/policiales\",\"ancestors\":{\"default\":[\"/\"],\"site-map\":[\"/\",\"/todo-noticias\"],\"hamburger\":[\"/\",\"/todonoticias\"],\"footermenu1\":[\"/\"],\"primary\":[],\"Videos\":[]},\"order\":{\"default\":1014,\"site-map\":2005,\"footermenu1\":1007,\"hamburger\":2005}}},\"type\":\"section\",\"version\":\"0.6.0\"},\"tags\":[{\"description\":\"chaco\",\"text\":\"Chaco\",\"slug\":\"chaco\"},{\"description\":\"robo\",\"text\":\"Robo\",\"slug\":\"robo\"},{\"description\":\"Escuela\",\"text\":\"Escuela\",\"slug\":\"escuela\"}]},\"related_content\":{\"redirect\":[],\"basic\":[]},\"type\":\"story\",\"geo\":{},\"subtype\":\"article\",\"first_publish_date\":\"2024-03-13T15:55:11.648Z\",\"additional_properties\":{\"is_published\":true,\"clipboard\":{},\"publish_date\":\"2024-03-13T16:17:32.197Z\",\"has_published_copy\":true},\"last_updated_date\":\"2024-03-13T16:56:50.952Z\",\"publishing\":{\"scheduled_operations\":{\"unpublish_edition\":[],\"publish_edition\":[]}},\"owner\":{\"sponsored\":false,\"id\":\"artear\"},\"address\":{},\"workflow\":{\"note\":\"\",\"status_code\":3},\"label\":{\"redactor\":{\"display\":true,\"text\":\"Belén Vallejo\"}},\"canonical_url\":\"/policiales/2024/03/13/un-delincuente-ingreso-a-una-escuela-asalto-a-alumnos-en-plena-clase-y-los-amenazo-con-un-arma/\",\"distributor\":{\"name\":\"artear\",\"category\":\"staff\",\"subcategory\":\"\"},\"version\":\"0.10.9\",\"canonical_website\":\"tn\",\"revision\":{\"editions\":[\"default\"],\"user_id\":\"jessica_fabaro@artear.com\",\"parent_id\":\"VGG7Q2FWYVD4VF3MHSY7YMKOPQ\",\"published\":true,\"branch\":\"default\",\"revision_id\":\"EBLNLI4OY5AWLJF6NGBJKAVXMA\"},\"planning\":{\"internal_note\":\"\",\"story_length\":{\"character_encoding\":\"UTF-16\",\"character_count_actual\":3074,\"inch_count_actual\":4,\"word_count_actual\":522,\"line_count_actual\":22}},\"display_date\":\"2024-03-13T15:55:11.648Z\",\"headlines\":{\"tablet\":\"Un delincuente ingresó a una escuela, asaltó a alumnos en plena clase y los amenazó con un arma\",\"print\":\"\",\"meta_title\":\"Chaco: un delincuente ingresó a una escuela, asaltó a alumnos en plena clase y los amenazó con un arma\",\"native\":\"\",\"web\":\"Chaco: un delincuente ingresó a una escuela, asaltó a alumnos en plena clase y los amenazó con un arma\",\"mobile\":\"Chaco\",\"basic\":\"Un delincuente entró a una escuela, asaltó a los alumnos que estaban clase y los amenazó con un arma\"},\"websites\":{\"tn\":{\"website_url\":\"/policiales/2024/03/13/un-delincuente-ingreso-a-una-escuela-asalto-a-alumnos-en-plena-clase-y-los-amenazo-con-un-arma/\",\"website_section\":{\"path\":\"/policiales\",\"parent\":{\"default\":\"/\"},\"_website\":\"tn\",\"parent_id\":\"/\",\"name\":\"Policiales\",\"_id\":\"/policiales\",\"additional_properties\":{\"original\":{\"parent\":{\"default\":\"/\",\"site-map\":\"/todo-noticias\",\"hamburger\":\"/todonoticias\",\"footermenu1\":\"/\",\"primary\":null,\"Videos\":null},\"site\":{\"site_url\":\"/policiales/\"},\"inactive\":false,\"node_type\":\"section\",\"_website\":\"tn\",\"name\":\"Policiales\",\"_id\":\"/policiales\",\"ancestors\":{\"default\":[\"/\"],\"site-map\":[\"/\",\"/todo-noticias\"],\"hamburger\":[\"/\",\"/todonoticias\"],\"footermenu1\":[\"/\"],\"primary\":[],\"Videos\":[]},\"order\":{\"default\":1014,\"site-map\":2005,\"footermenu1\":1007,\"hamburger\":2005}}},\"_website_section_id\":\"tn./policiales\",\"type\":\"section\",\"version\":\"0.6.0\"}}},\"created_date\":\"2024-03-13T14:50:49.221Z\",\"publish_date\":\"2024-03-13T16:56:50.068Z\",\"_id\":\"4H6FZIUUU5AMDEUYFYRHZQKW7A\",\"website\":\"tn\",\"website_url\":\"/policiales/2024/03/13/un-delincuente-ingreso-a-una-escuela-asalto-a-alumnos-en-plena-clase-y-los-amenazo-con-un-arma/\",\"content_elements\":[{\"_id\":\"MSM6M4UBLNAMRAOPASFDSZI24A\",\"additional_properties\":{\"inline_comments\":[],\"comments\":[],\"_id\":1710345074886},\"type\":\"text\",\"content\":\"Un delincuente<b> ingresó a una </b><a href=\\\"https://tn.com.ar/policiales/2024/02/09/a-dias-del-inicio-las-clases-robaron-y-prendieron-fuego-una-escuela-en-virrey-del-pino/\\\" target=\\\"_blank\\\"><b>escuela</b></a><b>, amenazó a los alumnos con un arma en plena clase y </b><a href=\\\"https://tn.com.ar/policiales/2024/02/09/a-dias-del-inicio-las-clases-robaron-y-prendieron-fuego-una-escuela-en-virrey-del-pino/\\\" target=\\\"_blank\\\"><b>les robó los celulares</b></a><b>. </b>Tras ello, escapó junto a su cómplice. Las autoridades locales ahora realizan tareas de investigación para identificarlo.\"},{\"_id\":\"6ESXJ5YOSJAORHLOPPL6HQZDDA\",\"additional_properties\":{\"inline_comments\":[],\"comments\":[],\"_id\":1710345074887},\"type\":\"text\",\"content\":\"El violento episodio ocurrió en el mediodía de este martes en la institución ENS N°75 “Julio Cortázar”, ubicada en la intersección de las calles Falucho y Belgrano, de la ciudad de Resistencia, <a href=\\\"https://tn.com.ar/policiales/2024/03/07/video-un-hombre-se-colgo-de-un-tendido-electrico-para-cortar-y-robar-cables/\\\" target=\\\"_blank\\\">Chaco</a>.\"},{\"_id\":\"IW6BYS7V4ZE3HCRTK4TGNYI2B4\",\"additional_properties\":{\"inline_comments\":[],\"comments\":[],\"_id\":1710345074888},\"type\":\"text\",\"content\":\"<i><b>Leé también: </b></i><a href=\\\"https://tn.com.ar/policiales/2024/03/13/corrientes-detuvieron-a-un-hombre-que-viajaba-con-90-serpientes-236-aranas-y-un-ciempies-en-la-valija/\\\"><i><b>Corrientes: detuvieron a un hombre que viajaba con 90 serpientes, 236 arañas y un ciempiés en la valija</b></i></a>\"},{\"_id\":\"NNZPQERKCFAC3AODCKS2YKIOAM\",\"additional_properties\":{\"inline_comments\":[],\"comments\":[],\"_id\":1710345074889},\"type\":\"text\",\"content\":\"La directora del establecimiento contó a los medios locales que un ladrón ingresó a las aulas y <b>les exigió a los chicos que entregaran sus celulares.</b> En el raid, el asaltante<b> se llevó tres aparatos.</b>\"},{\"_id\":\"37WXS3OAUJC4NHFUDPDIGWCXNI\",\"additional_properties\":{\"inline_comments\":[],\"comments\":[],\"_id\":1710345074890},\"type\":\"text\",\"content\":\"Sin embargo, a pesar de que los alumnos no se resistieron, el delincuente <b>los amenazó con sacar un arma que tenía en la cintura</b>. Luego de que logró su cometido, el ladrón huyó con su cómplice en una moto.\"},{\"owner\":{\"sponsored\":false,\"id\":\"artear\"},\"address\":{},\"syndication\":{},\"auth\":{\"1\":\"13267adf0f18e798bc235e413c05a9c31ce1a7299e32cfdf3a6caf21e82b08c3\"},\"caption\":\"Tras el robo, el delincuente escapó junto a su cómplice. (Foto: gentileza Diario Chaco)\",\"source\":{\"system\":\"photo center\",\"edit_url\":\"\",\"additional_properties\":{\"editor\":\"photo center\"}},\"taxonomy\":{\"associated_tasks\":[]},\"type\":\"image\",\"version\":\"0.10.9\",\"url\":\"https://cloudfront-us-east-1.images.arcpublishing.com/artear/SECTO4Z65BCBXMZ5IQ6TUGZDUU.PNG\",\"licensable\":false,\"credits\":{\"affiliation\":[]},\"subtitle\":\"robo escuela chaco\",\"width\":668,\"_id\":\"SECTO4Z65BCBXMZ5IQ6TUGZDUU\",\"additional_properties\":{\"fullSizeResizeUrl\":\"/resizer/wdIrdHOHBT0gQqSA8KtQrSB_z-8=/arc-anglerfish-arc2-prod-artear/public/SECTO4Z65BCBXMZ5IQ6TUGZDUU.PNG\",\"owner\":\"belenvallejoo10@gmail.com\",\"comments\":[],\"proxyUrl\":\"/resizer/wdIrdHOHBT0gQqSA8KtQrSB_z-8=/arc-anglerfish-arc2-prod-artear/public/SECTO4Z65BCBXMZ5IQ6TUGZDUU.PNG\",\"originalUrl\":\"https://cloudfront-us-east-1.images.arcpublishing.com/artear/SECTO4Z65BCBXMZ5IQ6TUGZDUU.PNG\",\"published\":true,\"resizeUrl\":\"/resizer/wdIrdHOHBT0gQqSA8KtQrSB_z-8=/arc-anglerfish-arc2-prod-artear/public/SECTO4Z65BCBXMZ5IQ6TUGZDUU.PNG\",\"ingestionMethod\":\"manual\",\"thumbnailResizeUrl\":\"/resizer/fe96bjbC7s-1Ld6NZefoKB9DgxM=/300x0/arc-anglerfish-arc2-prod-artear/public/SECTO4Z65BCBXMZ5IQ6TUGZDUU.PNG\",\"version\":0,\"originalName\":\"escuela2.PNG\",\"mime_type\":\"image/png\",\"restricted\":false,\"template_id\":253,\"galleries\":[],\"_id\":\"Q4BY75YVMBHHVP5RJDLBKPOPB4\"},\"created_date\":\"2024-03-13T15:21:47Z\",\"last_updated_date\":\"2024-03-13T15:21:47Z\",\"height\":438,\"image_type\":\"photograph\",\"resized_urls\":{\"original\":\"https://cloudfront-us-east-1.images.arcpublishing.com/artear/SECTO4Z65BCBXMZ5IQ6TUGZDUU.PNG\",\"lowResBody\":\"https://tn.com.ar/resizer/-keVX42PN5Mma2WCq4gNyUaZ3mM=/150x0/smart/filters:format(webp)/cloudfront-us-east-1.images.arcpublishing.com/artear/SECTO4Z65BCBXMZ5IQ6TUGZDUU.PNG\",\"small\":\"https://tn.com.ar/resizer/QPCN6A58q066OCyOwuzUHox6XjQ=/767x0/smart/filters:format(webp)/cloudfront-us-east-1.images.arcpublishing.com/artear/SECTO4Z65BCBXMZ5IQ6TUGZDUU.PNG\",\"medium\":\"https://tn.com.ar/resizer/9PMqye3Mr4mZuA9U3-VyUMT2QHI=/1023x0/smart/filters:format(webp)/cloudfront-us-east-1.images.arcpublishing.com/artear/SECTO4Z65BCBXMZ5IQ6TUGZDUU.PNG\",\"large\":\"https://tn.com.ar/resizer/y00jaLODCb1NOG3oOZrvz0fWS5I=/1440x0/smart/filters:format(webp)/cloudfront-us-east-1.images.arcpublishing.com/artear/SECTO4Z65BCBXMZ5IQ6TUGZDUU.PNG\"}},{\"_id\":\"FCYAVZM2WBGO5A3FRGG7NW4V7I\",\"additional_properties\":{\"inline_comments\":[],\"comments\":[],\"_id\":1710345074892},\"type\":\"text\",\"content\":\"Cuando todo finalizó, las autoridades del colegio llamaron al 911 y rápidamente un patrullero llegó al lugar. Hasta ahora los efectivos no lograron dar con los ladrones pero comenzaron a realizar tareas de investigación para identificarlos.\"},{\"_id\":\"NJTGH26EWFDYNCWHWDXNUWFZHU\",\"additional_properties\":{\"inline_comments\":[],\"comments\":[],\"_id\":1710345074893},\"type\":\"text\",\"content\":\"Por el robo <b>se suspendieron las clases </b>en la institución y la directora se contactó con los padres para que retiren a los chicos. Además, desde la administración aseguraron que buscarán reforzar las medidas de seguridad para que no se repita el hecho.\"},{\"_id\":\"GJKEDC6SABCBJGYH5WG4HF25SI\",\"additional_properties\":{\"inline_comments\":[],\"comments\":[],\"_id\":1710345074894},\"type\":\"text\",\"content\":\"<i><b>Leé también: </b></i><a href=\\\"https://tn.com.ar/policiales/2024/03/13/video-dos-mujeres-recordaron-a-los-tiros-a-su-hermano-muerto-en-el-dia-de-su-cumpleanos/\\\"><i><b>Video: dos mujeres recordaron a los tiros a su hermano muerto en el día de su cumpleaños</b></i></a>\"},{\"_id\":\"OAJQ5ZOATRFQJNWZQVFII2QX7I\",\"additional_properties\":{\"inline_comments\":[],\"comments\":[],\"_id\":1710345074895},\"type\":\"text\",\"content\":\"En Virrey del Pino, a pocos días de iniciar el ciclo lectivo, sucedió un robo similar. <b>Un grupo de delincuentes ingresó a una escuela y se robó materiales de estudio.</b> Pero no conforme con ello, los asaltantes la vandalizaron y<b> la prendieron fuego</b>.\"},{\"owner\":{\"sponsored\":false,\"id\":\"artear\"},\"address\":{},\"syndication\":{},\"auth\":{\"1\":\"b2b41a657630c66b2ea86236e5287536bf4671ca53e238953ffeeb675eed3354\"},\"caption\":\"El robo ocurrió en la Escuela Técnica N°13 de Virrey del Pino. (Foto: TN)\",\"source\":{\"system\":\"photo center\",\"edit_url\":\"\",\"additional_properties\":{\"editor\":\"photo center\"}},\"taxonomy\":{\"associated_tasks\":[]},\"type\":\"image\",\"version\":\"0.10.9\",\"url\":\"https://cloudfront-us-east-1.images.arcpublishing.com/artear/7QT3Y3WF2JFCRCIAOYEOIV4WSI.png\",\"licensable\":false,\"credits\":{\"affiliation\":[]},\"width\":1366,\"_id\":\"7QT3Y3WF2JFCRCIAOYEOIV4WSI\",\"additional_properties\":{\"fullSizeResizeUrl\":\"/resizer/8lPlETfl0O-w0TjRWLwRHrhNrXE=/arc-anglerfish-arc2-prod-artear/public/7QT3Y3WF2JFCRCIAOYEOIV4WSI.png\",\"owner\":\"juortiz@artear.com\",\"comments\":[],\"proxyUrl\":\"/resizer/8lPlETfl0O-w0TjRWLwRHrhNrXE=/arc-anglerfish-arc2-prod-artear/public/7QT3Y3WF2JFCRCIAOYEOIV4WSI.png\",\"originalUrl\":\"https://cloudfront-us-east-1.images.arcpublishing.com/artear/7QT3Y3WF2JFCRCIAOYEOIV4WSI.png\",\"published\":true,\"resizeUrl\":\"/resizer/8lPlETfl0O-w0TjRWLwRHrhNrXE=/arc-anglerfish-arc2-prod-artear/public/7QT3Y3WF2JFCRCIAOYEOIV4WSI.png\",\"ingestionMethod\":\"manual\",\"thumbnailResizeUrl\":\"/resizer/zfzqjQ-l6xOx92BZdTb_y0mSZ9I=/300x0/arc-anglerfish-arc2-prod-artear/public/7QT3Y3WF2JFCRCIAOYEOIV4WSI.png\",\"version\":0,\"originalName\":\"escuela.png\",\"mime_type\":\"image/png\",\"restricted\":false,\"template_id\":253,\"galleries\":[],\"_id\":\"N7HQHLSJJFDORN6XVJZDBGMXHQ\"},\"created_date\":\"2024-02-09T12:23:55Z\",\"last_updated_date\":\"2024-02-09T12:23:55Z\",\"height\":765,\"image_type\":\"photograph\",\"resized_urls\":{\"original\":\"https://cloudfront-us-east-1.images.arcpublishing.com/artear/7QT3Y3WF2JFCRCIAOYEOIV4WSI.png\",\"lowResBody\":\"https://tn.com.ar/resizer/XdOVeegg93iKsLYZHtZ7JdXaojM=/150x0/smart/filters:format(webp)/cloudfront-us-east-1.images.arcpublishing.com/artear/7QT3Y3WF2JFCRCIAOYEOIV4WSI.png\",\"small\":\"https://tn.com.ar/resizer/VsjxY7w5_p4zicsJBLUYXDuf2cM=/767x0/smart/filters:format(webp)/cloudfront-us-east-1.images.arcpublishing.com/artear/7QT3Y3WF2JFCRCIAOYEOIV4WSI.png\",\"medium\":\"https://tn.com.ar/resizer/Ouw9xWT-T9Hx6FCnxY-kfHtc4X0=/1023x0/smart/filters:format(webp)/cloudfront-us-east-1.images.arcpublishing.com/artear/7QT3Y3WF2JFCRCIAOYEOIV4WSI.png\",\"large\":\"https://tn.com.ar/resizer/Obf77pJZIbXoU42yQcRRboJKk_8=/1440x0/smart/filters:format(webp)/cloudfront-us-east-1.images.arcpublishing.com/artear/7QT3Y3WF2JFCRCIAOYEOIV4WSI.png\"}},{\"_id\":\"QH2VIHLTEVHTVPKRT2AGPEKIKA\",\"additional_properties\":{\"inline_comments\":[],\"comments\":[],\"_id\":1710345074897},\"type\":\"text\",\"content\":\"El violento ataque ocurrió en la Escuela Técnica N°13, ubicada en las calles Juan M. Cabot y Bartolomé Solon del barrio Nicoll. Según detallaron los auxiliares que trabajan en la institución, cuando llegaron al lugar descubrieron que los sospechosos rompieron los sensores de las alarmas, se llevaron las máquinas con los que trabajan los chicos en el taller, <b>incendiaron uno de los sectores e incluso defecaron en el lugar</b>. “Hicieron lo que quisieron. Uno que vio los cimientos de acá, es muy angustiante”, dijo una de las docentes en diálogo con <i>eltrece.</i>\"},{\"_id\":\"M6W4NUBCJ5FERJZCFCEKJXVD5Y\",\"additional_properties\":{\"inline_comments\":[],\"comments\":[],\"_id\":1710345074898},\"type\":\"text\",\"content\":\"Con respecto al robo, detallaron que los asaltantes se llevaron <b>computadoras</b>, <b>motores </b>de los equipos de cortado y <b>tornos </b>que usan los chicos para estudiar. Incluso, a pesar de que los estudiantes aún se encontraban de vacaciones, se habían organizado entre ellos para difundir en redes sociales y <b>advertir </b>a las personas que si ven dichos materiales en venta, lo denuncien.\"},{\"_id\":\"WC5LBTXU7BDJZPFBA5REC5EMV4\",\"additional_properties\":{\"inline_comments\":[],\"comments\":[],\"_id\":1710345074899},\"type\":\"text\",\"content\":\"Las aulas y las mesas de dibujo quedaron arruinadas por el fuego y, a pesar de que las autoridades ya realizaron el peritaje, la angustia y preocupación de los miembros de la comunidad sigue presente: “No deja de causar tristeza y dolor por el esfuerzo que conlleva. <b>Cada dos por tres nos encontramos con esto y es algo que cuesta un montón</b>”, expresaron.\"}],\"promo_items\":{\"basic\":{\"owner\":{\"sponsored\":false,\"id\":\"artear\"},\"address\":{},\"syndication\":{},\"auth\":{\"1\":\"ef1522ff04411e7f6ab768b7eba8916b7c3aa1bdb077facec1a3852a3e895680\"},\"caption\":\"Ladrones entraron a robar en la ENS N° 75 \\\"Julio Cortázar\\\" de Resistencia, en plena clase (Foto: gentileza Diario Chaco)\",\"source\":{\"system\":\"photo center\",\"edit_url\":\"\",\"additional_properties\":{\"editor\":\"photo center\"}},\"taxonomy\":{\"associated_tasks\":[]},\"type\":\"image\",\"version\":\"0.10.9\",\"url\":\"https://cloudfront-us-east-1.images.arcpublishing.com/artear/TRAPN4NYWFC25NS76GST2PRFO4.jpg\",\"licensable\":false,\"credits\":{\"affiliation\":[]},\"subtitle\":\"escuela chaco robo\",\"width\":1366,\"_id\":\"TRAPN4NYWFC25NS76GST2PRFO4\",\"additional_properties\":{\"fullSizeResizeUrl\":\"/resizer/-jGhJ2e43KSfWlNOW7xOdL1dKAo=/arc-anglerfish-arc2-prod-artear/public/TRAPN4NYWFC25NS76GST2PRFO4.jpg\",\"owner\":\"belenvallejoo10@gmail.com\",\"proxyUrl\":\"/resizer/-jGhJ2e43KSfWlNOW7xOdL1dKAo=/arc-anglerfish-arc2-prod-artear/public/TRAPN4NYWFC25NS76GST2PRFO4.jpg\",\"originalUrl\":\"https://cloudfront-us-east-1.images.arcpublishing.com/artear/TRAPN4NYWFC25NS76GST2PRFO4.jpg\",\"published\":true,\"resizeUrl\":\"/resizer/-jGhJ2e43KSfWlNOW7xOdL1dKAo=/arc-anglerfish-arc2-prod-artear/public/TRAPN4NYWFC25NS76GST2PRFO4.jpg\",\"ingestionMethod\":\"manual\",\"thumbnailResizeUrl\":\"/resizer/k8b96xPfj1pG8Xcs5c65qQCyPeQ=/300x0/arc-anglerfish-arc2-prod-artear/public/TRAPN4NYWFC25NS76GST2PRFO4.jpg\",\"version\":0,\"originalName\":\"roboescuelachaco.jpg\",\"mime_type\":\"image/jpeg\",\"restricted\":false,\"template_id\":253,\"galleries\":[]},\"created_date\":\"2024-03-13T15:02:45Z\",\"last_updated_date\":\"2024-03-13T15:02:45Z\",\"height\":765,\"image_type\":\"photograph\",\"resized_urls\":{\"original\":\"https://cloudfront-us-east-1.images.arcpublishing.com/artear/TRAPN4NYWFC25NS76GST2PRFO4.jpg\",\"lowResBody\":\"https://tn.com.ar/resizer/-lNoIuuRjYryHooB8MjtM63xaFg=/150x0/smart/filters:format(webp)/cloudfront-us-east-1.images.arcpublishing.com/artear/TRAPN4NYWFC25NS76GST2PRFO4.jpg\",\"small\":\"https://tn.com.ar/resizer/sXNSKhUGKv4F_nY1oLCW1d3DVQU=/767x0/smart/filters:format(webp)/cloudfront-us-east-1.images.arcpublishing.com/artear/TRAPN4NYWFC25NS76GST2PRFO4.jpg\",\"medium\":\"https://tn.com.ar/resizer/m56lNRISFCcz2MYBC4lx50j00xo=/1023x0/smart/filters:format(webp)/cloudfront-us-east-1.images.arcpublishing.com/artear/TRAPN4NYWFC25NS76GST2PRFO4.jpg\",\"large\":\"https://tn.com.ar/resizer/qRMhP8OD_1Sn0Lq7AuJG2dH_c-s=/1440x0/smart/filters:format(webp)/cloudfront-us-east-1.images.arcpublishing.com/artear/TRAPN4NYWFC25NS76GST2PRFO4.jpg\"}}},\"credits\":{\"by\":[]}},{\"subheadlines\":{\"basic\":\"El hecho ocurrió en la Escuela Técnica N° 13 del barrio Nicoll, donde delincuentes vandalizaron las instalaciones y se llevaron varios materiales que usan los chicos para estudiar. \"},\"description\":{\"basic\":\"\"},\"language\":\"\",\"source\":{\"system\":\"composer\",\"name\":\"artear\",\"source_type\":\"staff\"},\"taxonomy\":{\"sections\":[{\"path\":\"/policiales\",\"parent\":{\"default\":\"/\"},\"_website\":\"tn\",\"parent_id\":\"/\",\"name\":\"Policiales\",\"_id\":\"/policiales\",\"additional_properties\":{\"original\":{\"parent\":{\"default\":\"/\",\"site-map\":\"/todo-noticias\",\"hamburger\":\"/todonoticias\",\"footermenu1\":\"/\",\"primary\":null,\"Videos\":null},\"site\":{\"site_url\":\"/policiales/\"},\"inactive\":false,\"node_type\":\"section\",\"_website\":\"tn\",\"name\":\"Policiales\",\"_id\":\"/policiales\",\"ancestors\":{\"default\":[\"/\"],\"site-map\":[\"/\",\"/todo-noticias\"],\"hamburger\":[\"/\",\"/todonoticias\"],\"footermenu1\":[\"/\"],\"primary\":[],\"Videos\":[]},\"order\":{\"default\":1014,\"site-map\":2005,\"footermenu1\":1007,\"hamburger\":2005}}},\"_website_section_id\":\"tn./policiales\",\"type\":\"section\",\"version\":\"0.6.0\"}],\"primary_section\":{\"path\":\"/policiales\",\"parent\":{\"default\":\"/\"},\"_website\":\"tn\",\"parent_id\":\"/\",\"name\":\"Policiales\",\"_id\":\"/policiales\",\"additional_properties\":{\"original\":{\"parent\":{\"default\":\"/\",\"site-map\":\"/todo-noticias\",\"hamburger\":\"/todonoticias\",\"footermenu1\":\"/\",\"primary\":null,\"Videos\":null},\"site\":{\"site_url\":\"/policiales/\"},\"inactive\":false,\"node_type\":\"section\",\"_website\":\"tn\",\"name\":\"Policiales\",\"_id\":\"/policiales\",\"ancestors\":{\"default\":[\"/\"],\"site-map\":[\"/\",\"/todo-noticias\"],\"hamburger\":[\"/\",\"/todonoticias\"],\"footermenu1\":[\"/\"],\"primary\":[],\"Videos\":[]},\"order\":{\"default\":1014,\"site-map\":2005,\"footermenu1\":1007,\"hamburger\":2005}}},\"type\":\"section\",\"version\":\"0.6.0\"},\"tags\":[{\"description\":\"robo\",\"text\":\"Robo\",\"slug\":\"robo\"},{\"description\":\"Escuela\",\"text\":\"Escuela\",\"slug\":\"escuela\"},{\"description\":\" incendio\",\"text\":\"Incendio\",\"slug\":\"incendio\"},{\"description\":\"Virrey del Pino\",\"text\":\"Virrey del Pino\",\"slug\":\"virrey-del-pino\"}]},\"related_content\":{\"redirect\":[],\"basic\":[]},\"type\":\"story\",\"geo\":{},\"subtype\":\"article\",\"first_publish_date\":\"2024-02-09T12:46:38.741Z\",\"additional_properties\":{\"is_published\":true,\"clipboard\":{},\"publish_date\":\"2024-02-09T16:34:17.823Z\",\"has_published_copy\":true},\"last_updated_date\":\"2024-02-09T16:35:39.05Z\",\"publishing\":{\"scheduled_operations\":{\"unpublish_edition\":[],\"publish_edition\":[]}},\"owner\":{\"sponsored\":false,\"id\":\"artear\"},\"address\":{},\"workflow\":{\"note\":\"\",\"status_code\":2},\"label\":{\"redactor\":{\"display\":true,\"text\":\"Julieta Ortiz\"}},\"canonical_url\":\"/policiales/2024/02/09/a-dias-del-inicio-las-clases-robaron-y-prendieron-fuego-una-escuela-en-virrey-del-pino/\",\"distributor\":{\"name\":\"artear\",\"category\":\"staff\",\"subcategory\":\"\"},\"version\":\"0.10.9\",\"canonical_website\":\"tn\",\"revision\":{\"editions\":[\"default\"],\"user_id\":\"aacciardi@artear.com\",\"parent_id\":\"CWSJDME4F5ERJKIM2MWOVZAYWU\",\"published\":true,\"branch\":\"default\",\"revision_id\":\"WUVU62HC25DK3INH5XYEQJNS7A\"},\"planning\":{\"internal_note\":\"\",\"story_length\":{\"character_encoding\":\"UTF-16\",\"character_count_actual\":2375,\"inch_count_actual\":3,\"word_count_actual\":410,\"line_count_actual\":17}},\"display_date\":\"2024-02-09T12:46:38.741Z\",\"headlines\":{\"tablet\":\"A días del inicio de las clases, prendieron fuego una escuela en Virrey del Pino: \\\"Hicieron lo que quisieron\\\"\",\"print\":\"\",\"meta_title\":\"A días del inicio de las clases, robaron y prendieron fuego una escuela en Virrey del Pino\",\"native\":\"\",\"web\":\"A días del inicio de las clases, robaron y prendieron fuego una escuela en Virrey del Pino\",\"mobile\":\"Inseguridad\",\"basic\":\"A días del inicio de las clases, robaron y prendieron fuego una escuela en Virrey del Pino\"},\"websites\":{\"tn\":{\"website_url\":\"/policiales/2024/02/09/a-dias-del-inicio-las-clases-robaron-y-prendieron-fuego-una-escuela-en-virrey-del-pino/\",\"website_section\":{\"path\":\"/policiales\",\"parent\":{\"default\":\"/\"},\"_website\":\"tn\",\"parent_id\":\"/\",\"name\":\"Policiales\",\"_id\":\"/policiales\",\"additional_properties\":{\"original\":{\"parent\":{\"default\":\"/\",\"site-map\":\"/todo-noticias\",\"hamburger\":\"/todonoticias\",\"footermenu1\":\"/\",\"primary\":null,\"Videos\":null},\"site\":{\"site_url\":\"/policiales/\"},\"inactive\":false,\"node_type\":\"section\",\"_website\":\"tn\",\"name\":\"Policiales\",\"_id\":\"/policiales\",\"ancestors\":{\"default\":[\"/\"],\"site-map\":[\"/\",\"/todo-noticias\"],\"hamburger\":[\"/\",\"/todonoticias\"],\"footermenu1\":[\"/\"],\"primary\":[],\"Videos\":[]},\"order\":{\"default\":1014,\"site-map\":2005,\"footermenu1\":1007,\"hamburger\":2005}}},\"_website_section_id\":\"tn./policiales\",\"type\":\"section\",\"version\":\"0.6.0\"}}},\"created_date\":\"2024-02-09T11:52:11.685Z\",\"publish_date\":\"2024-02-09T16:35:38.902Z\",\"_id\":\"WDRBZTKO7JAHXA5XBNGT2ZFGPU\",\"website\":\"tn\",\"website_url\":\"/policiales/2024/02/09/a-dias-del-inicio-las-clases-robaron-y-prendieron-fuego-una-escuela-en-virrey-del-pino/\",\"content_elements\":[{\"_id\":\"P5WW6FWGMFCGVPGKOKGZS6TGEQ\",\"additional_properties\":{\"inline_comments\":[],\"comments\":[],\"_id\":1707482506692},\"type\":\"text\",\"content\":\"A pocos días de iniciar el ciclo lectivo, <b>un grupo de delincuentes robó una escuela de </b><a href=\\\"https://tn.com.ar/policiales/2024/01/18/virrey-del-pino-una-nena-de-13-anos-fue-asesinada-de-un-balazo-en-el-pecho-en-medio-de-una-pelea-de-vecinos/\\\" target=\\\"_blank\\\"><b>Virrey del Pino</b></a><b>, la vandalizaron y la prendieron fuego</b>. El hecho ocurrió en la Escuela Técnica N°13, ubicada en las calles Juan M. Cabot y Bartolomé Solon del barrio Nicoll.\"},{\"_id\":\"OSUVK7C52RATLEY5O5EFWTMRBY\",\"additional_properties\":{\"inline_comments\":[],\"comments\":[],\"_id\":1707482506693},\"type\":\"text\",\"content\":\"Según auxiliares que trabajan en la institución, este jueves por la mañana descubrieron que los sospechosos rompieron los sensores de las alarmas, se llevaron las máquinas con los que trabajan los chicos en el taller, <b>incendiaron uno de los sectores e incluso defecaron en el lugar</b>. “Hicieron lo que quisieron. Uno que vio los cimientos de acá, es muy angustiante”, dijo una de las docentes en diálogo con <i>El Trece.</i>\"},{\"_id\":\"YZANJQITSRC3LHSZCGNKLKXBF4\",\"additional_properties\":{\"inline_comments\":[],\"comments\":[],\"_id\":1707482506694},\"type\":\"text\",\"content\":\"<i><b>Leé también: </b></i><a href=\\\"https://tn.com.ar/policiales/2024/02/08/se-derrumbo-una-obra-en-construccion-en-caballito-y-hay-personas-atrapadas-entre-los-escombros/\\\"><i><b>Derrumbe en Caballito: dos personas murieron y el operativo de búsqueda se reanudará este viernes</b></i></a>\"},{\"_id\":\"OX6UZIMUQ5C35ARAVKTCZ2FQPA\",\"additional_properties\":{\"inline_comments\":[],\"comments\":[],\"_id\":1707482506695},\"type\":\"text\",\"content\":\"Con respecto al robo, detallaron que los delincuentes se llevaron <b>computadoras</b>, <b>motores </b>de los equipos de cortado y <b>tornos </b>que usan los chicos para estudiar. Incluso, a pesar de que los estudiantes aún se encuentran de vacaciones, se organizaron entre ellos para difundir en redes sociales y <b>advertir </b>a las personas que si ven dichos materiales en venta, que lo denuncien.\"},{\"owner\":{\"sponsored\":false,\"id\":\"artear\"},\"address\":{},\"syndication\":{},\"auth\":{\"1\":\"bc9a5cbbf9af5bae1d6d2561a8544af4295b0b3399d32cd4627482ed87f39415\"},\"caption\":\"Según los auxiliares, los delincuentes se llevaron computadoras y maquinarias que usan los chicos para estudiar. (Foto: Google Street View)\",\"source\":{\"system\":\"photo center\",\"edit_url\":\"\",\"additional_properties\":{\"editor\":\"photo center\"}},\"taxonomy\":{\"associated_tasks\":[]},\"type\":\"image\",\"version\":\"0.10.9\",\"url\":\"https://cloudfront-us-east-1.images.arcpublishing.com/artear/SNEAWGBADBG23HYEOEKHET3JQU.PNG\",\"licensable\":false,\"credits\":{\"affiliation\":[]},\"width\":1082,\"_id\":\"SNEAWGBADBG23HYEOEKHET3JQU\",\"additional_properties\":{\"fullSizeResizeUrl\":\"/resizer/QjtoHIhJu-A1lTtKfsujoH9lmME=/arc-anglerfish-arc2-prod-artear/public/SNEAWGBADBG23HYEOEKHET3JQU.PNG\",\"owner\":\"juortiz@artear.com\",\"comments\":[],\"proxyUrl\":\"/resizer/QjtoHIhJu-A1lTtKfsujoH9lmME=/arc-anglerfish-arc2-prod-artear/public/SNEAWGBADBG23HYEOEKHET3JQU.PNG\",\"originalUrl\":\"https://cloudfront-us-east-1.images.arcpublishing.com/artear/SNEAWGBADBG23HYEOEKHET3JQU.PNG\",\"published\":true,\"resizeUrl\":\"/resizer/QjtoHIhJu-A1lTtKfsujoH9lmME=/arc-anglerfish-arc2-prod-artear/public/SNEAWGBADBG23HYEOEKHET3JQU.PNG\",\"ingestionMethod\":\"manual\",\"thumbnailResizeUrl\":\"/resizer/o3EMSnLDbVIxxJS4KSVEslqQgw8=/300x0/arc-anglerfish-arc2-prod-artear/public/SNEAWGBADBG23HYEOEKHET3JQU.PNG\",\"version\":0,\"originalName\":\"escuela virrey.PNG\",\"mime_type\":\"image/png\",\"restricted\":false,\"template_id\":253,\"galleries\":[],\"_id\":\"CKTGSEEBDNEFXH7VJJBKFUNSXQ\"},\"created_date\":\"2024-02-09T12:37:27Z\",\"last_updated_date\":\"2024-02-09T12:37:27Z\",\"height\":620,\"image_type\":\"photograph\",\"resized_urls\":{\"original\":\"https://cloudfront-us-east-1.images.arcpublishing.com/artear/SNEAWGBADBG23HYEOEKHET3JQU.PNG\",\"lowResBody\":\"https://tn.com.ar/resizer/p0AhrcVZjLrUj9zG5CRFZfZAlUg=/150x0/smart/filters:format(webp)/cloudfront-us-east-1.images.arcpublishing.com/artear/SNEAWGBADBG23HYEOEKHET3JQU.PNG\",\"small\":\"https://tn.com.ar/resizer/3tRU0z0aiD8ZT2XLToKVbC7CKQg=/767x0/smart/filters:format(webp)/cloudfront-us-east-1.images.arcpublishing.com/artear/SNEAWGBADBG23HYEOEKHET3JQU.PNG\",\"medium\":\"https://tn.com.ar/resizer/S0VI7EP8Zo9x_s3DLULJGwPCIcU=/1023x0/smart/filters:format(webp)/cloudfront-us-east-1.images.arcpublishing.com/artear/SNEAWGBADBG23HYEOEKHET3JQU.PNG\",\"large\":\"https://tn.com.ar/resizer/2rNIlCX8MIfRFFUUkhIm4fkPoIs=/1440x0/smart/filters:format(webp)/cloudfront-us-east-1.images.arcpublishing.com/artear/SNEAWGBADBG23HYEOEKHET3JQU.PNG\"}},{\"_id\":\"XVSKXQ6Y4ZGNRNW2QHUNXL7IZA\",\"additional_properties\":{\"inline_comments\":[],\"comments\":[],\"_id\":1707482506697},\"type\":\"text\",\"content\":\"Las aulas y las mesas de dibujo quedaron arruinadas por el fuego y, a pesar de que las autoridades ya realizaron el peritaje, la angustia y preocupación de los miembros de la comunidad sigue presente: “No deja de causar tristeza y dolor por el esfuerzo que conlleva. <b>Cada dos por tres nos encontramos con esto y es algo que cuesta un montón</b>”, expresaron.\"},{\"subtype\":\"genoa\",\"_id\":\"YALIBGWRYFGVHNTEFU6OD33WKI\",\"additional_properties\":{\"comments\":[],\"_id\":\"GD2VA7VSFFG3DMDP5M6F55UKCY\"},\"embed\":{\"id\":\"1575342\",\"config\":{\"duration\":391000,\"preview\":\"https://thumbs.vodgc.net/8CB39E56CFFFBCCA2038CD7CBE5A3A76122_360P.mp4\",\"thumbnail\":\"https://thumbs.vodgc.net/8CB39E56CFFFBCCA2038CD7CBE5A3A76122_1080P.jpg\",\"content_type\":\"video\",\"is_live_content\":false,\"created\":\"2024-02-09T12:04:53Z\",\"description\":\"Los docentes denuncian que la inseguridad es constante y que la presencia de la policía es \\\"intermitente\\\". (Video: TN)\",\"m3u8\":\"https://vod.vodgc.net/manifest/8CB39E56CFFFBCCA2038CD7CBE5A3A76122.m3u8\",\"resolution\":\"426x240\",\"is_vertical_content\":false,\"auth\":{\"1\":\"fec1d27967ddf190dce8b4621d4ceb85520aa2c21600c11a94d446b05428dafa\"},\"resized_urls\":{\"original\":\"https://thumbs.vodgc.net/8CB39E56CFFFBCCA2038CD7CBE5A3A76122_1080P.jpg\",\"lowResBody\":\"https://tn.com.ar/resizer/we6owEgztUSdEULre2M5xOwu5AY=/150x0/smart/filters:format(webp)/thumbs.vodgc.net/8CB39E56CFFFBCCA2038CD7CBE5A3A76122_1080P.jpg\",\"small\":\"https://tn.com.ar/resizer/EDJe31ySRnPE1EXgh0MRg8ijBvo=/767x0/smart/filters:format(webp)/thumbs.vodgc.net/8CB39E56CFFFBCCA2038CD7CBE5A3A76122_1080P.jpg\",\"medium\":\"https://tn.com.ar/resizer/CLV7eVifCyx3anLKfHq15JDA6ww=/1023x0/smart/filters:format(webp)/thumbs.vodgc.net/8CB39E56CFFFBCCA2038CD7CBE5A3A76122_1080P.jpg\",\"large\":\"https://tn.com.ar/resizer/kboGBwARjc0E5FplVeORDgK8yao=/1440x0/smart/filters:format(webp)/thumbs.vodgc.net/8CB39E56CFFFBCCA2038CD7CBE5A3A76122_1080P.jpg\"}},\"url\":\"https://genoa-api-gin.vodgc.net/api/v3/content/contentId/\"},\"type\":\"custom_embed\"},{\"_id\":\"N7PCJDJ6GND2PCUMCJ6PRTJQIQ\",\"additional_properties\":{\"inline_comments\":[],\"comments\":[],\"_id\":1707482506699},\"type\":\"text\",\"content\":\"Sin embargo, este hecho no fue aislado ya que, tanto los trabajadores de la escuela como los padres de los alumnos y los vecinos, denuncian una constante inseguridad en la zona. A pesar de que hay una garita de la Policía Bonaerense en frente del lugar, aseguran que “<b>la presencia policial es intermitente</b>”.\"},{\"_id\":\"3ERBQLWX3ZARNCS2QZ3DUH3YRA\",\"additional_properties\":{\"inline_comments\":[],\"comments\":[],\"_id\":1707482506700},\"type\":\"text\",\"content\":\"“Mayormente, las veces que ha sucedido levantan una reja y se llevan una tele, pero <b>ahora fue la necesidad de destruir lo que después sabes que a los chicos les va a costar un montón volver a recuperar</b>”, contó uno de los profesores.\"},{\"_id\":\"LHYCZN4SWBALLJFLBYHZZHFHNU\",\"additional_properties\":{\"inline_comments\":[],\"comments\":[],\"_id\":1707482506701},\"type\":\"text\",\"content\":\"<i><b>Leé también: </b></i><a href=\\\"https://tn.com.ar/policiales/2024/02/07/video-entraron-a-robar-a-un-chalet-lo-desvalijaron-y-hasta-se-sacaron-fotos-desde-el-jacuzzi/\\\"><i><b>Video: entraron a robar a un chalet, lo desvalijaron y hasta se sacaron fotos desde el jacuzzi</b></i></a>\"},{\"_id\":\"7OONXKBORRA3LOHQW5ET3IGZYM\",\"additional_properties\":{\"inline_comments\":[],\"comments\":[],\"_id\":1707482506702},\"type\":\"text\",\"content\":\"Si bien ya se garantizó el comienzo de clases, el cuerpo docente sostiene que no se trata del factor económico sino el impacto que este tipo de hechos tiene sobre los estudiantes. “Para ellos es una casa”, sostuvieron.\"}],\"promo_items\":{\"basic\":{\"owner\":{\"sponsored\":false,\"id\":\"artear\"},\"address\":{},\"syndication\":{},\"auth\":{\"1\":\"b2b41a657630c66b2ea86236e5287536bf4671ca53e238953ffeeb675eed3354\"},\"caption\":\"El robo ocurrió en la Escuela Técnica N°13 de Virrey del Pino. (Foto: TN)\",\"source\":{\"system\":\"photo center\",\"edit_url\":\"\",\"additional_properties\":{\"editor\":\"photo center\"}},\"taxonomy\":{\"associated_tasks\":[]},\"type\":\"image\",\"version\":\"0.10.9\",\"url\":\"https://cloudfront-us-east-1.images.arcpublishing.com/artear/7QT3Y3WF2JFCRCIAOYEOIV4WSI.png\",\"licensable\":false,\"credits\":{\"affiliation\":[]},\"width\":1366,\"_id\":\"7QT3Y3WF2JFCRCIAOYEOIV4WSI\",\"additional_properties\":{\"fullSizeResizeUrl\":\"/resizer/8lPlETfl0O-w0TjRWLwRHrhNrXE=/arc-anglerfish-arc2-prod-artear/public/7QT3Y3WF2JFCRCIAOYEOIV4WSI.png\",\"owner\":\"juortiz@artear.com\",\"proxyUrl\":\"/resizer/8lPlETfl0O-w0TjRWLwRHrhNrXE=/arc-anglerfish-arc2-prod-artear/public/7QT3Y3WF2JFCRCIAOYEOIV4WSI.png\",\"originalUrl\":\"https://cloudfront-us-east-1.images.arcpublishing.com/artear/7QT3Y3WF2JFCRCIAOYEOIV4WSI.png\",\"published\":true,\"resizeUrl\":\"/resizer/8lPlETfl0O-w0TjRWLwRHrhNrXE=/arc-anglerfish-arc2-prod-artear/public/7QT3Y3WF2JFCRCIAOYEOIV4WSI.png\",\"ingestionMethod\":\"manual\",\"thumbnailResizeUrl\":\"/resizer/zfzqjQ-l6xOx92BZdTb_y0mSZ9I=/300x0/arc-anglerfish-arc2-prod-artear/public/7QT3Y3WF2JFCRCIAOYEOIV4WSI.png\",\"version\":0,\"originalName\":\"escuela.png\",\"mime_type\":\"image/png\",\"restricted\":false,\"template_id\":253,\"galleries\":[]},\"created_date\":\"2024-02-09T12:23:55Z\",\"last_updated_date\":\"2024-02-09T12:23:55Z\",\"height\":765,\"image_type\":\"photograph\",\"resized_urls\":{\"original\":\"https://cloudfront-us-east-1.images.arcpublishing.com/artear/7QT3Y3WF2JFCRCIAOYEOIV4WSI.png\",\"lowResBody\":\"https://tn.com.ar/resizer/XdOVeegg93iKsLYZHtZ7JdXaojM=/150x0/smart/filters:format(webp)/cloudfront-us-east-1.images.arcpublishing.com/artear/7QT3Y3WF2JFCRCIAOYEOIV4WSI.png\",\"small\":\"https://tn.com.ar/resizer/VsjxY7w5_p4zicsJBLUYXDuf2cM=/767x0/smart/filters:format(webp)/cloudfront-us-east-1.images.arcpublishing.com/artear/7QT3Y3WF2JFCRCIAOYEOIV4WSI.png\",\"medium\":\"https://tn.com.ar/resizer/Ouw9xWT-T9Hx6FCnxY-kfHtc4X0=/1023x0/smart/filters:format(webp)/cloudfront-us-east-1.images.arcpublishing.com/artear/7QT3Y3WF2JFCRCIAOYEOIV4WSI.png\",\"large\":\"https://tn.com.ar/resizer/Obf77pJZIbXoU42yQcRRboJKk_8=/1440x0/smart/filters:format(webp)/cloudfront-us-east-1.images.arcpublishing.com/artear/7QT3Y3WF2JFCRCIAOYEOIV4WSI.png\"}}},\"credits\":{\"by\":[]}},{\"subheadlines\":{\"basic\":\"Los ladrones, de entre 15 y 17 años, fueron interceptados por la Policía cuando intentaban darse a la fuga con las computadoras escondidas en tachos de basura. \"},\"description\":{\"basic\":\"\"},\"language\":\"\",\"source\":{\"system\":\"composer\",\"name\":\"artear\",\"source_type\":\"staff\"},\"taxonomy\":{\"sections\":[{\"path\":\"/policiales\",\"parent\":{\"default\":\"/\"},\"_website\":\"tn\",\"parent_id\":\"/\",\"name\":\"Policiales\",\"_id\":\"/policiales\",\"additional_properties\":{\"original\":{\"parent\":{\"default\":\"/\",\"site-map\":\"/todo-noticias\",\"hamburger\":\"/todonoticias\",\"footermenu1\":\"/\",\"primary\":null,\"Videos\":null},\"site\":{\"site_url\":\"/policiales/\"},\"inactive\":false,\"node_type\":\"section\",\"_website\":\"tn\",\"name\":\"Policiales\",\"_id\":\"/policiales\",\"ancestors\":{\"default\":[\"/\"],\"site-map\":[\"/\",\"/todo-noticias\"],\"hamburger\":[\"/\",\"/todonoticias\"],\"footermenu1\":[\"/\"],\"primary\":[],\"Videos\":[]},\"order\":{\"default\":1014,\"site-map\":2005,\"footermenu1\":1006,\"hamburger\":2005}}},\"_website_section_id\":\"tn./policiales\",\"type\":\"section\",\"version\":\"0.6.0\"}],\"primary_section\":{\"path\":\"/policiales\",\"parent\":{\"default\":\"/\"},\"_website\":\"tn\",\"parent_id\":\"/\",\"name\":\"Policiales\",\"_id\":\"/policiales\",\"additional_properties\":{\"original\":{\"parent\":{\"default\":\"/\",\"site-map\":\"/todo-noticias\",\"hamburger\":\"/todonoticias\",\"footermenu1\":\"/\",\"primary\":null,\"Videos\":null},\"site\":{\"site_url\":\"/policiales/\"},\"inactive\":false,\"node_type\":\"section\",\"_website\":\"tn\",\"name\":\"Policiales\",\"_id\":\"/policiales\",\"ancestors\":{\"default\":[\"/\"],\"site-map\":[\"/\",\"/todo-noticias\"],\"hamburger\":[\"/\",\"/todonoticias\"],\"footermenu1\":[\"/\"],\"primary\":[],\"Videos\":[]},\"order\":{\"default\":1014,\"site-map\":2005,\"footermenu1\":1006,\"hamburger\":2005}}},\"type\":\"section\",\"version\":\"0.6.0\"},\"tags\":[{\"description\":\"San Telmo\",\"text\":\"San Telmo\",\"slug\":\"san-telmo\"},{\"description\":\"robo\",\"text\":\"Robo\",\"slug\":\"robo\"},{\"description\":\"Escuela\",\"text\":\"Escuela\",\"slug\":\"escuela\"}]},\"related_content\":{\"redirect\":[],\"basic\":[]},\"type\":\"story\",\"geo\":{},\"subtype\":\"article\",\"first_publish_date\":\"2023-11-15T13:57:57.138Z\",\"additional_properties\":{\"is_published\":false,\"clipboard\":{},\"has_published_copy\":true},\"last_updated_date\":\"2023-11-15T13:57:57.236Z\",\"publishing\":{\"scheduled_operations\":{\"unpublish_edition\":[],\"publish_edition\":[]}},\"owner\":{\"sponsored\":false,\"id\":\"artear\"},\"address\":{},\"workflow\":{\"note\":\"\",\"status_code\":2},\"label\":{\"redactor\":{\"display\":true,\"text\":\"Luciana Soria Vildoza\"}},\"canonical_url\":\"/policiales/2023/11/15/detuvieron-a-cinco-adolescentes-que-robaron-142-netbooks-en-una-escuela-de-san-telmo/\",\"distributor\":{\"name\":\"artear\",\"category\":\"staff\",\"subcategory\":\"\"},\"version\":\"0.10.9\",\"canonical_website\":\"tn\",\"revision\":{\"editions\":[\"default\"],\"user_id\":\"decabocamilo@gmail.com\",\"parent_id\":\"V362HPNKSBGVDL2SB7UJVLCTGQ\",\"published\":true,\"branch\":\"default\",\"revision_id\":\"KV3KLN2CRRB67HQ2WIJUP6FYRI\"},\"planning\":{\"internal_note\":\"\",\"story_length\":{\"character_encoding\":\"UTF-16\",\"character_count_actual\":2908,\"inch_count_actual\":4,\"word_count_actual\":483,\"line_count_actual\":23}},\"display_date\":\"2023-11-15T13:57:57.138Z\",\"headlines\":{\"tablet\":\"Detuvieron a cinco adolescentes que robaron 142 netbooks en una escuela de San Telmo\",\"print\":\"\",\"meta_title\":\"Detuvieron a cinco adolescentes que robaron 142 netbooks en una escuela de San Telmo\",\"native\":\"\",\"web\":\"Detuvieron a cinco adolescentes que robaron 142 netbooks en una escuela de San Telmo\",\"mobile\":\"INSEGURIDAD\",\"basic\":\"Detuvieron a cinco adolescentes que robaron 142 netbooks en una escuela de San Telmo \"},\"websites\":{\"tn\":{\"website_url\":\"/policiales/2023/11/15/detuvieron-a-cinco-adolescentes-que-robaron-142-netbooks-en-una-escuela-de-san-telmo/\",\"website_section\":{\"path\":\"/policiales\",\"parent\":{\"default\":\"/\"},\"_website\":\"tn\",\"parent_id\":\"/\",\"name\":\"Policiales\",\"_id\":\"/policiales\",\"additional_properties\":{\"original\":{\"parent\":{\"default\":\"/\",\"site-map\":\"/todo-noticias\",\"hamburger\":\"/todonoticias\",\"footermenu1\":\"/\",\"primary\":null,\"Videos\":null},\"site\":{\"site_url\":\"/policiales/\"},\"inactive\":false,\"node_type\":\"section\",\"_website\":\"tn\",\"name\":\"Policiales\",\"_id\":\"/policiales\",\"ancestors\":{\"default\":[\"/\"],\"site-map\":[\"/\",\"/todo-noticias\"],\"hamburger\":[\"/\",\"/todonoticias\"],\"footermenu1\":[\"/\"],\"primary\":[],\"Videos\":[]},\"order\":{\"default\":1014,\"site-map\":2005,\"footermenu1\":1006,\"hamburger\":2005}}},\"_website_section_id\":\"tn./policiales\",\"type\":\"section\",\"version\":\"0.6.0\"}}},\"created_date\":\"2023-11-15T12:18:00.081Z\",\"publish_date\":\"2023-11-15T13:57:57.138Z\",\"_id\":\"NHPM3VXJDVFFNG3AQ5HAV3TPO4\",\"website\":\"tn\",\"website_url\":\"/policiales/2023/11/15/detuvieron-a-cinco-adolescentes-que-robaron-142-netbooks-en-una-escuela-de-san-telmo/\",\"content_elements\":[{\"_id\":\"EEVNGBIEJZDNZLREVYMNLOGGHQ\",\"additional_properties\":{\"inline_comments\":[],\"comments\":[],\"_id\":1700053265143},\"type\":\"text\",\"content\":\"Cinco adolescentes fueron detenidos este martes acusados de haber<b> robado 142 netbooks de una escuela</b> del barrio porteño de San Telmo. La Policía los sorprendió cuando intentaban llevarse las computadoras escondidas adentro de tachos de basura.\"},{\"_id\":\"323FZXZPN5GQ7BA6K3K7T7LDCU\",\"additional_properties\":{\"inline_comments\":[],\"comments\":[],\"_id\":1700053265144},\"type\":\"text\",\"content\":\"Los <b>ruidos extraños durante la madrugada</b> pusieron en alerta a los vecinos, que llamaron al 911 y<b> advirtieron sobre un posible robo </b>en la escuela primaria 1 “Valentín Gómez”, ubicada en avenida Independencia al 700.\"},{\"_id\":\"ZYC5QMCL7RFFNLQMJUNGR74VXM\",\"additional_properties\":{\"inline_comments\":[],\"comments\":[],\"_id\":1700053265145},\"type\":\"text\",\"content\":\"<i><b>Leé también: </b></i><a href=\\\"https://tn.com.ar/policiales/2023/11/02/como-sigue-vivo-tienen-13-anos-le-cortaron-el-cuello-a-un-companero-y-lo-tiraron-a-un-contenedor/\\\" target=\\\"_blank\\\"><i><b>“¿Cómo sigue vivo?”: tienen 13 años, le cortaron el cuello a un compañero y lo tiraron a un contenedor</b></i></a>\"},{\"_id\":\"DTUIVD6MLVEEPPK4AXTBESIBD4\",\"additional_properties\":{\"inline_comments\":[],\"comments\":[],\"_id\":1700053265146},\"type\":\"text\",\"content\":\"Tras el llamado, el <b>Centro de Monitoreo Urbano (CMU)</b> irradió el alerta, al visualizar la presencia de un grupo de personas que ingresaba al establecimiento <b>con tachos de basura</b> y dieron inicio a un seguimiento de los sospechosos.\"},{\"_id\":\"P55ZYHLTGJDUHDNZNXCTYTAQIY\",\"additional_properties\":{\"inline_comments\":[],\"comments\":[],\"_id\":1700053265147},\"type\":\"text\",\"content\":\"En medio de este operativo, un grupo de agentes de la División Avenidas Céntricas detuvo a dos de los delincuentes en la esquina de avenida Independencia y Bernardo de Irigoyen, a <b>unas dos cuadras de la escuela.</b>\"},{\"_id\":\"RLKMRO5UHVGA5KW7ENHDYQB2FE\",\"additional_properties\":{\"comments\":[],\"_id\":\"IOBLQABIBFE77GNJJYDMDE7CBE\"},\"type\":\"raw_html\",\"content\":\"<iframe src=\\\"https://www.google.com/maps/embed?pb=!4v1700053227291!6m8!1m7!1sUUFQTxrz7TyUfyzo7kc3GA!2m2!1d-34.61743595999958!2d-58.37682726212144!3f176.82651771441064!4f4.349929430797516!5f0.7820865974627469\\\" width=\\\"600\\\" height=\\\"450\\\" style=\\\"border:0;\\\" allowfullscreen=\\\"\\\" loading=\\\"lazy\\\" referrerpolicy=\\\"no-referrer-when-downgrade\\\"></iframe>\"},{\"_id\":\"RFKFM5UEBVBJBIWITHDE52A3W4\",\"additional_properties\":{\"inline_comments\":[],\"comments\":[],\"_id\":1700053265149},\"type\":\"text\",\"content\":\"En tanto, otros tres ladrones se escaparon<b> a la carrera en diferentes direcciones,</b> pero finalmente fueron arrestados en Piedras al 1000 y en el cruce de Chacabuco e Independencia, por efectivos de la División de Intervenciones Rápidas (DIR) y de la Comisaría Vecinal 1F. Al ser identificados, los policías constataron que<b> se trataba de tres adolescentes</b> <b>de 15 años,</b> uno de 16 y el último de 17.\"},{\"_id\":\"I36K3JJJIBAXZIPOENT4I3VC7E\",\"additional_properties\":{\"inline_comments\":[],\"comments\":[],\"_id\":1700053265150},\"type\":\"text\",\"content\":\"<i><b>Leé también: </b></i><a href=\\\"https://tn.com.ar/policiales/2023/08/03/un-ladron-entro-a-robar-a-una-escuela-con-un-machete-y-un-nene-lo-echo-a-golpes-con-su-cinturon/\\\" target=\\\"_blank\\\"><i><b>Un ladrón entró a robar a una escuela con un machete y un nene lo echó a golpes con su cinturón</b></i></a>\"},{\"_id\":\"FWCQ35J5C5G5VOJTXDBOPOFGKA\",\"additional_properties\":{\"inline_comments\":[],\"comments\":[],\"_id\":1700053265151},\"type\":\"text\",\"content\":\"Después, al revisar los tachos de basura que llevaban los detenidos, los efectivos encontraron unas 142 notebooks que habían sido robadas momentos antes del colegio primario. Además, secuestraron <b>una llave corta, candados</b> y dos barretas.\"},{\"_id\":\"PR4IB3WVGNDQVDXLVMO52QQPOY\",\"additional_properties\":{\"inline_comments\":[],\"comments\":[],\"_id\":1700053265152},\"type\":\"text\",\"content\":\"Intervino en la causa el Juzgado de Menores 3, a cargo de Julia Marano Sanchís, que ordenó la <b>detención de los cinco adolescentes y el secuestro </b>de los dispositivos electrónicos.\"},{\"level\":2,\"_id\":\"UIBMBE5RN5AM3DQ72C4IXHI3MM\",\"additional_properties\":{\"inline_comments\":[],\"comments\":[],\"_id\":1700053265153},\"type\":\"header\",\"content\":\"Otra escuela, blanco de los delincuentes\"},{\"_id\":\"Z3ILHDEUHNCBLMH6AIKYSKHRZQ\",\"additional_properties\":{\"inline_comments\":[],\"comments\":[],\"_id\":1700053265154},\"type\":\"text\",\"content\":\"El hecho ocurrió a fines de mayo en un colegio del barrio porteño de Belgrano. En un audaz robo, <b>dos ladrones </b>ingresaron al establecimiento violentando las puertas, y<b> se apoderaron de un valioso botín</b>. Entre lo robado había 100 computadoras notebook provistas por el Estado, picaportes de bronce y hasta las golosinas del buffet.\"},{\"subtype\":\"genoa\",\"_id\":\"MSLA7GXDPRHDTGQHYS4B4FYFRY\",\"additional_properties\":{\"comments\":[],\"_id\":\"DAT4HQAH7JECXN2FZDBV5RJZWY\"},\"embed\":{\"id\":\"1451138\",\"config\":{\"duration\":0,\"preview\":\"https://thumbs.vodgc.net/1-398-431af2af598a465484de786012c81812-xDI3qi1685222404514_240P.mp4\",\"thumbnail\":\"https://thumbs.vodgc.net/1-398-431af2af598a465484de786012c81812-xDI3qi1685222404514-1685224449.jpg\",\"content_type\":\"video\",\"is_live_content\":false,\"created\":\"2023-05-27T21:20:06Z\",\"description\":\"Ladrones entraron de noche a una escuela, robaron 100 notebooks y hasta las golosinas. (Foto: TN)\",\"m3u8\":\"https://vod.vodgc.net/manifest/1-398-431af2af598a465484de786012c81812-xDI3qi1685222404514.m3u8\",\"title\":\"tn-roboescuela-tvid\",\"resolution\":\"426x240\",\"is_vertical_content\":false,\"auth\":{\"1\":\"325a0b88cdbe207019862accde7f4c487fc8180d3be8b3de0aaab516d5a370cb\"},\"resized_urls\":{\"original\":\"https://thumbs.vodgc.net/1-398-431af2af598a465484de786012c81812-xDI3qi1685222404514-1685224449.jpg\",\"lowResBody\":\"https://tn.com.ar/resizer/5dIzjP3BjsPT2LlBoMl9X4S1R8I=/150x0/smart/filters:format(webp)/thumbs.vodgc.net/1-398-431af2af598a465484de786012c81812-xDI3qi1685222404514-1685224449.jpg\",\"small\":\"https://tn.com.ar/resizer/YA_8yDa4GscM14ppC1Hm80skCdE=/767x0/smart/filters:format(webp)/thumbs.vodgc.net/1-398-431af2af598a465484de786012c81812-xDI3qi1685222404514-1685224449.jpg\",\"medium\":\"https://tn.com.ar/resizer/Q7W-4Lzkqxex-bRJuCK4eYASYoY=/1023x0/smart/filters:format(webp)/thumbs.vodgc.net/1-398-431af2af598a465484de786012c81812-xDI3qi1685222404514-1685224449.jpg\",\"large\":\"https://tn.com.ar/resizer/EaLVKOdaZRoPJZ_2dnxoOH_EkmY=/1440x0/smart/filters:format(webp)/thumbs.vodgc.net/1-398-431af2af598a465484de786012c81812-xDI3qi1685222404514-1685224449.jpg\"}},\"url\":\"https://genoa-api-gin.vodgc.net/api/v3/content/contentId/\"},\"type\":\"custom_embed\"},{\"_id\":\"3J6QV6KFUBG5LBRYSJF7WYXIC4\",\"additional_properties\":{\"inline_comments\":[],\"comments\":[],\"_id\":1700053265156},\"type\":\"text\",\"content\":\"Fue durante la madrugada en la <b>Escuela Normal Superior N° 10, Juan Bautista Alberti. </b>Allí, los delincuentes entraron saltando la reja que da al patio de la institución y luego rompieron la entrada.\"},{\"_id\":\"R23QYHAQHNFMDOTGLRNSYZYKK4\",\"additional_properties\":{\"inline_comments\":[],\"comments\":[],\"_id\":1700053265157},\"type\":\"text\",\"content\":\"Vanina, miembro de la cooperadora del colegio, describió a <b>TN</b> los terribles hechos: “Fue en la madrugada. No solo robaron, sino que<b> destrozaron todo</b>. Golpearon la puerta de la sede de la cooperadora y <b>se llevaron la computadora </b>que utilizamos para trabajar, pero también robaron todas<b> las notebooks que usan los alumnos</b>. <b>Rompieron todo a su paso y también se llevaron todos los objetos de bronce que encontraron</b>”.\"}],\"promo_items\":{\"basic\":{\"owner\":{\"sponsored\":false,\"id\":\"artear\"},\"address\":{},\"syndication\":{},\"auth\":{\"1\":\"b5b27543c25a940ce53a1851e8f6c66255fc0d1c919a7be020ca87540dcbf181\"},\"caption\":\"La Policía recuperó 142 netbooks que habían sido robadas de una escuela de San Telmo. (Foto: Télam)\",\"source\":{\"system\":\"photo center\",\"edit_url\":\"\",\"additional_properties\":{\"editor\":\"photo center\"}},\"taxonomy\":{\"associated_tasks\":[]},\"type\":\"image\",\"version\":\"0.10.9\",\"url\":\"https://cloudfront-us-east-1.images.arcpublishing.com/artear/RKGCIJ57FZB3TPUASMTVWHGRLI.jpg\",\"licensable\":false,\"credits\":{\"affiliation\":[],\"by\":[]},\"subtitle\":\"Netbooks San Telmo\",\"width\":1146,\"_id\":\"RKGCIJ57FZB3TPUASMTVWHGRLI\",\"additional_properties\":{\"fullSizeResizeUrl\":\"/resizer/Zn1HIDqAG_8pjPn950sVPyD2SA0=/arc-anglerfish-arc2-prod-artear/public/RKGCIJ57FZB3TPUASMTVWHGRLI.jpg\",\"owner\":\"luciana_soria_vildoza@artear.com\",\"keywords\":[\"\"],\"proxyUrl\":\"/resizer/Zn1HIDqAG_8pjPn950sVPyD2SA0=/arc-anglerfish-arc2-prod-artear/public/RKGCIJ57FZB3TPUASMTVWHGRLI.jpg\",\"takenOn\":\"2023-11-15T08:55:50Z\",\"originalUrl\":\"https://cloudfront-us-east-1.images.arcpublishing.com/artear/RKGCIJ57FZB3TPUASMTVWHGRLI.jpg\",\"published\":true,\"resizeUrl\":\"/resizer/Zn1HIDqAG_8pjPn950sVPyD2SA0=/arc-anglerfish-arc2-prod-artear/public/RKGCIJ57FZB3TPUASMTVWHGRLI.jpg\",\"ingestionMethod\":\"manual\",\"thumbnailResizeUrl\":\"/resizer/Yzwl8NKaPJ5jeTuSm1Y3lRC1LKE=/300x0/arc-anglerfish-arc2-prod-artear/public/RKGCIJ57FZB3TPUASMTVWHGRLI.jpg\",\"version\":0,\"originalName\":\"netbook-tapa.jpg\",\"mime_type\":\"image/jpeg\",\"restricted\":false,\"template_id\":253,\"galleries\":[]},\"created_date\":\"2023-11-15T12:58:11Z\",\"last_updated_date\":\"2023-11-15T12:58:11Z\",\"height\":642,\"image_type\":\"photograph\",\"resized_urls\":{\"original\":\"https://cloudfront-us-east-1.images.arcpublishing.com/artear/RKGCIJ57FZB3TPUASMTVWHGRLI.jpg\",\"lowResBody\":\"https://tn.com.ar/resizer/sv0SIDl2sGdXdctawU6Eos_Xew4=/150x0/smart/filters:format(webp)/cloudfront-us-east-1.images.arcpublishing.com/artear/RKGCIJ57FZB3TPUASMTVWHGRLI.jpg\",\"small\":\"https://tn.com.ar/resizer/k2sLWh4jjYKDI_f3hRNqCXo-OAk=/767x0/smart/filters:format(webp)/cloudfront-us-east-1.images.arcpublishing.com/artear/RKGCIJ57FZB3TPUASMTVWHGRLI.jpg\",\"medium\":\"https://tn.com.ar/resizer/8XnEAiKDYvgBygGx4r6nMLHDUxQ=/1023x0/smart/filters:format(webp)/cloudfront-us-east-1.images.arcpublishing.com/artear/RKGCIJ57FZB3TPUASMTVWHGRLI.jpg\",\"large\":\"https://tn.com.ar/resizer/VzcyaoS54hsRRIZFLdG5h4rvXjc=/1440x0/smart/filters:format(webp)/cloudfront-us-east-1.images.arcpublishing.com/artear/RKGCIJ57FZB3TPUASMTVWHGRLI.jpg\"}}},\"credits\":{\"by\":[]}},{\"subheadlines\":{\"basic\":\"El delincuente lo obligó a caminar varias cuadras junto con él mientras lo amenazaba con apuñalarlo. Le robó el celular, un aro de oro que tenía en la oreja y escapó.\"},\"description\":{\"basic\":\"\"},\"language\":\"\",\"source\":{\"system\":\"composer\",\"name\":\"artear\",\"source_type\":\"staff\"},\"taxonomy\":{\"sections\":[{\"path\":\"/policiales\",\"parent\":{\"default\":\"/\"},\"_website\":\"tn\",\"parent_id\":\"/\",\"name\":\"Policiales\",\"_id\":\"/policiales\",\"additional_properties\":{\"original\":{\"parent\":{\"default\":\"/\",\"site-map\":\"/todo-noticias\",\"hamburger\":\"/todonoticias\",\"footermenu1\":\"/\",\"primary\":null,\"Videos\":null},\"site\":{\"site_url\":\"/policiales/\"},\"inactive\":false,\"node_type\":\"section\",\"_website\":\"tn\",\"name\":\"Policiales\",\"_id\":\"/policiales\",\"ancestors\":{\"default\":[\"/\"],\"site-map\":[\"/\",\"/todo-noticias\"],\"hamburger\":[\"/\",\"/todonoticias\"],\"footermenu1\":[\"/\"],\"primary\":[],\"Videos\":[]},\"order\":{\"default\":1014,\"site-map\":2005,\"footermenu1\":1006,\"hamburger\":2005}}},\"_website_section_id\":\"tn./policiales\",\"type\":\"section\",\"version\":\"0.6.0\"}],\"primary_section\":{\"path\":\"/policiales\",\"parent\":{\"default\":\"/\"},\"_website\":\"tn\",\"parent_id\":\"/\",\"name\":\"Policiales\",\"_id\":\"/policiales\",\"additional_properties\":{\"original\":{\"parent\":{\"default\":\"/\",\"site-map\":\"/todo-noticias\",\"hamburger\":\"/todonoticias\",\"footermenu1\":\"/\",\"primary\":null,\"Videos\":null},\"site\":{\"site_url\":\"/policiales/\"},\"inactive\":false,\"node_type\":\"section\",\"_website\":\"tn\",\"name\":\"Policiales\",\"_id\":\"/policiales\",\"ancestors\":{\"default\":[\"/\"],\"site-map\":[\"/\",\"/todo-noticias\"],\"hamburger\":[\"/\",\"/todonoticias\"],\"footermenu1\":[\"/\"],\"primary\":[],\"Videos\":[]},\"order\":{\"default\":1014,\"site-map\":2005,\"footermenu1\":1006,\"hamburger\":2005}}},\"type\":\"section\",\"version\":\"0.6.0\"},\"tags\":[{\"description\":\"La Plata\",\"text\":\"La Plata\",\"slug\":\"la-plata\"},{\"description\":\"inseguridad\",\"text\":\"Inseguridad\",\"slug\":\"inseguridad\"},{\"description\":\"robo\",\"text\":\"Robo\",\"slug\":\"robo\"}]},\"related_content\":{\"redirect\":[],\"basic\":[]},\"type\":\"story\",\"geo\":{},\"subtype\":\"article\",\"first_publish_date\":\"2023-08-14T11:45:18.885Z\",\"additional_properties\":{\"is_published\":false,\"clipboard\":{},\"has_published_copy\":true},\"last_updated_date\":\"2023-08-14T11:45:18.998Z\",\"publishing\":{\"scheduled_operations\":{\"unpublish_edition\":[],\"publish_edition\":[]}},\"owner\":{\"sponsored\":false,\"id\":\"artear\"},\"address\":{},\"workflow\":{\"note\":\"\",\"status_code\":3},\"label\":{\"redactor\":{\"display\":true,\"text\":\"Luciana Soria Vildoza\"}},\"canonical_url\":\"/policiales/2023/08/14/temi-que-lo-mataran-como-a-morena-dramatico-robo-a-un-chico-de-14-anos-cuando-iba-a-la-escuela-en-la-plata/\",\"distributor\":{\"name\":\"artear\",\"category\":\"staff\",\"subcategory\":\"\"},\"version\":\"0.10.9\",\"canonical_website\":\"tn\",\"revision\":{\"editions\":[\"default\"],\"user_id\":\"maria_alonso@artear.com\",\"parent_id\":\"6UMYOKR6EVESLPNVWANSZGUQII\",\"published\":true,\"branch\":\"default\",\"revision_id\":\"PGQBKOMFWBA7TBQKJONM7D5QSE\"},\"planning\":{\"internal_note\":\"\",\"story_length\":{\"character_encoding\":\"UTF-16\",\"character_count_actual\":2165,\"inch_count_actual\":3,\"word_count_actual\":407,\"line_count_actual\":16}},\"display_date\":\"2023-08-14T11:45:18.885Z\",\"headlines\":{\"tablet\":\"\",\"print\":\"\",\"meta_title\":\"La Plata: dramático robo a un chico de 14 años cuando iba a la escuela\",\"native\":\"\",\"web\":\"“Temí que lo mataran como a Morena”: dramático robo a un chico de 14 años cuando iba a la escuela en La Plata\",\"mobile\":\"Camino a la escuela\",\"basic\":\"“Temí que lo mataran como a Morena”: dramático robo a un chico de 14 años cuando iba a la escuela en La Plata\"},\"websites\":{\"tn\":{\"website_url\":\"/policiales/2023/08/14/temi-que-lo-mataran-como-a-morena-dramatico-robo-a-un-chico-de-14-anos-cuando-iba-a-la-escuela-en-la-plata/\",\"website_section\":{\"path\":\"/policiales\",\"parent\":{\"default\":\"/\"},\"_website\":\"tn\",\"parent_id\":\"/\",\"name\":\"Policiales\",\"_id\":\"/policiales\",\"additional_properties\":{\"original\":{\"parent\":{\"default\":\"/\",\"site-map\":\"/todo-noticias\",\"hamburger\":\"/todonoticias\",\"footermenu1\":\"/\",\"primary\":null,\"Videos\":null},\"site\":{\"site_url\":\"/policiales/\"},\"inactive\":false,\"node_type\":\"section\",\"_website\":\"tn\",\"name\":\"Policiales\",\"_id\":\"/policiales\",\"ancestors\":{\"default\":[\"/\"],\"site-map\":[\"/\",\"/todo-noticias\"],\"hamburger\":[\"/\",\"/todonoticias\"],\"footermenu1\":[\"/\"],\"primary\":[],\"Videos\":[]},\"order\":{\"default\":1014,\"site-map\":2005,\"footermenu1\":1006,\"hamburger\":2005}}},\"_website_section_id\":\"tn./policiales\",\"type\":\"section\",\"version\":\"0.6.0\"}}},\"created_date\":\"2023-08-14T10:10:34.677Z\",\"publish_date\":\"2023-08-14T11:45:18.885Z\",\"_id\":\"QMVTTX7ZW5GB5D7YQNPA5MKAGE\",\"website\":\"tn\",\"website_url\":\"/policiales/2023/08/14/temi-que-lo-mataran-como-a-morena-dramatico-robo-a-un-chico-de-14-anos-cuando-iba-a-la-escuela-en-la-plata/\",\"content_elements\":[{\"_id\":\"TSUMMJ4YF5A6ZEN2KBORQOZGZ4\",\"additional_properties\":{\"inline_comments\":[],\"comments\":[],\"_id\":1692010595601},\"type\":\"text\",\"content\":\"Un chico de 14 años se convirtió en las últimas horas en una nueva víctima de la inseguridad. Un delincuente lo interceptó <b>cuando iba a la escuela</b>, lo amenazó con apuñalarlo si no le daba el celular y lo obligó a <b>caminar junto a él cinco cuadras</b> exigiéndole dinero y objetos de valor. “Temí que lo mataran como a Morena”, dijo consternada su mamá.\"},{\"_id\":\"MYNXP5XGCFHG3POXSLLFSG2H4I\",\"additional_properties\":{\"inline_comments\":[],\"comments\":[],\"_id\":1692010595602},\"type\":\"text\",\"content\":\"“Tuvo un final muy distinto, aunque haya <b>igualmente padecido un terror similar</b> al de Morena”, agregó la mujer sobre el hecho que ocurrió apenas 24 horas después del crimen de la adolescente en Lanús que conmovió al país y dio un cierre anticipado a la campaña política de los candidatos para las primarias abiertas, simultáneas y obligatorias (PASO).\"},{\"_id\":\"HGKEZE2DGRCVTKQLV6FBHWYSOA\",\"additional_properties\":{\"inline_comments\":[],\"comments\":[],\"_id\":1692010595603},\"type\":\"text\",\"content\":\"<i><b>Leé también: </b></i><a href=\\\"https://tn.com.ar/policiales/2023/08/10/motochorros-mataron-a-una-nena-de-11-anos-en-lanus-en-vivo-que-se-sabe-y-ultimas-noticias/\\\" target=\\\"_blank\\\"><i><b>Crimen de Morena Domínguez en Lanús, EN VIVO: qué se sabe y últimas noticias</b></i></a>\"},{\"_id\":\"7663QGOHDVCD3DU6KMD52RACEE\",\"additional_properties\":{\"inline_comments\":[],\"comments\":[],\"_id\":1692010595604},\"type\":\"text\",\"content\":\"En diálogo con el diario <i>El Día</i>, contó que su hijo suele hacer las <b>15 cuadras de distancia</b> que hay entre su casa y el colegio ubicado en 173 y 516, en Melchor Romero, junto con uno de sus compañeros de clase, pero, justo ese día, el chico faltó y fue solo.\"},{\"_id\":\"YPUF4HCCBJEP3NEXEDEMXXCKJQ\",\"additional_properties\":{\"inline_comments\":[],\"comments\":[],\"_id\":1692010595605},\"type\":\"text\",\"content\":\"El delincuente cruzó a la víctima minutos después de las 7 a la altura de las calles 522 y 167 y, si bien el adolescente trató de evadirlo, lo persiguió unos metros hasta la 521 y allí “lo agarró<b> fuerte del cuello y lo empujó </b>contra un árbol”.\"},{\"_id\":\"DCV4OQQG2JFUZNR45BFUUZUEJI\",\"additional_properties\":{\"comments\":[],\"_id\":\"HNBB6H2LOZHSDM35PE5EWQHBWU\"},\"type\":\"raw_html\",\"content\":\"<iframe src=\\\"https://www.google.com/maps/embed?pb=!4v1692010007102!6m8!1m7!1sFsqkq3GKWayUZ5kn4IGc7Q!2m2!1d-34.95062040592139!2d-58.05365131919677!3f203.95!4f-35.14!5f3.325193203789971\\\" width=\\\"600\\\" height=\\\"450\\\" style=\\\"border:0;\\\" allowfullscreen=\\\"\\\" loading=\\\"lazy\\\" referrerpolicy=\\\"no-referrer-when-downgrade\\\"></iframe>\"},{\"_id\":\"7WKBQYEIMVHJLC4YHJ2MPXYOV4\",\"additional_properties\":{\"inline_comments\":[],\"comments\":[],\"_id\":1692010595607},\"type\":\"text\",\"content\":\"“Dame el celular <b>o te doy una puñalada”</b>, fue la advertencia del ladrón, según el testimonio de la madre de la víctima. Su hijo no ofreció ninguna resistencia y le entregó el teléfono, pero de todas formas <b>siguió sujetándolo </b>del cuello y lo obligó a caminar con él.\"},{\"_id\":\"SI74FMPJ35CRHMRI7G46ROZL4Q\",\"additional_properties\":{\"inline_comments\":[],\"comments\":[],\"_id\":1692010595608},\"type\":\"text\",\"content\":\"<i><b>Leé también: </b></i><a href=\\\"https://tn.com.ar/policiales/2023/08/13/el-crimen-de-un-nene-que-conmociono-al-pais-en-los-90-le-dispararon-en-la-cabeza-en-un-intento-de-robo/\\\" target=\\\"_blank\\\"><i><b>El crimen de un nene que conmocionó al país en los ‘90: le dispararon en la cabeza en un intento de robo</b></i></a>\"},{\"_id\":\"T3ODMRDKOZF5HKQLM25BFHRT7I\",\"additional_properties\":{\"inline_comments\":[],\"comments\":[],\"_id\":1692010595609},\"type\":\"text\",\"content\":\"Así recorrieron unas dos cuadras, durante las cuales el delincuente revolvió la mochila del menor en busca de algo de valor y hasta llegó a preguntarle si <b>el aro que tenía en la oreja</b> era de oro, tras lo cual se lo quitó.\"},{\"_id\":\"MNYDEJYVANFITFNOCR7SXH4YY4\",\"additional_properties\":{\"inline_comments\":[],\"comments\":[],\"_id\":1692010595610},\"type\":\"text\",\"content\":\"La secuencia de terror terminó en el cruce de 517 y 168, donde el asaltante le pidió al chico que le diera la contraseña para desbloquear el celular y lo despidió: “Andate <b>calladito a la escuela</b> y no cuentes nada” . Después escapó y <b>se perdió de vista en una villa </b>de calle 516.\"}],\"promo_items\":{\"basic\":{\"owner\":{\"sponsored\":false,\"id\":\"artear\"},\"address\":{},\"syndication\":{},\"auth\":{\"1\":\"281575d6ccd818e6f9a6d2d8bfe2b3c33c9a176ac44d3aab25fdab651ddf8e2c\"},\"caption\":\"El ladrón caminó junto con la víctima casi hasta llegar a la escuela. (Foto: gentileza 0221).\",\"source\":{\"system\":\"photo center\",\"edit_url\":\"\",\"additional_properties\":{\"editor\":\"photo center\"}},\"taxonomy\":{\"associated_tasks\":[]},\"type\":\"image\",\"version\":\"0.10.9\",\"url\":\"https://cloudfront-us-east-1.images.arcpublishing.com/artear/7XWSFL2KDJH4VA2ZKPTPNZ3F34.jpg\",\"licensable\":false,\"credits\":{\"affiliation\":[],\"by\":[]},\"subtitle\":\"Robo La Plata\",\"width\":914,\"_id\":\"7XWSFL2KDJH4VA2ZKPTPNZ3F34\",\"additional_properties\":{\"fullSizeResizeUrl\":\"/resizer/uTLDFikbxmFauw77eAoB30K0wok=/arc-anglerfish-arc2-prod-artear/public/7XWSFL2KDJH4VA2ZKPTPNZ3F34.jpg\",\"owner\":\"luciana_soria_vildoza@artear.com\",\"keywords\":[\"\"],\"proxyUrl\":\"/resizer/uTLDFikbxmFauw77eAoB30K0wok=/arc-anglerfish-arc2-prod-artear/public/7XWSFL2KDJH4VA2ZKPTPNZ3F34.jpg\",\"takenOn\":\"2023-08-14T07:13:46Z\",\"originalUrl\":\"https://cloudfront-us-east-1.images.arcpublishing.com/artear/7XWSFL2KDJH4VA2ZKPTPNZ3F34.jpg\",\"published\":true,\"resizeUrl\":\"/resizer/uTLDFikbxmFauw77eAoB30K0wok=/arc-anglerfish-arc2-prod-artear/public/7XWSFL2KDJH4VA2ZKPTPNZ3F34.jpg\",\"ingestionMethod\":\"manual\",\"thumbnailResizeUrl\":\"/resizer/epzB8x8Us8qrEkEw9OStC8xHs9w=/300x0/arc-anglerfish-arc2-prod-artear/public/7XWSFL2KDJH4VA2ZKPTPNZ3F34.jpg\",\"version\":0,\"originalName\":\"robo-alumno-tapa.jpg\",\"mime_type\":\"image/jpeg\",\"restricted\":false,\"template_id\":253,\"galleries\":[]},\"created_date\":\"2023-08-14T10:34:30Z\",\"last_updated_date\":\"2023-08-14T10:34:30Z\",\"height\":511,\"image_type\":\"photograph\",\"resized_urls\":{\"original\":\"https://cloudfront-us-east-1.images.arcpublishing.com/artear/7XWSFL2KDJH4VA2ZKPTPNZ3F34.jpg\",\"lowResBody\":\"https://tn.com.ar/resizer/lbAM_xdveNckuvUMu4qpj2AIPDI=/150x0/smart/filters:format(webp)/cloudfront-us-east-1.images.arcpublishing.com/artear/7XWSFL2KDJH4VA2ZKPTPNZ3F34.jpg\",\"small\":\"https://tn.com.ar/resizer/TrmmbbJqmuTnN_HKoUNaGeWx9XE=/767x0/smart/filters:format(webp)/cloudfront-us-east-1.images.arcpublishing.com/artear/7XWSFL2KDJH4VA2ZKPTPNZ3F34.jpg\",\"medium\":\"https://tn.com.ar/resizer/xVo2PxhtE8XQm7sknMrd-HkV-o0=/1023x0/smart/filters:format(webp)/cloudfront-us-east-1.images.arcpublishing.com/artear/7XWSFL2KDJH4VA2ZKPTPNZ3F34.jpg\",\"large\":\"https://tn.com.ar/resizer/xMlwCVrDcNKp1f_uK6vCM5Kz4CQ=/1440x0/smart/filters:format(webp)/cloudfront-us-east-1.images.arcpublishing.com/artear/7XWSFL2KDJH4VA2ZKPTPNZ3F34.jpg\"}}},\"credits\":{\"by\":[]}},{\"subheadlines\":{\"basic\":\"Sucedió en Orán. El delincuente sorprendió a la profesora mientras estaba dando clases de educación física, la agarró del brazo y le puso el arma en el cuello. Un alumno de tan solo 11 años no dudó.\"},\"description\":{\"basic\":\"\"},\"language\":\"\",\"source\":{\"system\":\"composer\",\"name\":\"artear\",\"source_type\":\"staff\"},\"taxonomy\":{\"sections\":[{\"path\":\"/policiales\",\"parent\":{\"default\":\"/\"},\"_website\":\"tn\",\"parent_id\":\"/\",\"name\":\"Policiales\",\"_id\":\"/policiales\",\"additional_properties\":{\"original\":{\"parent\":{\"default\":\"/\",\"site-map\":\"/todo-noticias\",\"hamburger\":\"/todonoticias\",\"footermenu1\":\"/\",\"primary\":null,\"Videos\":null},\"site\":{\"site_url\":\"/policiales/\"},\"inactive\":false,\"node_type\":\"section\",\"_website\":\"tn\",\"name\":\"Policiales\",\"_id\":\"/policiales\",\"ancestors\":{\"default\":[\"/\"],\"site-map\":[\"/\",\"/todo-noticias\"],\"hamburger\":[\"/\",\"/todonoticias\"],\"footermenu1\":[\"/\"],\"primary\":[],\"Videos\":[]},\"order\":{\"default\":1014,\"site-map\":2005,\"footermenu1\":1006,\"hamburger\":2005}}},\"_website_section_id\":\"tn./policiales\",\"type\":\"section\",\"version\":\"0.6.0\"}],\"primary_section\":{\"path\":\"/policiales\",\"parent\":{\"default\":\"/\"},\"_website\":\"tn\",\"parent_id\":\"/\",\"name\":\"Policiales\",\"_id\":\"/policiales\",\"additional_properties\":{\"original\":{\"parent\":{\"default\":\"/\",\"site-map\":\"/todo-noticias\",\"hamburger\":\"/todonoticias\",\"footermenu1\":\"/\",\"primary\":null,\"Videos\":null},\"site\":{\"site_url\":\"/policiales/\"},\"inactive\":false,\"node_type\":\"section\",\"_website\":\"tn\",\"name\":\"Policiales\",\"_id\":\"/policiales\",\"ancestors\":{\"default\":[\"/\"],\"site-map\":[\"/\",\"/todo-noticias\"],\"hamburger\":[\"/\",\"/todonoticias\"],\"footermenu1\":[\"/\"],\"primary\":[],\"Videos\":[]},\"order\":{\"default\":1014,\"site-map\":2005,\"footermenu1\":1006,\"hamburger\":2005}}},\"type\":\"section\",\"version\":\"0.6.0\"},\"tags\":[{\"description\":\"Escuela\",\"text\":\"Escuela\",\"slug\":\"escuela\"},{\"description\":\"robo\",\"text\":\"Robo\",\"slug\":\"robo\"},{\"description\":\"machete\",\"text\":\"machete\",\"slug\":\"machete\"}]},\"related_content\":{\"redirect\":[],\"basic\":[]},\"type\":\"story\",\"geo\":{},\"subtype\":\"article\",\"first_publish_date\":\"2023-08-03T19:55:51.428Z\",\"additional_properties\":{\"is_published\":false,\"clipboard\":{},\"has_published_copy\":true},\"last_updated_date\":\"2023-08-03T19:55:51.567Z\",\"publishing\":{\"scheduled_operations\":{\"unpublish_edition\":[],\"publish_edition\":[]}},\"owner\":{\"sponsored\":false,\"id\":\"artear\"},\"address\":{},\"workflow\":{\"note\":\"\",\"status_code\":2},\"label\":{\"redactor\":{\"display\":true,\"text\":\"Carolina Villalba\"}},\"canonical_url\":\"/policiales/2023/08/03/un-ladron-entro-a-robar-a-una-escuela-con-un-machete-y-un-nene-lo-echo-a-golpes-con-su-cinturon/\",\"distributor\":{\"name\":\"artear\",\"category\":\"staff\",\"subcategory\":\"\"},\"version\":\"0.10.9\",\"canonical_website\":\"tn\",\"revision\":{\"editions\":[\"default\"],\"user_id\":\"aglopez@artear.com\",\"parent_id\":\"EYM5OZGMZFAHBK55HFBWBEGMLI\",\"published\":true,\"branch\":\"default\",\"revision_id\":\"K4RSDQITVFDSTCDYOMYWXXY2CE\"},\"planning\":{\"internal_note\":\"\",\"story_length\":{\"character_encoding\":\"UTF-16\",\"character_count_actual\":1793,\"inch_count_actual\":2,\"word_count_actual\":318,\"line_count_actual\":13}},\"display_date\":\"2023-08-03T19:55:51.428Z\",\"headlines\":{\"tablet\":\"\",\"print\":\"\",\"meta_title\":\"Un ladrón entró a robar a una escuela con un machete y un nene lo echó a golpes con su cinturón\",\"native\":\"\",\"web\":\"Un ladrón entró a robar a una escuela con un machete y un nene lo echó a golpes con su cinturón\",\"mobile\":\"SALTA\",\"basic\":\"Un ladrón entró a robar a una escuela con un machete y un nene lo echó a golpes con su cinturón\"},\"websites\":{\"tn\":{\"website_url\":\"/policiales/2023/08/03/un-ladron-entro-a-robar-a-una-escuela-con-un-machete-y-un-nene-lo-echo-a-golpes-con-su-cinturon/\",\"website_section\":{\"path\":\"/policiales\",\"parent\":{\"default\":\"/\"},\"_website\":\"tn\",\"parent_id\":\"/\",\"name\":\"Policiales\",\"_id\":\"/policiales\",\"additional_properties\":{\"original\":{\"parent\":{\"default\":\"/\",\"site-map\":\"/todo-noticias\",\"hamburger\":\"/todonoticias\",\"footermenu1\":\"/\",\"primary\":null,\"Videos\":null},\"site\":{\"site_url\":\"/policiales/\"},\"inactive\":false,\"node_type\":\"section\",\"_website\":\"tn\",\"name\":\"Policiales\",\"_id\":\"/policiales\",\"ancestors\":{\"default\":[\"/\"],\"site-map\":[\"/\",\"/todo-noticias\"],\"hamburger\":[\"/\",\"/todonoticias\"],\"footermenu1\":[\"/\"],\"primary\":[],\"Videos\":[]},\"order\":{\"default\":1014,\"site-map\":2005,\"footermenu1\":1006,\"hamburger\":2005}}},\"_website_section_id\":\"tn./policiales\",\"type\":\"section\",\"version\":\"0.6.0\"}}},\"created_date\":\"2023-08-03T17:33:32.204Z\",\"publish_date\":\"2023-08-03T19:55:51.428Z\",\"_id\":\"NATLS77AIVE4DMFV6NAT3OJ3FQ\",\"website\":\"tn\",\"website_url\":\"/policiales/2023/08/03/un-ladron-entro-a-robar-a-una-escuela-con-un-machete-y-un-nene-lo-echo-a-golpes-con-su-cinturon/\",\"content_elements\":[{\"_id\":\"S4PNRUT3A5DOZIX7BU5H6FC5UY\",\"additional_properties\":{\"inline_comments\":[],\"comments\":[],\"_id\":1679691640407},\"type\":\"text\",\"content\":\"Alumnos de un colegio de <a href=\\\"https://tn.com.ar/tags/salta/\\\" target=\\\"_blank\\\">Salta </a>vivieron momentos de terror mientras estaban en la clase de educación física. Según contó la directora,<b> un ladrón entró a robar y amenazó a la maestra </b><a href=\\\"https://tn.com.ar/tecno/redes-sociales/2023/07/28/un-profesor-encontro-el-machete-de-un-alumno-de-la-manera-mas-insolita-y-un-amigo-grabo-el-incomodo-momento/\\\" target=\\\"_blank\\\"><b>con un machete</b></a>. Uno de los estudiantes saltó a defenderla, <b>se sacó el cinturón y comenzó a golpearlo </b>hasta que pudieron detenerlo.\"},{\"_id\":\"2UUOHDFWUBGMVH6ZGEPGTJXKYU\",\"additional_properties\":{\"inline_comments\":[],\"comments\":[],\"_id\":1691084012623},\"type\":\"text\",\"content\":\"El violento episodio ocurrió el lunes, en el patio de la<b> Escuela N° 4851</b> <b>“Dr. Néstor Juan Taranto” </b>de la ciudad de San Ramón de la Nueva Orán, pero trascendió públicamente en las últimas horas.\"},{\"_id\":\"RNQ42URH4BAT5EFYTAEPZ3625Q\",\"additional_properties\":{\"inline_comments\":[],\"comments\":[],\"_id\":1691085784347},\"type\":\"text\",\"content\":\"<i><b>Leé también: </b></i><a href=\\\"https://tn.com.ar/policiales/2023/08/02/quien-es-claudio-wodtke-el-portero-profugo-acusado-de-abusar-de-dos-alumnos-en-un-colegio-de-maquinista-savio/\\\"><i><b>Quién es Claudio Wodtke, el portero prófugo acusado de abusar de dos alumnos en un colegio de Maquinista Savio</b></i></a>\"},{\"_id\":\"KCOA7RE4FVB6DF34NVM5WWLJT4\",\"additional_properties\":{\"inline_comments\":[],\"comments\":[],\"_id\":1691085784348},\"type\":\"text\",\"content\":\"Los alumnos estaban jugando en la cancha de básquet cuando un hombre se metió con un machete en la mano. El delincuente se acercó a la maestra, después la agarró del brazo y<b> le puso el arma en el cuello</b>.\"},{\"owner\":{\"sponsored\":false,\"id\":\"artear\"},\"address\":{},\"syndication\":{},\"auth\":{\"1\":\"7cb8fbeaadbe72060a4d2f5485832be226e154772cdd7c806584c00a21d5310a\"},\"caption\":\"La cancha de básquet donde sucedió el violento episodio en la escuela de Orán. (Google Street View)\",\"source\":{\"system\":\"photo center\",\"edit_url\":\"\",\"additional_properties\":{\"editor\":\"photo center\"}},\"taxonomy\":{\"associated_tasks\":[]},\"type\":\"image\",\"version\":\"0.10.9\",\"url\":\"https://cloudfront-us-east-1.images.arcpublishing.com/artear/EWIKKCT3DZGFHPSMBMHDZPZINE.jpg\",\"licensable\":false,\"credits\":{\"affiliation\":[]},\"subtitle\":\"cancha basquet\",\"width\":1366,\"_id\":\"EWIKKCT3DZGFHPSMBMHDZPZINE\",\"additional_properties\":{\"fullSizeResizeUrl\":\"/resizer/7F5oy39YowlbBAKiz3SaZiTnw0M=/arc-anglerfish-arc2-prod-artear/public/EWIKKCT3DZGFHPSMBMHDZPZINE.jpg\",\"owner\":\"cavillalba@artear.com\",\"comments\":[],\"proxyUrl\":\"/resizer/7F5oy39YowlbBAKiz3SaZiTnw0M=/arc-anglerfish-arc2-prod-artear/public/EWIKKCT3DZGFHPSMBMHDZPZINE.jpg\",\"originalUrl\":\"https://cloudfront-us-east-1.images.arcpublishing.com/artear/EWIKKCT3DZGFHPSMBMHDZPZINE.jpg\",\"published\":true,\"resizeUrl\":\"/resizer/7F5oy39YowlbBAKiz3SaZiTnw0M=/arc-anglerfish-arc2-prod-artear/public/EWIKKCT3DZGFHPSMBMHDZPZINE.jpg\",\"ingestionMethod\":\"manual\",\"thumbnailResizeUrl\":\"/resizer/5o8cJO7HMCP-C3nLWhgT8j76REU=/300x0/arc-anglerfish-arc2-prod-artear/public/EWIKKCT3DZGFHPSMBMHDZPZINE.jpg\",\"version\":0,\"originalName\":\"tn (3).jpg\",\"mime_type\":\"image/jpeg\",\"restricted\":false,\"template_id\":253,\"galleries\":[],\"_id\":\"27Q7SJDEYRE7BBB34MSKNFK4DA\"},\"created_date\":\"2023-08-03T17:54:19Z\",\"last_updated_date\":\"2023-08-03T17:54:19Z\",\"height\":765,\"image_type\":\"photograph\",\"resized_urls\":{\"original\":\"https://cloudfront-us-east-1.images.arcpublishing.com/artear/EWIKKCT3DZGFHPSMBMHDZPZINE.jpg\",\"lowResBody\":\"https://tn.com.ar/resizer/NDgZ8oJecy4noZne9a96nPkyy0w=/150x0/smart/filters:format(webp)/cloudfront-us-east-1.images.arcpublishing.com/artear/EWIKKCT3DZGFHPSMBMHDZPZINE.jpg\",\"small\":\"https://tn.com.ar/resizer/zYtdxc6qfEQCQQy3OkyLcd75pWs=/767x0/smart/filters:format(webp)/cloudfront-us-east-1.images.arcpublishing.com/artear/EWIKKCT3DZGFHPSMBMHDZPZINE.jpg\",\"medium\":\"https://tn.com.ar/resizer/exloFUuptQo25L5AAkb9XpLvb28=/1023x0/smart/filters:format(webp)/cloudfront-us-east-1.images.arcpublishing.com/artear/EWIKKCT3DZGFHPSMBMHDZPZINE.jpg\",\"large\":\"https://tn.com.ar/resizer/VxxP19hhED6bNICjVXAxb8m8dJI=/1440x0/smart/filters:format(webp)/cloudfront-us-east-1.images.arcpublishing.com/artear/EWIKKCT3DZGFHPSMBMHDZPZINE.jpg\"}},{\"_id\":\"QILMLUPU2JBOJLZSO6KPA37ECI\",\"additional_properties\":{\"inline_comments\":[],\"comments\":[],\"_id\":1691085784350},\"type\":\"text\",\"content\":\"<b>La profesora de educación física comenzó a gritar</b> para pedir ayuda. Los nenes de quinto grado se dieron vuelta y vieron que su maestra estaba en peligro. Uno de ellos no dudó ni un segundo, <b>se sacó el cinturón </b>y corrió hasta el agresor. <b>El alumno, de tan solo 11 años, lo golpeó hasta que el hombre soltó a la docente.</b>\"},{\"_id\":\"VDJ3PQZCTFHXJGXITY3GOXTFEY\",\"additional_properties\":{\"inline_comments\":[],\"comments\":[],\"_id\":1691085784351},\"type\":\"text\",\"content\":\"El hecho provocó un gran temor en la institución. Maestros y estudiantes corrían por todos lados, buscando donde resguardarse del agresor. La directora, que escuchó todo, llamó a la policía. Afortunadamente, a pocos metros de allí estaba la comisaría, por eso los oficiales no tardaron en llegar y se llevaron arrestado al atacante.\"},{\"_id\":\"TBCMSXY7ZVGRHAY2MNIKWWHSHA\",\"additional_properties\":{\"inline_comments\":[],\"comments\":[],\"_id\":1691085784352},\"type\":\"text\",\"content\":\"Según contó la directora Silvia Condorí, en diálogo con <i>Cadena 3</i>, el atacante<b> tiene “problemas de adicciones” </b>y había logrado entrar a la institución a través de un alambrado que estaba roto. <b>“Intentó robar el parlante que usaba la docente </b>y le puso el machete que traía en el cuello”, reveló sobre el incidente.\"}],\"promo_items\":{\"basic\":{\"owner\":{\"sponsored\":false,\"id\":\"artear\"},\"address\":{},\"syndication\":{},\"auth\":{\"1\":\"81dc9e837b9ff2c01180bb740392acf9ae0314fff6bb750eb1122bb32a04a31b\"},\"caption\":\"Pánico en la escuela N°4851 de Salta: un nene de 11 años defendió a cintazos a su maestra de un ladrón que había entrado a robar. (Foto: Google Street View)\",\"source\":{\"system\":\"photo center\",\"edit_url\":\"\",\"additional_properties\":{\"editor\":\"photo center\"}},\"taxonomy\":{\"associated_tasks\":[]},\"type\":\"image\",\"version\":\"0.10.9\",\"url\":\"https://cloudfront-us-east-1.images.arcpublishing.com/artear/WTW44JANTFB2VGFFPRURNRFEIA.jpg\",\"licensable\":false,\"credits\":{\"affiliation\":[]},\"width\":1366,\"_id\":\"WTW44JANTFB2VGFFPRURNRFEIA\",\"additional_properties\":{\"fullSizeResizeUrl\":\"/resizer/AbQW2-NjGf_gKDm-D-ikAj5yCTE=/arc-anglerfish-arc2-prod-artear/public/WTW44JANTFB2VGFFPRURNRFEIA.jpg\",\"owner\":\"cavillalba@artear.com\",\"proxyUrl\":\"/resizer/AbQW2-NjGf_gKDm-D-ikAj5yCTE=/arc-anglerfish-arc2-prod-artear/public/WTW44JANTFB2VGFFPRURNRFEIA.jpg\",\"originalUrl\":\"https://cloudfront-us-east-1.images.arcpublishing.com/artear/WTW44JANTFB2VGFFPRURNRFEIA.jpg\",\"published\":true,\"resizeUrl\":\"/resizer/AbQW2-NjGf_gKDm-D-ikAj5yCTE=/arc-anglerfish-arc2-prod-artear/public/WTW44JANTFB2VGFFPRURNRFEIA.jpg\",\"ingestionMethod\":\"manual\",\"thumbnailResizeUrl\":\"/resizer/S-iYnst9wYmQhDLZFpqHQhWKOXU=/300x0/arc-anglerfish-arc2-prod-artear/public/WTW44JANTFB2VGFFPRURNRFEIA.jpg\",\"version\":0,\"originalName\":\"tn (1).jpg\",\"mime_type\":\"image/jpeg\",\"restricted\":false,\"template_id\":253,\"galleries\":[]},\"created_date\":\"2023-08-03T17:55:04Z\",\"last_updated_date\":\"2023-08-03T17:55:04Z\",\"height\":765,\"image_type\":\"photograph\",\"resized_urls\":{\"original\":\"https://cloudfront-us-east-1.images.arcpublishing.com/artear/WTW44JANTFB2VGFFPRURNRFEIA.jpg\",\"lowResBody\":\"https://tn.com.ar/resizer/yaJYWfB5gvlWoCjOCk1NtBDYpL8=/150x0/smart/filters:format(webp)/cloudfront-us-east-1.images.arcpublishing.com/artear/WTW44JANTFB2VGFFPRURNRFEIA.jpg\",\"small\":\"https://tn.com.ar/resizer/UD6xt2BZlV-Bf11nw4f_Ig-9eT8=/767x0/smart/filters:format(webp)/cloudfront-us-east-1.images.arcpublishing.com/artear/WTW44JANTFB2VGFFPRURNRFEIA.jpg\",\"medium\":\"https://tn.com.ar/resizer/lmKNhJ3ExwEnRGBZQnBTvxxvGuM=/1023x0/smart/filters:format(webp)/cloudfront-us-east-1.images.arcpublishing.com/artear/WTW44JANTFB2VGFFPRURNRFEIA.jpg\",\"large\":\"https://tn.com.ar/resizer/7vaLpC8HD7cFHFlluI8m7cj_OQA=/1440x0/smart/filters:format(webp)/cloudfront-us-east-1.images.arcpublishing.com/artear/WTW44JANTFB2VGFFPRURNRFEIA.jpg\"}}},\"credits\":{\"by\":[]}},{\"subheadlines\":{\"basic\":\"La salvaje agresión ocurrió este jueves cuando el menor se dirigía a su colegio, ubicado en la localidad bonaerense de Rafael Castillo. Los ladrones lo atacaron con una navaja para robarle la mochila y el celular.\"},\"description\":{\"basic\":\"\"},\"language\":\"\",\"source\":{\"system\":\"composer\",\"name\":\"artear\",\"source_type\":\"staff\"},\"taxonomy\":{\"sections\":[{\"path\":\"/policiales\",\"parent\":{\"default\":\"/\"},\"_website\":\"tn\",\"parent_id\":\"/\",\"name\":\"Policiales\",\"_id\":\"/policiales\",\"additional_properties\":{\"original\":{\"parent\":{\"default\":\"/\",\"site-map\":\"/todo-noticias\",\"hamburger\":\"/todonoticias\",\"footermenu1\":\"/\",\"primary\":null,\"Videos\":null},\"site\":{\"site_url\":\"/policiales/\"},\"inactive\":false,\"node_type\":\"section\",\"_website\":\"tn\",\"name\":\"Policiales\",\"_id\":\"/policiales\",\"ancestors\":{\"default\":[\"/\"],\"site-map\":[\"/\",\"/todo-noticias\"],\"hamburger\":[\"/\",\"/todonoticias\"],\"footermenu1\":[\"/\"],\"primary\":[],\"Videos\":[]},\"order\":{\"default\":1014,\"site-map\":2005,\"footermenu1\":1005,\"hamburger\":2005}}},\"_website_section_id\":\"tn./policiales\",\"type\":\"section\",\"version\":\"0.6.0\"}],\"primary_section\":{\"path\":\"/policiales\",\"parent\":{\"default\":\"/\"},\"_website\":\"tn\",\"parent_id\":\"/\",\"name\":\"Policiales\",\"_id\":\"/policiales\",\"additional_properties\":{\"original\":{\"parent\":{\"default\":\"/\",\"site-map\":\"/todo-noticias\",\"hamburger\":\"/todonoticias\",\"footermenu1\":\"/\",\"primary\":null,\"Videos\":null},\"site\":{\"site_url\":\"/policiales/\"},\"inactive\":false,\"node_type\":\"section\",\"_website\":\"tn\",\"name\":\"Policiales\",\"_id\":\"/policiales\",\"ancestors\":{\"default\":[\"/\"],\"site-map\":[\"/\",\"/todo-noticias\"],\"hamburger\":[\"/\",\"/todonoticias\"],\"footermenu1\":[\"/\"],\"primary\":[],\"Videos\":[]},\"order\":{\"default\":1014,\"site-map\":2005,\"footermenu1\":1005,\"hamburger\":2005}}},\"type\":\"section\",\"version\":\"0.6.0\"},\"tags\":[{\"description\":\"la matanza\",\"text\":\"La Matanza\",\"slug\":\"la-matanza\"},{\"description\":\"ataque\",\"text\":\"ataque\",\"slug\":\"ataque\"},{\"description\":\"cuchillo\",\"text\":\"cuchillo\",\"slug\":\"cuchillo\"},{\"description\":\"robo\",\"text\":\"Robo\",\"slug\":\"robo\"},{\"description\":\"Escuela\",\"text\":\"Escuela\",\"slug\":\"escuela\"}]},\"type\":\"story\",\"related_content\":{\"redirect\":[],\"basic\":[]},\"geo\":{},\"subtype\":\"article\",\"first_publish_date\":\"2023-06-03T14:12:54.281Z\",\"additional_properties\":{\"is_published\":true,\"clipboard\":{},\"publish_date\":\"2023-06-03T14:12:54.281Z\",\"has_published_copy\":true},\"last_updated_date\":\"2023-06-03T15:22:28.698Z\",\"publishing\":{\"scheduled_operations\":{\"unpublish_edition\":[],\"publish_edition\":[]}},\"owner\":{\"sponsored\":false,\"id\":\"artear\"},\"address\":{},\"workflow\":{\"note\":\"\",\"status_code\":3},\"label\":{\"redactor\":{\"display\":true,\"text\":\"Ángeles Raffaele\"}},\"canonical_url\":\"/policiales/2023/06/03/un-chico-de-13-anos-fue-acuchillado-por-dos-ladrones-cuando-iba-a-la-escuela-y-fue-rescatado-por-los-vecinos/\",\"version\":\"0.10.9\",\"distributor\":{\"name\":\"artear\",\"category\":\"staff\",\"subcategory\":\"\"},\"canonical_website\":\"tn\",\"revision\":{\"editions\":[\"default\"],\"user_id\":\"aacciardi@artear.com\",\"parent_id\":\"RUD77OFGGBGCZKOEIJNVTK6LZ4\",\"published\":true,\"branch\":\"default\",\"revision_id\":\"WS3DF3AEFJD2ZEZSQ7KVP3GU64\"},\"planning\":{\"internal_note\":\"\",\"story_length\":{\"character_encoding\":\"UTF-16\",\"character_count_actual\":1558,\"inch_count_actual\":2,\"word_count_actual\":283,\"line_count_actual\":13}},\"display_date\":\"2023-06-03T14:12:54.281Z\",\"headlines\":{\"tablet\":\"\",\"print\":\"\",\"meta_title\":\"La Matanza: un chico de 13 años fue acuchillado por dos ladrones cuando iba a la escuela y fue rescatado por los vecinos\",\"native\":\"\",\"web\":\"\",\"mobile\":\"Inseguridad\",\"basic\":\"Un chico de 13 años fue acuchillado por dos ladrones cuando iba a la escuela: lo rescataron los vecinos\"},\"websites\":{\"tn\":{\"website_url\":\"/policiales/2023/06/03/un-chico-de-13-anos-fue-acuchillado-por-dos-ladrones-cuando-iba-a-la-escuela-y-fue-rescatado-por-los-vecinos/\",\"website_section\":{\"path\":\"/policiales\",\"parent\":{\"default\":\"/\"},\"_website\":\"tn\",\"parent_id\":\"/\",\"name\":\"Policiales\",\"_id\":\"/policiales\",\"additional_properties\":{\"original\":{\"parent\":{\"default\":\"/\",\"site-map\":\"/todo-noticias\",\"hamburger\":\"/todonoticias\",\"footermenu1\":\"/\",\"primary\":null,\"Videos\":null},\"site\":{\"site_url\":\"/policiales/\"},\"inactive\":false,\"node_type\":\"section\",\"_website\":\"tn\",\"name\":\"Policiales\",\"_id\":\"/policiales\",\"ancestors\":{\"default\":[\"/\"],\"site-map\":[\"/\",\"/todo-noticias\"],\"hamburger\":[\"/\",\"/todonoticias\"],\"footermenu1\":[\"/\"],\"primary\":[],\"Videos\":[]},\"order\":{\"default\":1014,\"site-map\":2005,\"footermenu1\":1005,\"hamburger\":2005}}},\"_website_section_id\":\"tn./policiales\",\"type\":\"section\",\"version\":\"0.6.0\"}}},\"created_date\":\"2023-06-03T13:06:54.939Z\",\"publish_date\":\"2023-06-03T15:22:28.412Z\",\"_id\":\"NYXJVMR5ERGX5CTTKA34SCI2QM\",\"website\":\"tn\",\"website_url\":\"/policiales/2023/06/03/un-chico-de-13-anos-fue-acuchillado-por-dos-ladrones-cuando-iba-a-la-escuela-y-fue-rescatado-por-los-vecinos/\",\"content_elements\":[{\"_id\":\"DBF7VJX4GFET5FLAXBYXIOHSAU\",\"additional_properties\":{\"inline_comments\":[],\"comments\":[],\"_id\":1685800666752},\"type\":\"text\",\"content\":\"<b>Un adolescente de 13 años</b> fue atacado por <b>dos delincuentes con un cuchillo</b> cuando iba a la escuela y le tuvieron que dar <b>más de 20 puntos por las lesiones</b>.\"},{\"_id\":\"GSSJFFFSIFCBXM5EAVHPXEQGLI\",\"additional_properties\":{\"inline_comments\":[],\"comments\":[],\"_id\":1685800666753},\"type\":\"text\",\"content\":\"<a href=\\\"https://tn.com.ar/policiales/2023/05/27/apunalo-a-su-pareja-frente-a-sus-hijos-y-dio-una-insolita-explicacion-fue-sin-querer-lo-amo-mucho/\\\" target=\\\"_blank\\\"><i><b>Apuñaló a su pareja frente a sus hijos y dio una insólita explicación: “Fue sin querer, lo amo mucho”</b></i></a>\"},{\"_id\":\"G756B25YJZENFGEH2TBETBFV4U\",\"additional_properties\":{\"inline_comments\":[],\"comments\":[],\"_id\":1685800666754},\"type\":\"text\",\"content\":\"EL hecho ocurrió este jueves en la esquina de Juan Jufré y Bogado, en la localidad de Rafael Castillo, en<b> </b><a href=\\\"https://tn.com.ar/policiales/2023/05/15/una-joven-de-25-anos-fue-asesinada-en-la-matanza-en-un-fallido-ajuste-de-cuentas-por-venta-de-drogas/\\\" target=\\\"_blank\\\"><b>La Matanza</b></a>. <b>Thiago Benítez iba rumbo a la Escuela N° 117</b> cuando fue interceptado por dos ladrones que le quisieron<b> robar su mochila y celular</b>.\"},{\"_id\":\"PF3TX2FKHJHZRO7DUTRW66XMSQ\",\"additional_properties\":{\"inline_comments\":[],\"comments\":[],\"_id\":1685800666755},\"type\":\"text\",\"content\":\"Los delincuentes lo amenazaron con una navaja para que le entregara sus pertenencias pero el menor se resistió y fue herido. Producto del ataque, <b>Thiago recibió más de 20 puntos</b> en su brazo izquierdo, al costado del abdomen y en el rostro.\"},{\"owner\":{\"sponsored\":false,\"id\":\"artear\"},\"address\":{},\"syndication\":{},\"auth\":{\"1\":\"1212fcb9345793f0f72af3c69e7fb262c4635f035b5e17bb843c91c8924aa552\"},\"caption\":\"Thiago Benítez recibió más de 20 puntos productos de las lesiones con una navaja. (Foto: Primer Plano)\",\"source\":{\"system\":\"photo center\",\"edit_url\":\"\",\"additional_properties\":{\"editor\":\"photo center\"}},\"taxonomy\":{\"associated_tasks\":[]},\"type\":\"image\",\"version\":\"0.10.9\",\"url\":\"https://cloudfront-us-east-1.images.arcpublishing.com/artear/Z6NTHATKURFGZCVMS3H5NRE7U4.JPG\",\"licensable\":false,\"credits\":{\"affiliation\":[]},\"subtitle\":\"adolescente atacado\",\"width\":668,\"_id\":\"Z6NTHATKURFGZCVMS3H5NRE7U4\",\"additional_properties\":{\"fullSizeResizeUrl\":\"/resizer/IBoOgdQpOayByhW-GM-pPxV600g=/arc-anglerfish-arc2-prod-artear/public/Z6NTHATKURFGZCVMS3H5NRE7U4.JPG\",\"owner\":\"maria_angelesraffaele@hotmail.com\",\"comments\":[],\"proxyUrl\":\"/resizer/IBoOgdQpOayByhW-GM-pPxV600g=/arc-anglerfish-arc2-prod-artear/public/Z6NTHATKURFGZCVMS3H5NRE7U4.JPG\",\"originalUrl\":\"https://cloudfront-us-east-1.images.arcpublishing.com/artear/Z6NTHATKURFGZCVMS3H5NRE7U4.JPG\",\"published\":true,\"resizeUrl\":\"/resizer/IBoOgdQpOayByhW-GM-pPxV600g=/arc-anglerfish-arc2-prod-artear/public/Z6NTHATKURFGZCVMS3H5NRE7U4.JPG\",\"ingestionMethod\":\"manual\",\"thumbnailResizeUrl\":\"/resizer/zSt2FJF3BOAtwAAPuG8vBpKfQT0=/300x0/arc-anglerfish-arc2-prod-artear/public/Z6NTHATKURFGZCVMS3H5NRE7U4.JPG\",\"version\":0,\"originalName\":\"ataque menor cuchillo lesiones.JPG\",\"mime_type\":\"image/jpeg\",\"restricted\":false,\"template_id\":253,\"galleries\":[],\"_id\":\"QHACZWUCTRADXLL6SQB3CGQHEY\"},\"created_date\":\"2023-06-03T13:49:32Z\",\"last_updated_date\":\"2023-06-03T13:49:32Z\",\"height\":379,\"image_type\":\"photograph\",\"resized_urls\":{\"original\":\"https://cloudfront-us-east-1.images.arcpublishing.com/artear/Z6NTHATKURFGZCVMS3H5NRE7U4.JPG\",\"lowResBody\":\"https://tn.com.ar/resizer/TUbLzoCPZFEpYgkYMXRwxydbZMo=/150x0/smart/filters:format(webp)/cloudfront-us-east-1.images.arcpublishing.com/artear/Z6NTHATKURFGZCVMS3H5NRE7U4.JPG\",\"small\":\"https://tn.com.ar/resizer/n7UWHkq_x0BLjsYKYTwRrSN3mUk=/767x0/smart/filters:format(webp)/cloudfront-us-east-1.images.arcpublishing.com/artear/Z6NTHATKURFGZCVMS3H5NRE7U4.JPG\",\"medium\":\"https://tn.com.ar/resizer/JoH9o_OT2gDCwgUlQWJB4JLOxOo=/1023x0/smart/filters:format(webp)/cloudfront-us-east-1.images.arcpublishing.com/artear/Z6NTHATKURFGZCVMS3H5NRE7U4.JPG\",\"large\":\"https://tn.com.ar/resizer/AZSjXP3cc9FOalXImeorM-Jz-d8=/1440x0/smart/filters:format(webp)/cloudfront-us-east-1.images.arcpublishing.com/artear/Z6NTHATKURFGZCVMS3H5NRE7U4.JPG\"}},{\"_id\":\"DG7CQHB5UFETXPF4HKYVGK47G4\",\"additional_properties\":{\"inline_comments\":[],\"comments\":[],\"_id\":1685800666757},\"type\":\"text\",\"content\":\"“<b>Mi hijo volvió a nacer</b>”, aseguró su madre Nidia luego del salvaje ataque que sufrió Thiago a tan solo una cuadra de su casa.\"},{\"_id\":\"7G6XPM4GHVCFRB6M2EUJZP2WAY\",\"additional_properties\":{\"inline_comments\":[],\"comments\":[],\"_id\":1685800666758},\"type\":\"text\",\"content\":\"Es que en ese momento, el chico<b> logró pedir ayuda a los vecinos y comerciantes de la zona</b>, que logaron asistirlo y dieron aviso a la escuela y a la policía.\"},{\"_id\":\"7PUER4PDS5CARKYPJNTQ4WFICQ\",\"additional_properties\":{\"inline_comments\":[],\"comments\":[],\"_id\":1685800666759},\"type\":\"text\",\"content\":\"<i><b>Leé también: </b></i><a href=\\\"https://tn.com.ar/policiales/2023/05/12/un-joven-apunalo-a-su-exnovia-en-medio-de-una-clase-y-frente-a-todos-sus-companeros/\\\" target=\\\"_blank\\\"><i><b>Un joven apuñaló a su exnovia en medio de una clase y frente a todos sus compañeros</b></i></a>\"},{\"_id\":\"KGO2WEN62BBPXIWOPRSO4JSYXQ\",\"additional_properties\":{\"inline_comments\":[],\"comments\":[],\"_id\":1685800666760},\"type\":\"text\",\"content\":\"El adolescente, que cursa segundo de año de la secundaria, fue trasladado al Hospital Favaloro, donde se le realizaron las primeras curaciones y, luego, fue derivado a un centro de salud privado en Capital Federal.\"},{\"_id\":\"EZAG7TGNINACJN5JDPPMQEQOJQ\",\"additional_properties\":{\"inline_comments\":[],\"comments\":[],\"_id\":1685800666761},\"type\":\"text\",\"content\":\"“Anoche la pasó mal, con <b>pesadillas</b>. En ese momento está tranquilo, pero ya <b>me recomendaron que busque psicólogo</b> para que empiece a hacer tratamiento”, relató Nidia sobre el estado de salud de su hijo al portal <i>Primer Plano</i>.\"}],\"promo_items\":{\"basic\":{\"owner\":{\"sponsored\":false,\"id\":\"artear\"},\"address\":{},\"syndication\":{},\"auth\":{\"1\":\"42282717700e71f46f9c9db0b7a76a3ee0ea69474ec41f74437c6bd13866c7b1\"},\"caption\":\"Un chico de 13 años fue atacado por ladrones cuando iba a la escuela. (Foto: Google Maps).\",\"source\":{\"system\":\"photo center\",\"edit_url\":\"\",\"additional_properties\":{\"editor\":\"photo center\"}},\"taxonomy\":{\"associated_tasks\":[]},\"type\":\"image\",\"version\":\"0.10.9\",\"url\":\"https://cloudfront-us-east-1.images.arcpublishing.com/artear/DISUJ7232FHSDPXXXEQHZPYS7I.PNG\",\"licensable\":false,\"credits\":{\"affiliation\":[]},\"subtitle\":\"Un chico de 13 años fue atacado por ladrones cuando iba a la escuela. (Foto: Google Maps).\",\"width\":880,\"_id\":\"DISUJ7232FHSDPXXXEQHZPYS7I\",\"additional_properties\":{\"fullSizeResizeUrl\":\"/resizer/Jz9WQedibcLAHIlG6VoIl24xiPU=/arc-anglerfish-arc2-prod-artear/public/DISUJ7232FHSDPXXXEQHZPYS7I.PNG\",\"owner\":\"aacciardi@artear.com\",\"proxyUrl\":\"/resizer/Jz9WQedibcLAHIlG6VoIl24xiPU=/arc-anglerfish-arc2-prod-artear/public/DISUJ7232FHSDPXXXEQHZPYS7I.PNG\",\"originalUrl\":\"https://cloudfront-us-east-1.images.arcpublishing.com/artear/DISUJ7232FHSDPXXXEQHZPYS7I.PNG\",\"published\":true,\"resizeUrl\":\"/resizer/Jz9WQedibcLAHIlG6VoIl24xiPU=/arc-anglerfish-arc2-prod-artear/public/DISUJ7232FHSDPXXXEQHZPYS7I.PNG\",\"ingestionMethod\":\"manual\",\"thumbnailResizeUrl\":\"/resizer/XBQK0PiMZ6joiUet0y713dKTlcw=/300x0/arc-anglerfish-arc2-prod-artear/public/DISUJ7232FHSDPXXXEQHZPYS7I.PNG\",\"version\":0,\"originalName\":\"escuela.PNG\",\"mime_type\":\"image/png\",\"restricted\":false,\"template_id\":253,\"galleries\":[]},\"created_date\":\"2023-06-03T14:12:45Z\",\"last_updated_date\":\"2023-06-03T14:12:45Z\",\"height\":540,\"image_type\":\"photograph\",\"resized_urls\":{\"original\":\"https://cloudfront-us-east-1.images.arcpublishing.com/artear/DISUJ7232FHSDPXXXEQHZPYS7I.PNG\",\"lowResBody\":\"https://tn.com.ar/resizer/XT9Iwohmrb33HGvWCsEB1Ig5caI=/150x0/smart/filters:format(webp)/cloudfront-us-east-1.images.arcpublishing.com/artear/DISUJ7232FHSDPXXXEQHZPYS7I.PNG\",\"small\":\"https://tn.com.ar/resizer/MUxQMpvfrZTQvruBM8pC5k9Uc8A=/767x0/smart/filters:format(webp)/cloudfront-us-east-1.images.arcpublishing.com/artear/DISUJ7232FHSDPXXXEQHZPYS7I.PNG\",\"medium\":\"https://tn.com.ar/resizer/W5tJaZq4nHaj4YG_2IK1tZZ8UrE=/1023x0/smart/filters:format(webp)/cloudfront-us-east-1.images.arcpublishing.com/artear/DISUJ7232FHSDPXXXEQHZPYS7I.PNG\",\"large\":\"https://tn.com.ar/resizer/X67X2FQbgMonvMckQg4X6KAkxvc=/1440x0/smart/filters:format(webp)/cloudfront-us-east-1.images.arcpublishing.com/artear/DISUJ7232FHSDPXXXEQHZPYS7I.PNG\"}}},\"credits\":{\"by\":[]}},{\"subheadlines\":{\"basic\":\"Las autoridades creen que los delincuentes ingresaron al establecimiento durante el fin de semana. Había rejas forzadas, cajones revueltos y muebles rotos. \"},\"description\":{\"basic\":\"\"},\"language\":\"\",\"source\":{\"system\":\"composer\",\"name\":\"artear\",\"source_type\":\"staff\"},\"taxonomy\":{\"sections\":[{\"path\":\"/policiales\",\"parent\":{\"default\":\"/\"},\"_website\":\"tn\",\"parent_id\":\"/\",\"name\":\"Policiales\",\"_id\":\"/policiales\",\"additional_properties\":{\"original\":{\"parent\":{\"default\":\"/\",\"site-map\":\"/todo-noticias\",\"hamburger\":\"/todonoticias\",\"footermenu1\":\"/\",\"primary\":null,\"Videos\":null},\"site\":{\"site_url\":\"/policiales/\"},\"inactive\":false,\"node_type\":\"section\",\"_website\":\"tn\",\"name\":\"Policiales\",\"_id\":\"/policiales\",\"ancestors\":{\"default\":[\"/\"],\"site-map\":[\"/\",\"/todo-noticias\"],\"hamburger\":[\"/\",\"/todonoticias\"],\"footermenu1\":[\"/\"],\"primary\":[],\"Videos\":[]},\"order\":{\"default\":1014,\"site-map\":2005,\"footermenu1\":1005,\"hamburger\":2005}}},\"_website_section_id\":\"tn./policiales\",\"type\":\"section\",\"version\":\"0.6.0\"}],\"primary_section\":{\"path\":\"/policiales\",\"parent\":{\"default\":\"/\"},\"_website\":\"tn\",\"parent_id\":\"/\",\"name\":\"Policiales\",\"_id\":\"/policiales\",\"additional_properties\":{\"original\":{\"parent\":{\"default\":\"/\",\"site-map\":\"/todo-noticias\",\"hamburger\":\"/todonoticias\",\"footermenu1\":\"/\",\"primary\":null,\"Videos\":null},\"site\":{\"site_url\":\"/policiales/\"},\"inactive\":false,\"node_type\":\"section\",\"_website\":\"tn\",\"name\":\"Policiales\",\"_id\":\"/policiales\",\"ancestors\":{\"default\":[\"/\"],\"site-map\":[\"/\",\"/todo-noticias\"],\"hamburger\":[\"/\",\"/todonoticias\"],\"footermenu1\":[\"/\"],\"primary\":[],\"Videos\":[]},\"order\":{\"default\":1014,\"site-map\":2005,\"footermenu1\":1005,\"hamburger\":2005}}},\"type\":\"section\",\"version\":\"0.6.0\"},\"tags\":[{\"description\":\"Moreno\",\"text\":\"Moreno\",\"slug\":\"moreno\"},{\"description\":\"robo\",\"text\":\"Robo\",\"slug\":\"robo\"},{\"description\":\"Escuela\",\"text\":\"Escuela\",\"slug\":\"escuela\"}]},\"type\":\"story\",\"related_content\":{\"redirect\":[],\"basic\":[]},\"geo\":{},\"subtype\":\"article\",\"first_publish_date\":\"2023-04-19T12:21:07.365Z\",\"additional_properties\":{\"is_published\":true,\"clipboard\":{},\"publish_date\":\"2023-04-19T12:22:03.713Z\",\"has_published_copy\":true},\"last_updated_date\":\"2023-04-19T12:35:55.826Z\",\"publishing\":{\"scheduled_operations\":{\"unpublish_edition\":[],\"publish_edition\":[]}},\"owner\":{\"sponsored\":false,\"id\":\"artear\"},\"address\":{},\"workflow\":{\"note\":\"\",\"status_code\":2},\"label\":{\"redactor\":{\"display\":true,\"text\":\"Ángeles Raffaele\"}},\"canonical_url\":\"/policiales/2023/04/19/en-una-semana-robaron-dos-veces-una-escuela-en-moreno-se-llevaron-hasta-el-bronce-del-mastil/\",\"version\":\"0.10.9\",\"distributor\":{\"name\":\"artear\",\"category\":\"staff\",\"subcategory\":\"\"},\"canonical_website\":\"tn\",\"revision\":{\"editions\":[\"default\"],\"user_id\":\"ppadula@artear.com\",\"parent_id\":\"HT7YF3JF7FA7PMHXAMJ344UGLY\",\"published\":true,\"branch\":\"default\",\"revision_id\":\"UFA7WPOJA5AZ3NFTOLQYOHEQVQ\"},\"planning\":{\"internal_note\":\"\",\"story_length\":{\"character_encoding\":\"UTF-16\",\"character_count_actual\":2896,\"inch_count_actual\":3,\"word_count_actual\":492,\"line_count_actual\":21}},\"display_date\":\"2023-04-19T12:21:07.365Z\",\"headlines\":{\"tablet\":\"\",\"print\":\"\",\"meta_title\":\"En una semana, robaron dos veces una escuela en Moreno: se llevaron hasta el bronce del mástil\",\"native\":\"\",\"web\":\"\",\"mobile\":\"Inseguridad\",\"basic\":\"En una semana robaron dos veces una escuela en Moreno: se llevaron hasta el bronce del mástil\"},\"websites\":{\"tn\":{\"website_url\":\"/policiales/2023/04/19/en-una-semana-robaron-dos-veces-una-escuela-en-moreno-se-llevaron-hasta-el-bronce-del-mastil/\",\"website_section\":{\"path\":\"/policiales\",\"parent\":{\"default\":\"/\"},\"_website\":\"tn\",\"parent_id\":\"/\",\"name\":\"Policiales\",\"_id\":\"/policiales\",\"additional_properties\":{\"original\":{\"parent\":{\"default\":\"/\",\"site-map\":\"/todo-noticias\",\"hamburger\":\"/todonoticias\",\"footermenu1\":\"/\",\"primary\":null,\"Videos\":null},\"site\":{\"site_url\":\"/policiales/\"},\"inactive\":false,\"node_type\":\"section\",\"_website\":\"tn\",\"name\":\"Policiales\",\"_id\":\"/policiales\",\"ancestors\":{\"default\":[\"/\"],\"site-map\":[\"/\",\"/todo-noticias\"],\"hamburger\":[\"/\",\"/todonoticias\"],\"footermenu1\":[\"/\"],\"primary\":[],\"Videos\":[]},\"order\":{\"default\":1014,\"site-map\":2005,\"footermenu1\":1005,\"hamburger\":2005}}},\"_website_section_id\":\"tn./policiales\",\"type\":\"section\",\"version\":\"0.6.0\"}}},\"created_date\":\"2023-04-19T11:14:11.407Z\",\"publish_date\":\"2023-04-19T12:35:55.519Z\",\"_id\":\"QDUFO4G3KVDUDJ3ZXEC6SGNK34\",\"website\":\"tn\",\"website_url\":\"/policiales/2023/04/19/en-una-semana-robaron-dos-veces-una-escuela-en-moreno-se-llevaron-hasta-el-bronce-del-mastil/\",\"content_elements\":[{\"_id\":\"32GEIDG4XBBFLJ5K7QA6PFRMAU\",\"additional_properties\":{\"inline_comments\":[],\"comments\":[],\"_id\":1681906161789},\"type\":\"text\",\"content\":\"Una<b> escuela</b> del partido bonaerense de Moreno<b> fue asaltada</b> <b>dos veces en una semana</b>. Además del robo, hubo <b>destrozos</b> en el establecimiento y los delincuentes se llevaron hasta<b> el bronce del mástil</b>.\"},{\"_id\":\"INWNG6A2NJDTJNZA5JNDXTVSOY\",\"additional_properties\":{\"inline_comments\":[],\"comments\":[],\"_id\":1681906161790},\"type\":\"text\",\"content\":\"<i><b>Leé también: </b></i><a href=\\\"https://tn.com.ar/policiales/2023/04/12/cordoba-una-adolescente-de-15-anos-fue-baleada-cuando-volvia-del-colegio-para-robarle-el-celular-y-la-mochila/\\\" target=\\\"_blank\\\"><i><b>Una adolescente fue baleada cuando volvía del colegio: le robaron el celular y la mochila</b></i></a>\"},{\"_id\":\"GV6XEBVWWBFLFK6WZTUV23DF3A\",\"additional_properties\":{\"inline_comments\":[],\"comments\":[],\"_id\":1681906161791},\"type\":\"text\",\"content\":\"El hecho ocurrió durante el fin de semana en la Escuela Primaria N° 3, ubicada en la Avenida Bartolomé Mitre 3217. Al llegar al establecimiento, las autoridades se encontraron con que <b>un grupo de ladrones había ingresado a robar</b>. Había cajones revueltos, armarios rotos y rejas forzadas.\"},{\"owner\":{\"sponsored\":false,\"id\":\"artear\"},\"address\":{},\"syndication\":{},\"caption\":\"Los delincuentes forzaron la reja para entrar. (Foto: captura video)\",\"source\":{\"system\":\"photo center\",\"edit_url\":\"\",\"additional_properties\":{\"editor\":\"photo center\"}},\"taxonomy\":{\"associated_tasks\":[]},\"type\":\"image\",\"version\":\"0.10.3\",\"url\":\"https://cloudfront-us-east-1.images.arcpublishing.com/artear/S4ZOVDRQJ5GLTMEHWVK4SX3MFI.jpeg\",\"licensable\":false,\"credits\":{\"affiliation\":[]},\"subtitle\":\"robo escuela moreno\",\"width\":1920,\"_id\":\"S4ZOVDRQJ5GLTMEHWVK4SX3MFI\",\"additional_properties\":{\"fullSizeResizeUrl\":\"/resizer/c7tmlHle-tK2YxqzumoqVcmiOv8=/arc-anglerfish-arc2-prod-artear/public/S4ZOVDRQJ5GLTMEHWVK4SX3MFI.jpeg\",\"owner\":\"maria_angelesraffaele@hotmail.com\",\"comments\":[],\"proxyUrl\":\"/resizer/c7tmlHle-tK2YxqzumoqVcmiOv8=/arc-anglerfish-arc2-prod-artear/public/S4ZOVDRQJ5GLTMEHWVK4SX3MFI.jpeg\",\"originalUrl\":\"https://cloudfront-us-east-1.images.arcpublishing.com/artear/S4ZOVDRQJ5GLTMEHWVK4SX3MFI.jpeg\",\"published\":true,\"resizeUrl\":\"/resizer/c7tmlHle-tK2YxqzumoqVcmiOv8=/arc-anglerfish-arc2-prod-artear/public/S4ZOVDRQJ5GLTMEHWVK4SX3MFI.jpeg\",\"ingestionMethod\":\"manual\",\"thumbnailResizeUrl\":\"/resizer/InW9jFOYCEQjDmkSRuUAQgc5YXc=/300x0/arc-anglerfish-arc2-prod-artear/public/S4ZOVDRQJ5GLTMEHWVK4SX3MFI.jpeg\",\"version\":0,\"originalName\":\"robo escuela 2.jpeg\",\"mime_type\":\"image/jpeg\",\"restricted\":false,\"template_id\":253,\"galleries\":[],\"_id\":\"K66A5M5GLRHKNDWHW5VEO3UOJU\"},\"created_date\":\"2023-04-19T11:46:55Z\",\"last_updated_date\":\"2023-04-19T11:46:55Z\",\"height\":1080,\"image_type\":\"photograph\",\"auth\":{\"1\":\"cb6a58d161e147af4ef4debf731b5f9f5a171c4c00c9b95b8588d28fd2e9f976\"},\"resized_urls\":{\"original\":\"https://cloudfront-us-east-1.images.arcpublishing.com/artear/S4ZOVDRQJ5GLTMEHWVK4SX3MFI.jpeg\",\"lowResBody\":\"https://tn.com.ar/resizer/lITiZ0uK8gR6t86n9Yu_wfmygc0=/150x0/smart/filters:format(webp)/cloudfront-us-east-1.images.arcpublishing.com/artear/S4ZOVDRQJ5GLTMEHWVK4SX3MFI.jpeg\",\"small\":\"https://tn.com.ar/resizer/rpedFkjJIo_s2-4krkah2K99g0E=/767x0/smart/filters:format(webp)/cloudfront-us-east-1.images.arcpublishing.com/artear/S4ZOVDRQJ5GLTMEHWVK4SX3MFI.jpeg\",\"medium\":\"https://tn.com.ar/resizer/RRzuADT_DTMJDrDKFiEAgQR0rrk=/1023x0/smart/filters:format(webp)/cloudfront-us-east-1.images.arcpublishing.com/artear/S4ZOVDRQJ5GLTMEHWVK4SX3MFI.jpeg\",\"large\":\"https://tn.com.ar/resizer/nP6JXf8Qg1kFws0y1VwG4tdWsqo=/1440x0/smart/filters:format(webp)/cloudfront-us-east-1.images.arcpublishing.com/artear/S4ZOVDRQJ5GLTMEHWVK4SX3MFI.jpeg\"}},{\"_id\":\"JW27ELISAJCRFD3GQNH2B6C3FU\",\"additional_properties\":{\"inline_comments\":[],\"comments\":[],\"_id\":1681906161793},\"type\":\"text\",\"content\":\"“<b>Llegamos el lunes y nos encontramos que la escuela que estaba cerrada</b>”, señaló una madre, que se enteró del robo cuando llevó a su hijo a clases.\"},{\"_id\":\"M323CZIWUVHIPFRVHI6JXNQPPM\",\"additional_properties\":{\"inline_comments\":[],\"comments\":[],\"_id\":1681906161794},\"type\":\"text\",\"content\":\"Sin embargo, no es la primera vez que la escuela sufre este tipo de ataques. La semana pasada también había sido violentada. En esa oportunidad, <b>se llevaron las netbooks de los alumnos</b>.\"},{\"owner\":{\"sponsored\":false,\"id\":\"artear\"},\"address\":{},\"syndication\":{},\"caption\":\"La semana pasada habían robado netbooks de la escuela.(Foto: captura video)\",\"source\":{\"system\":\"photo center\",\"edit_url\":\"\",\"additional_properties\":{\"editor\":\"photo center\"}},\"taxonomy\":{\"associated_tasks\":[]},\"type\":\"image\",\"version\":\"0.10.3\",\"url\":\"https://cloudfront-us-east-1.images.arcpublishing.com/artear/QW4JOMMK55C2BIUUYDVTBITLRE.jpeg\",\"licensable\":false,\"credits\":{\"affiliation\":[]},\"subtitle\":\"robo escuela moreno\",\"width\":1920,\"_id\":\"QW4JOMMK55C2BIUUYDVTBITLRE\",\"additional_properties\":{\"fullSizeResizeUrl\":\"/resizer/FeJRVDit6Ebm8pW4QzaHRk6Tspo=/arc-anglerfish-arc2-prod-artear/public/QW4JOMMK55C2BIUUYDVTBITLRE.jpeg\",\"owner\":\"maria_angelesraffaele@hotmail.com\",\"comments\":[],\"proxyUrl\":\"/resizer/FeJRVDit6Ebm8pW4QzaHRk6Tspo=/arc-anglerfish-arc2-prod-artear/public/QW4JOMMK55C2BIUUYDVTBITLRE.jpeg\",\"originalUrl\":\"https://cloudfront-us-east-1.images.arcpublishing.com/artear/QW4JOMMK55C2BIUUYDVTBITLRE.jpeg\",\"published\":true,\"resizeUrl\":\"/resizer/FeJRVDit6Ebm8pW4QzaHRk6Tspo=/arc-anglerfish-arc2-prod-artear/public/QW4JOMMK55C2BIUUYDVTBITLRE.jpeg\",\"ingestionMethod\":\"manual\",\"thumbnailResizeUrl\":\"/resizer/HbnLn6-w-l5nJ-ejZ-mLJq0ntpA=/300x0/arc-anglerfish-arc2-prod-artear/public/QW4JOMMK55C2BIUUYDVTBITLRE.jpeg\",\"version\":0,\"originalName\":\"robo escuela3.jpeg\",\"mime_type\":\"image/jpeg\",\"restricted\":false,\"template_id\":253,\"galleries\":[],\"_id\":\"ANCY6EBEERB2DPFWWFIB24MK6M\"},\"created_date\":\"2023-04-19T11:48:53Z\",\"last_updated_date\":\"2023-04-19T11:48:53Z\",\"height\":1080,\"image_type\":\"photograph\",\"auth\":{\"1\":\"dbdbb856d285dec7bb0bf0722fc3cdf3892df3b4303c35a309a7e2d88c35c924\"},\"resized_urls\":{\"original\":\"https://cloudfront-us-east-1.images.arcpublishing.com/artear/QW4JOMMK55C2BIUUYDVTBITLRE.jpeg\",\"lowResBody\":\"https://tn.com.ar/resizer/OLgz_yrCMrLWSNTCPxire5jLAZg=/150x0/smart/filters:format(webp)/cloudfront-us-east-1.images.arcpublishing.com/artear/QW4JOMMK55C2BIUUYDVTBITLRE.jpeg\",\"small\":\"https://tn.com.ar/resizer/EESYCkXzddMGlvRlwc6Ayy-wFN8=/767x0/smart/filters:format(webp)/cloudfront-us-east-1.images.arcpublishing.com/artear/QW4JOMMK55C2BIUUYDVTBITLRE.jpeg\",\"medium\":\"https://tn.com.ar/resizer/NRSyYSxbq3BG1r6rj4FocpbeOJU=/1023x0/smart/filters:format(webp)/cloudfront-us-east-1.images.arcpublishing.com/artear/QW4JOMMK55C2BIUUYDVTBITLRE.jpeg\",\"large\":\"https://tn.com.ar/resizer/8QZiZ0gMVMVvoVZuEPCcpT5YHs4=/1440x0/smart/filters:format(webp)/cloudfront-us-east-1.images.arcpublishing.com/artear/QW4JOMMK55C2BIUUYDVTBITLRE.jpeg\"}},{\"_id\":\"BOUMZCSA7BFPHHUCOEYEN3QZPI\",\"additional_properties\":{\"inline_comments\":[],\"comments\":[],\"_id\":1681906161796},\"type\":\"text\",\"content\":\"“<b>Me da bronca y lastima por los chicos que pierden días de clases</b>”, contó una madre cuyo hijo concurre al establecimiento.\"},{\"_id\":\"OTG2FGBO6FEV3HONOUMKUJQ7YU\",\"additional_properties\":{\"inline_comments\":[],\"comments\":[],\"_id\":1681906161797},\"type\":\"text\",\"content\":\"<i><b>Leé también: </b></i><a href=\\\"https://tn.com.ar/policiales/2023/03/17/hay-300-chicos-sin-clases-en-una-escuela-que-no-puede-terminar-las-refacciones-porque-le-roban-los-materiales/\\\" target=\\\"_blank\\\"><i><b>Hay 300 chicos sin clases en una escuela que no puede terminar las refacciones porque le roban los materiales</b></i></a>\"},{\"_id\":\"35MLVE4X7JEADK5XSJU52ISX4Q\",\"additional_properties\":{\"inline_comments\":[],\"comments\":[],\"_id\":1681906161798},\"type\":\"text\",\"content\":\"Las autoridades de la escuela estiman que<b> el robo fue entre el viernes y el domingo</b> porque el lunes por la mañana, al llegar al lugar, se dieron cuenta del robo.\"},{\"_id\":\"TWIZ5RUDRJD5LNYJDJ5IMJUK2A\",\"additional_properties\":{\"inline_comments\":[],\"comments\":[],\"_id\":1681906161799},\"type\":\"text\",\"content\":\"La escuela cuenta con<b> rejas afuera y dentro del establecimiento</b>, sin embargo, los hechos de inseguridad se repiten semanalmente.\"},{\"level\":2,\"_id\":\"EU3ZPJL4CRGCVKQA5V43LPDD6E\",\"additional_properties\":{\"inline_comments\":[],\"comments\":[],\"_id\":1681906161800},\"type\":\"header\",\"content\":\"Dos delincuentes se hicieron pasar por alumnos, entraron a un colegio y les robaron a preceptores\"},{\"_id\":\"FEXZRUOTCJFDBDZW2M3T434XXM\",\"additional_properties\":{\"inline_comments\":[],\"comments\":[],\"_id\":1681906161801},\"type\":\"text\",\"content\":\"Un insólito hecho ocurrió el miércoles 12 de abril en un colegio de <a href=\\\"https://tn.com.ar/policiales/2023/04/12/un-taxista-le-rompio-un-palo-en-la-cabeza-a-una-pasajera-que-le-pidio-que-bajara-el-volumen-de-la-musica/\\\"><b>La Plata</b></a>, cuando dos jóvenes<b> simularon ser alumnos</b> para entrar al establecimiento y robar. Los dos delincuentes lograron su objetivo y se llevaron pertenencias del salón de preceptores.\"},{\"_id\":\"FRHEZGCTUFF53M36WH5CTV72EE\",\"additional_properties\":{\"inline_comments\":[],\"comments\":[],\"_id\":1681906161802},\"type\":\"text\",\"content\":\"Se trata de la institución<b> Padre Castañeda</b>, ubicado en las calles 13 y 68, frente al Parque Saavedra. Hasta el momento <b>no hay detenidos.</b>\"},{\"owner\":{\"sponsored\":false,\"id\":\"artear\"},\"address\":{},\"syndication\":{},\"caption\":\"Dos ladrones entraron a una escuela y le robaron a los preceptores. (Foto: Gentileza El Día)\",\"source\":{\"system\":\"photo center\",\"edit_url\":\"\",\"additional_properties\":{\"editor\":\"photo center\"}},\"taxonomy\":{\"associated_tasks\":[]},\"type\":\"image\",\"version\":\"0.10.3\",\"url\":\"https://cloudfront-us-east-1.images.arcpublishing.com/artear/YUX4EUITRZGWXPPKVEF6CNYVTU.jpg\",\"licensable\":false,\"alt_text\":\"Dos ladrones entraron a una escuela y le robaron a los preceptores. (Foto: Gentileza El Día)\",\"credits\":{\"affiliation\":[]},\"subtitle\":\"la plata colegio\",\"width\":1366,\"_id\":\"YUX4EUITRZGWXPPKVEF6CNYVTU\",\"additional_properties\":{\"fullSizeResizeUrl\":\"/resizer/HrIPw2BoZWyrMH6AdSCMurllskQ=/arc-anglerfish-arc2-prod-artear/public/YUX4EUITRZGWXPPKVEF6CNYVTU.jpg\",\"owner\":\"asturla@artear.com\",\"comments\":[],\"proxyUrl\":\"/resizer/HrIPw2BoZWyrMH6AdSCMurllskQ=/arc-anglerfish-arc2-prod-artear/public/YUX4EUITRZGWXPPKVEF6CNYVTU.jpg\",\"originalUrl\":\"https://cloudfront-us-east-1.images.arcpublishing.com/artear/YUX4EUITRZGWXPPKVEF6CNYVTU.jpg\",\"published\":true,\"resizeUrl\":\"/resizer/HrIPw2BoZWyrMH6AdSCMurllskQ=/arc-anglerfish-arc2-prod-artear/public/YUX4EUITRZGWXPPKVEF6CNYVTU.jpg\",\"ingestionMethod\":\"manual\",\"thumbnailResizeUrl\":\"/resizer/1OndOxIpJUsmy2kaUvGcg5UTmbk=/300x0/arc-anglerfish-arc2-prod-artear/public/YUX4EUITRZGWXPPKVEF6CNYVTU.jpg\",\"version\":0,\"originalName\":\"la plata.jpg\",\"mime_type\":\"image/jpeg\",\"restricted\":false,\"template_id\":253,\"galleries\":[],\"_id\":\"6L5J46M62VAB7M7CUDGCNSC75E\"},\"created_date\":\"2023-04-12T21:18:53Z\",\"last_updated_date\":\"2023-04-12T21:18:53Z\",\"height\":765,\"image_type\":\"photograph\",\"auth\":{\"1\":\"a3f6bb89b45bdd23541038b97580cd5950f73b300a8c69905622ee9a6ed7b714\"},\"resized_urls\":{\"original\":\"https://cloudfront-us-east-1.images.arcpublishing.com/artear/YUX4EUITRZGWXPPKVEF6CNYVTU.jpg\",\"lowResBody\":\"https://tn.com.ar/resizer/tZs2MxFu6Cv1TjF2RvcyA--0liQ=/150x0/smart/filters:format(webp)/cloudfront-us-east-1.images.arcpublishing.com/artear/YUX4EUITRZGWXPPKVEF6CNYVTU.jpg\",\"small\":\"https://tn.com.ar/resizer/DIIIR7q-W4xiHdiBHCob0tmtefM=/767x0/smart/filters:format(webp)/cloudfront-us-east-1.images.arcpublishing.com/artear/YUX4EUITRZGWXPPKVEF6CNYVTU.jpg\",\"medium\":\"https://tn.com.ar/resizer/8DIly1AULeItzM9DPjrOvPOv3_Q=/1023x0/smart/filters:format(webp)/cloudfront-us-east-1.images.arcpublishing.com/artear/YUX4EUITRZGWXPPKVEF6CNYVTU.jpg\",\"large\":\"https://tn.com.ar/resizer/XerjSIqZWBOjAar1CRS1p9DqCFE=/1440x0/smart/filters:format(webp)/cloudfront-us-east-1.images.arcpublishing.com/artear/YUX4EUITRZGWXPPKVEF6CNYVTU.jpg\"}},{\"_id\":\"2YLTB5DZRVBVFD33KFPRBR2HJQ\",\"additional_properties\":{\"inline_comments\":[],\"comments\":[],\"_id\":1681906161804},\"type\":\"text\",\"content\":\"<i><b>Leé también: </b></i><a href=\\\"https://tn.com.ar/policiales/2023/04/12/una-pareja-confeso-que-mato-y-enterro-a-una-mujer-que-supuestamente-habia-entrado-a-su-casa-para-robarles/\\\"><i><b>Una pareja confesó que mató y enterró a una mujer que supuestamente había entrado a su casa para robarles</b></i></a>\"},{\"_id\":\"C7ME3NY7QVH33LEXP2PZJ623WQ\",\"additional_properties\":{\"inline_comments\":[],\"comments\":[],\"_id\":1681906161805},\"type\":\"text\",\"content\":\"Todo sucedió esta mañana durante el ingreso de los chicos a la escuela. Camufladas, las dos personas lograron entrar sin que nadie advirtiera que no eran parte del alumnado.\"},{\"_id\":\"VFKUYJUW6JDE7LZAHPJPFJ7SBY\",\"additional_properties\":{\"inline_comments\":[],\"comments\":[],\"_id\":1681906161806},\"type\":\"text\",\"content\":\"Una vez en el interior, recorrieron los pasillos como el resto de los jóvenes y llegaron a la sala de preceptores. De allí <b>se robaron un celular y dos billeteras.</b>\"},{\"_id\":\"GOLQF7U2GVDMZBEUZS6QEQ2M24\",\"additional_properties\":{\"inline_comments\":[],\"comments\":[],\"_id\":1681906161807},\"type\":\"text\",\"content\":\"<i><b>Leé también: </b></i><a href=\\\"https://tn.com.ar/policiales/2023/04/12/un-motochorro-golpeo-y-asalto-a-una-mujer-que-llevaba-a-su-bebe-en-un-cochecito/\\\"><i><b>Un motochorro golpeó y asaltó a una mujer que llevaba a su bebé en un cochecito</b></i></a>\"},{\"_id\":\"SEIXWOYCONDAVKDK3GJDBO47QY\",\"additional_properties\":{\"inline_comments\":[],\"comments\":[],\"_id\":1681906161808},\"type\":\"text\",\"content\":\"Luego de lograr su objetivo,<b> los ladrones huyeron con rumbo desconocido </b>y sin que nadie pudiera darse cuenta del robo. La situación recién fue descubierta más tarde, cuando los trabajadores constataron que a varios les faltaban sus pertenencias.\"},{\"_id\":\"B5GBE5RHRJCFRC6WQ243NKF6SI\",\"additional_properties\":{\"inline_comments\":[],\"comments\":[],\"_id\":1681906161809},\"type\":\"text\",\"content\":\"A partir de ese momento, las autoridades de la institución dieron aviso a la Policía, denunciaron el hecho para iniciar la investigación que permita dar con los implicados.\"}],\"promo_items\":{\"basic\":{\"subtype\":\"genoa\",\"_id\":\"MC6IB34QUJHXDPWKC7RYZYTSO4\",\"embed\":{\"id\":\"1431042\",\"config\":{\"duration\":0,\"thumbnail\":\"https://thumbs.vodgc.net/1-398-855d39f16c3a4793a4a29ec716da1470-qs8fNL1681903577347-1681904685.jpg\",\"content_type\":\"video\",\"is_live_content\":false,\"created\":\"2023-04-19T11:26:19Z\",\"description\":\"En una semana, robaron dos veces en una escuela en Moreno. (Foto: captura video)\",\"m3u8\":\"https://vod.vodgc.net/manifest/1-398-855d39f16c3a4793a4a29ec716da1470-qs8fNL1681903577347.m3u8\",\"title\":\"trc-robaronescueladosveces-tvid\",\"resolution\":\"426x240\",\"is_vertical_content\":false,\"auth\":{\"1\":\"4914b9bded3216a28b4883ed2880e0a28928703ea3bb27c1f78be4f39f77ed81\"},\"resized_urls\":{\"original\":\"https://thumbs.vodgc.net/1-398-855d39f16c3a4793a4a29ec716da1470-qs8fNL1681903577347-1681904685.jpg\",\"lowResBody\":\"https://tn.com.ar/resizer/voTDOaf98RqWkAYRohLjnHlzSNo=/150x0/smart/filters:format(webp)/thumbs.vodgc.net/1-398-855d39f16c3a4793a4a29ec716da1470-qs8fNL1681903577347-1681904685.jpg\",\"small\":\"https://tn.com.ar/resizer/46sE6B_79etY61X0qW6yiXM8_Ys=/767x0/smart/filters:format(webp)/thumbs.vodgc.net/1-398-855d39f16c3a4793a4a29ec716da1470-qs8fNL1681903577347-1681904685.jpg\",\"medium\":\"https://tn.com.ar/resizer/MJf6NtvWiHe8f0wZeKZCXbakPjo=/1023x0/smart/filters:format(webp)/thumbs.vodgc.net/1-398-855d39f16c3a4793a4a29ec716da1470-qs8fNL1681903577347-1681904685.jpg\",\"large\":\"https://tn.com.ar/resizer/-gGzVjY_4kMOFHXVERmX6yr4du0=/1440x0/smart/filters:format(webp)/thumbs.vodgc.net/1-398-855d39f16c3a4793a4a29ec716da1470-qs8fNL1681903577347-1681904685.jpg\"}},\"url\":\"https://genoa-api-gin.vodgc.net/api/v3/content/contentId/1431042\"},\"type\":\"custom_embed\"}},\"credits\":{\"by\":[]}}],\"_id\":\"4cb251e50185516f3595762d037f78297937565da8a610484c92946e84e0e434\"};Fusion.globalContentConfig={\"source\":\"search-api\",\"query\":{\"uri\":\"/buscar/robo-escuela/\",\"query\":\"robo-escuela\",\"size\":\"7\",\"arc-site\":\"tn\"}};Fusion.lastModified=1712705223363;Fusion.contentCache={\"sites-api\":{\"{\\\"hierarchy\\\":\\\"hamburger\\\"}\":{\"data\":{\"_id\":\"/\",\"children\":[{\"_id\":\"/todonoticias\",\"children\":[{\"_id\":\"/politica\",\"name\":\"Política\",\"site\":{\"site_url\":\"/politica/\"}},{\"_id\":\"/sociedad\",\"name\":\"Sociedad\",\"site\":{\"site_url\":\"/sociedad/\"}},{\"_id\":\"/economia\",\"name\":\"Economía\",\"site\":{\"site_url\":\"/economia/\"}},{\"_id\":\"/internacional\",\"name\":\"Internacional\",\"site\":{\"site_url\":\"/internacional/\"}},{\"_id\":\"/policiales\",\"name\":\"Policiales\",\"site\":{\"site_url\":\"/policiales/\"}},{\"_id\":\"/opinion\",\"name\":\"Opinión\",\"site\":{\"site_url\":\"/opinion/\"}},{\"_id\":\"/newsletters\",\"name\":\"Newsletters\",\"site\":{\"site_url\":null}},{\"_id\":\"/clima\",\"name\":\"Clima\",\"site\":{\"site_url\":null}},{\"_id\":\"/horoscopo\",\"name\":\"Horóscopo\",\"site\":{\"site_url\":null}},{\"_id\":\"/turismo\",\"name\":\"Turismo\",\"site\":{\"site_url\":null}},{\"_id\":\"/tnylagente/publicar\",\"name\":\"Publicá en TN y la Gente\",\"site\":{\"site_url\":null}},{\"_id\":\"/general\",\"name\":\"General\",\"site\":{\"site_url\":\"/general/\"}}],\"name\":\"Todo Noticias\",\"site\":{\"site_url\":null}},{\"_id\":\"/ultimas-noticias\",\"children\":[],\"name\":\"Últimas noticias\",\"site\":{\"site_url\":\"/ultimas-noticias/\"}},{\"_id\":\"/deportes\",\"children\":[],\"name\":\"Deportivo\",\"site\":{\"site_url\":\"/deportes/\"}},{\"_id\":\"/show\",\"children\":[],\"name\":\"Show\",\"site\":{\"site_url\":\"/show/\"}},{\"_id\":\"/musica\",\"children\":[],\"name\":\"La Viola\",\"site\":{\"site_url\":\"/musica/\"}},{\"_id\":\"/salud\",\"children\":[],\"name\":\"Con Bienestar\",\"site\":{\"site_url\":\"/salud/\"}},{\"_id\":\"/running\",\"children\":[],\"name\":\"Running\",\"site\":{\"site_url\":\"/running/\"}},{\"_id\":\"/tecno\",\"children\":[],\"name\":\"Tecno\",\"site\":{\"site_url\":\"/tecno/\"}},{\"_id\":\"/todesnosotres\",\"children\":[],\"name\":\"Todes Nosotres\",\"site\":{\"site_url\":\"/todesnosotres/\"}},{\"_id\":\"/autos\",\"children\":[],\"name\":\"Autos\",\"site\":{\"site_url\":\"/autos/\"}},{\"_id\":\"/estilo\",\"children\":[],\"name\":\"Estilo\",\"site\":{\"site_url\":\"/estilo/\"}},{\"_id\":\"/campo\",\"children\":[],\"name\":\"Campo\",\"site\":{\"site_url\":\"/campo/\"}},{\"_id\":\"/tn-y-la-gente\",\"children\":[],\"name\":\"TN y la Gente\",\"site\":{\"site_url\":\"/tn-y-la-gente/\"}},{\"_id\":\"/videos\",\"children\":[],\"name\":\"Videos\",\"site\":{\"site_url\":\"/videos/\"}}],\"name\":\"TN\"},\"expires\":1712705236478,\"lastModified\":1712704936442},\"{\\\"hierarchy\\\":\\\"footermenu1\\\",\\\"includedFields\\\":\\\"_id,name,site\\\"}\":{\"data\":{\"_id\":\"/\",\"children\":[{\"_id\":\"/ultimas-noticias\",\"name\":\"Últimas noticias\",\"site\":{\"site_url\":\"/ultimas-noticias/\"}},{\"_id\":\"/deportes\",\"name\":\"Deportivo\",\"site\":{\"site_url\":\"/deportes/\"}},{\"_id\":\"/show\",\"name\":\"Show\",\"site\":{\"site_url\":\"/show/\"}},{\"_id\":\"/economia\",\"name\":\"Economía\",\"site\":{\"site_url\":\"/economia/\"}},{\"_id\":\"/internacional\",\"name\":\"Internacional\",\"site\":{\"site_url\":\"/internacional/\"}},{\"_id\":\"/opinion\",\"name\":\"Opinión\",\"site\":{\"site_url\":\"/opinion/\"}},{\"_id\":\"/policiales\",\"name\":\"Policiales\",\"site\":{\"site_url\":\"/policiales/\"}},{\"_id\":\"/politica\",\"name\":\"Política\",\"site\":{\"site_url\":\"/politica/\"}},{\"_id\":\"/sociedad\",\"name\":\"Sociedad\",\"site\":{\"site_url\":\"/sociedad/\"}},{\"_id\":\"/videos\",\"name\":\"Videos\",\"site\":{\"site_url\":\"/videos/\"}},{\"_id\":\"/deportes/estadisticas\",\"name\":\"Estadísticas\",\"site\":{\"site_url\":\"/deportes/estadisticas/\"}}],\"name\":\"TN\"},\"expires\":1712705450834,\"lastModified\":1712705150796}},\"search-api\":{\"{\\\"feed_size\\\":20,\\\"imageSizes\\\":[\\\"small\\\"],\\\"page\\\":1,\\\"query\\\":\\\"robo-escuela\\\",\\\"size\\\":20}\":{\"data\":{\"content_elements\":[{\"credits\":{\"by\":[]},\"description\":{\"basic\":\"\"},\"display_date\":\"2024-03-13T15:55:11.648Z\",\"headlines\":{\"basic\":\"Un delincuente entró a una escuela, asaltó a los alumnos que estaban clase y los amenazó con un arma\",\"mobile\":\"Chaco\"},\"promo_items\":{\"basic\":{\"_id\":\"TRAPN4NYWFC25NS76GST2PRFO4\",\"auth\":{\"1\":\"ef1522ff04411e7f6ab768b7eba8916b7c3aa1bdb077facec1a3852a3e895680\"},\"caption\":\"Ladrones entraron a robar en la ENS N° 75 \\\"Julio Cortázar\\\" de Resistencia, en plena clase (Foto: gentileza Diario Chaco)\",\"resized_urls\":{\"small\":\"https://tn.com.ar/resizer/sXNSKhUGKv4F_nY1oLCW1d3DVQU=/767x0/smart/filters:format(webp)/cloudfront-us-east-1.images.arcpublishing.com/artear/TRAPN4NYWFC25NS76GST2PRFO4.jpg\"},\"type\":\"image\",\"url\":\"https://cloudfront-us-east-1.images.arcpublishing.com/artear/TRAPN4NYWFC25NS76GST2PRFO4.jpg\",\"shouldPlay\":false}},\"subheadlines\":{\"basic\":\"El ladrón les exigió los celulares a los chicos. Tras ello escapó del lugar junto a su cómplice. El colegio suspendió las clases y prometió mejorar la seguridad.\"},\"taxonomy\":{\"tags\":[{\"text\":\"Chaco\"},{\"text\":\"Robo\"},{\"text\":\"Escuela\"}]},\"type\":\"story\",\"website_url\":\"/policiales/2024/03/13/un-delincuente-ingreso-a-una-escuela-asalto-a-alumnos-en-plena-clase-y-los-amenazo-con-un-arma/\"},{\"credits\":{\"by\":[]},\"description\":{\"basic\":\"\"},\"display_date\":\"2024-02-09T12:46:38.741Z\",\"headlines\":{\"basic\":\"A días del inicio de las clases, robaron y prendieron fuego una escuela en Virrey del Pino\",\"mobile\":\"Inseguridad\"},\"promo_items\":{\"basic\":{\"_id\":\"7QT3Y3WF2JFCRCIAOYEOIV4WSI\",\"auth\":{\"1\":\"b2b41a657630c66b2ea86236e5287536bf4671ca53e238953ffeeb675eed3354\"},\"caption\":\"El robo ocurrió en la Escuela Técnica N°13 de Virrey del Pino. (Foto: TN)\",\"resized_urls\":{\"small\":\"https://tn.com.ar/resizer/VsjxY7w5_p4zicsJBLUYXDuf2cM=/767x0/smart/filters:format(webp)/cloudfront-us-east-1.images.arcpublishing.com/artear/7QT3Y3WF2JFCRCIAOYEOIV4WSI.png\"},\"type\":\"image\",\"url\":\"https://cloudfront-us-east-1.images.arcpublishing.com/artear/7QT3Y3WF2JFCRCIAOYEOIV4WSI.png\",\"shouldPlay\":false}},\"subheadlines\":{\"basic\":\"El hecho ocurrió en la Escuela Técnica N° 13 del barrio Nicoll, donde delincuentes vandalizaron las instalaciones y se llevaron varios materiales que usan los chicos para estudiar. \"},\"taxonomy\":{\"tags\":[{\"text\":\"Robo\"},{\"text\":\"Escuela\"},{\"text\":\"Incendio\"},{\"text\":\"Virrey del Pino\"}]},\"type\":\"story\",\"website_url\":\"/policiales/2024/02/09/a-dias-del-inicio-las-clases-robaron-y-prendieron-fuego-una-escuela-en-virrey-del-pino/\"},{\"credits\":{\"by\":[]},\"description\":{\"basic\":\"\"},\"display_date\":\"2023-11-15T13:57:57.138Z\",\"headlines\":{\"basic\":\"Detuvieron a cinco adolescentes que robaron 142 netbooks en una escuela de San Telmo \",\"mobile\":\"INSEGURIDAD\"},\"promo_items\":{\"basic\":{\"_id\":\"RKGCIJ57FZB3TPUASMTVWHGRLI\",\"auth\":{\"1\":\"b5b27543c25a940ce53a1851e8f6c66255fc0d1c919a7be020ca87540dcbf181\"},\"caption\":\"La Policía recuperó 142 netbooks que habían sido robadas de una escuela de San Telmo. (Foto: Télam)\",\"resized_urls\":{\"small\":\"https://tn.com.ar/resizer/k2sLWh4jjYKDI_f3hRNqCXo-OAk=/767x0/smart/filters:format(webp)/cloudfront-us-east-1.images.arcpublishing.com/artear/RKGCIJ57FZB3TPUASMTVWHGRLI.jpg\"},\"type\":\"image\",\"url\":\"https://cloudfront-us-east-1.images.arcpublishing.com/artear/RKGCIJ57FZB3TPUASMTVWHGRLI.jpg\",\"shouldPlay\":false}},\"subheadlines\":{\"basic\":\"Los ladrones, de entre 15 y 17 años, fueron interceptados por la Policía cuando intentaban darse a la fuga con las computadoras escondidas en tachos de basura. \"},\"taxonomy\":{\"tags\":[{\"text\":\"San Telmo\"},{\"text\":\"Robo\"},{\"text\":\"Escuela\"}]},\"type\":\"story\",\"website_url\":\"/policiales/2023/11/15/detuvieron-a-cinco-adolescentes-que-robaron-142-netbooks-en-una-escuela-de-san-telmo/\"},{\"credits\":{\"by\":[]},\"description\":{\"basic\":\"\"},\"display_date\":\"2023-08-14T11:45:18.885Z\",\"headlines\":{\"basic\":\"“Temí que lo mataran como a Morena”: dramático robo a un chico de 14 años cuando iba a la escuela en La Plata\",\"mobile\":\"Camino a la escuela\"},\"promo_items\":{\"basic\":{\"_id\":\"7XWSFL2KDJH4VA2ZKPTPNZ3F34\",\"auth\":{\"1\":\"281575d6ccd818e6f9a6d2d8bfe2b3c33c9a176ac44d3aab25fdab651ddf8e2c\"},\"caption\":\"El ladrón caminó junto con la víctima casi hasta llegar a la escuela. (Foto: gentileza 0221).\",\"resized_urls\":{\"small\":\"https://tn.com.ar/resizer/TrmmbbJqmuTnN_HKoUNaGeWx9XE=/767x0/smart/filters:format(webp)/cloudfront-us-east-1.images.arcpublishing.com/artear/7XWSFL2KDJH4VA2ZKPTPNZ3F34.jpg\"},\"type\":\"image\",\"url\":\"https://cloudfront-us-east-1.images.arcpublishing.com/artear/7XWSFL2KDJH4VA2ZKPTPNZ3F34.jpg\",\"shouldPlay\":false}},\"subheadlines\":{\"basic\":\"El delincuente lo obligó a caminar varias cuadras junto con él mientras lo amenazaba con apuñalarlo. Le robó el celular, un aro de oro que tenía en la oreja y escapó.\"},\"taxonomy\":{\"tags\":[{\"text\":\"La Plata\"},{\"text\":\"Inseguridad\"},{\"text\":\"Robo\"}]},\"type\":\"story\",\"website_url\":\"/policiales/2023/08/14/temi-que-lo-mataran-como-a-morena-dramatico-robo-a-un-chico-de-14-anos-cuando-iba-a-la-escuela-en-la-plata/\"},{\"credits\":{\"by\":[]},\"description\":{\"basic\":\"\"},\"display_date\":\"2023-08-03T19:55:51.428Z\",\"headlines\":{\"basic\":\"Un ladrón entró a robar a una escuela con un machete y un nene lo echó a golpes con su cinturón\",\"mobile\":\"SALTA\"},\"promo_items\":{\"basic\":{\"_id\":\"WTW44JANTFB2VGFFPRURNRFEIA\",\"auth\":{\"1\":\"81dc9e837b9ff2c01180bb740392acf9ae0314fff6bb750eb1122bb32a04a31b\"},\"caption\":\"Pánico en la escuela N°4851 de Salta: un nene de 11 años defendió a cintazos a su maestra de un ladrón que había entrado a robar. (Foto: Google Street View)\",\"resized_urls\":{\"small\":\"https://tn.com.ar/resizer/UD6xt2BZlV-Bf11nw4f_Ig-9eT8=/767x0/smart/filters:format(webp)/cloudfront-us-east-1.images.arcpublishing.com/artear/WTW44JANTFB2VGFFPRURNRFEIA.jpg\"},\"type\":\"image\",\"url\":\"https://cloudfront-us-east-1.images.arcpublishing.com/artear/WTW44JANTFB2VGFFPRURNRFEIA.jpg\",\"shouldPlay\":false}},\"subheadlines\":{\"basic\":\"Sucedió en Orán. El delincuente sorprendió a la profesora mientras estaba dando clases de educación física, la agarró del brazo y le puso el arma en el cuello. Un alumno de tan solo 11 años no dudó.\"},\"taxonomy\":{\"tags\":[{\"text\":\"Escuela\"},{\"text\":\"Robo\"},{\"text\":\"machete\"}]},\"type\":\"story\",\"website_url\":\"/policiales/2023/08/03/un-ladron-entro-a-robar-a-una-escuela-con-un-machete-y-un-nene-lo-echo-a-golpes-con-su-cinturon/\"},{\"credits\":{\"by\":[]},\"description\":{\"basic\":\"\"},\"display_date\":\"2023-06-03T14:12:54.281Z\",\"headlines\":{\"basic\":\"Un chico de 13 años fue acuchillado por dos ladrones cuando iba a la escuela: lo rescataron los vecinos\",\"mobile\":\"Inseguridad\"},\"promo_items\":{\"basic\":{\"_id\":\"DISUJ7232FHSDPXXXEQHZPYS7I\",\"auth\":{\"1\":\"42282717700e71f46f9c9db0b7a76a3ee0ea69474ec41f74437c6bd13866c7b1\"},\"caption\":\"Un chico de 13 años fue atacado por ladrones cuando iba a la escuela. (Foto: Google Maps).\",\"resized_urls\":{\"small\":\"https://tn.com.ar/resizer/MUxQMpvfrZTQvruBM8pC5k9Uc8A=/767x0/smart/filters:format(webp)/cloudfront-us-east-1.images.arcpublishing.com/artear/DISUJ7232FHSDPXXXEQHZPYS7I.PNG\"},\"type\":\"image\",\"url\":\"https://cloudfront-us-east-1.images.arcpublishing.com/artear/DISUJ7232FHSDPXXXEQHZPYS7I.PNG\",\"shouldPlay\":false}},\"subheadlines\":{\"basic\":\"La salvaje agresión ocurrió este jueves cuando el menor se dirigía a su colegio, ubicado en la localidad bonaerense de Rafael Castillo. Los ladrones lo atacaron con una navaja para robarle la mochila y el celular.\"},\"taxonomy\":{\"tags\":[{\"text\":\"La Matanza\"},{\"text\":\"ataque\"},{\"text\":\"cuchillo\"},{\"text\":\"Robo\"},{\"text\":\"Escuela\"}]},\"type\":\"story\",\"website_url\":\"/policiales/2023/06/03/un-chico-de-13-anos-fue-acuchillado-por-dos-ladrones-cuando-iba-a-la-escuela-y-fue-rescatado-por-los-vecinos/\"},{\"credits\":{\"by\":[]},\"description\":{\"basic\":\"\"},\"display_date\":\"2023-04-19T12:21:07.365Z\",\"headlines\":{\"basic\":\"En una semana robaron dos veces una escuela en Moreno: se llevaron hasta el bronce del mástil\",\"mobile\":\"Inseguridad\"},\"promo_items\":{\"basic\":{\"_id\":\"MC6IB34QUJHXDPWKC7RYZYTSO4\",\"embed\":{\"config\":{\"auth\":{\"1\":\"4914b9bded3216a28b4883ed2880e0a28928703ea3bb27c1f78be4f39f77ed81\"},\"created\":\"2023-04-19T11:26:19Z\",\"is_live_content\":false,\"resized_urls\":{\"small\":\"https://tn.com.ar/resizer/46sE6B_79etY61X0qW6yiXM8_Ys=/767x0/smart/filters:format(webp)/thumbs.vodgc.net/1-398-855d39f16c3a4793a4a29ec716da1470-qs8fNL1681903577347-1681904685.jpg\"},\"thumbnail\":\"https://thumbs.vodgc.net/1-398-855d39f16c3a4793a4a29ec716da1470-qs8fNL1681903577347-1681904685.jpg\"},\"id\":\"1431042\"},\"subtype\":\"genoa\",\"type\":\"custom_embed\",\"shouldPlay\":false}},\"subheadlines\":{\"basic\":\"Las autoridades creen que los delincuentes ingresaron al establecimiento durante el fin de semana. Había rejas forzadas, cajones revueltos y muebles rotos. \"},\"taxonomy\":{\"tags\":[{\"text\":\"Moreno\"},{\"text\":\"Robo\"},{\"text\":\"Escuela\"}]},\"type\":\"story\",\"website_url\":\"/policiales/2023/04/19/en-una-semana-robaron-dos-veces-una-escuela-en-moreno-se-llevaron-hasta-el-bronce-del-mastil/\"},{\"credits\":{\"by\":[]},\"description\":{\"basic\":\"\"},\"display_date\":\"2023-04-12T22:11:24.826Z\",\"headlines\":{\"basic\":\"Dos delincuentes se hicieron pasar por alumnos, entraron a un colegio y les robaron a preceptores\",\"mobile\":\"La Plata\"},\"promo_items\":{\"basic\":{\"_id\":\"YUX4EUITRZGWXPPKVEF6CNYVTU\",\"auth\":{\"1\":\"a3f6bb89b45bdd23541038b97580cd5950f73b300a8c69905622ee9a6ed7b714\"},\"caption\":\"Dos ladrones entraron a una escuela y le robaron a los preceptores. (Foto: Gentileza El Día)\",\"resized_urls\":{\"small\":\"https://tn.com.ar/resizer/DIIIR7q-W4xiHdiBHCob0tmtefM=/767x0/smart/filters:format(webp)/cloudfront-us-east-1.images.arcpublishing.com/artear/YUX4EUITRZGWXPPKVEF6CNYVTU.jpg\"},\"type\":\"image\",\"url\":\"https://cloudfront-us-east-1.images.arcpublishing.com/artear/YUX4EUITRZGWXPPKVEF6CNYVTU.jpg\",\"shouldPlay\":false}},\"subheadlines\":{\"basic\":\"Llevaban mochilas y una vestimenta similar al uniforme, lo que permitió que pasaran desapercibidos. Se llevaron un celular y dos billeteras. \"},\"taxonomy\":{\"tags\":[{\"text\":\"La Plata\"},{\"text\":\"Robo\"},{\"text\":\"Escuela\"}]},\"type\":\"story\",\"website_url\":\"/policiales/2023/04/12/dos-delincuentes-se-hicieron-pasar-por-alumnos-entraron-a-un-colegio-y-les-robaron-a-preceptores/\"},{\"credits\":{\"by\":[{\"_id\":\"BelenVallejo\",\"name\":\"Belén Vallejo\",\"type\":\"author\"}]},\"description\":{\"basic\":\"\"},\"display_date\":\"2023-03-18T02:00:00Z\",\"headlines\":{\"basic\":\"Hay 300 chicos sin clases en una escuela que no puede terminar las refacciones porque le roban los materiales\",\"mobile\":\"TN Y LA GENTE\"},\"promo_items\":{\"basic\":{\"_id\":\"DEY5XMSQLFAJ3M4AO6FMSVTFJE\",\"auth\":{\"1\":\"c4f8ab4df5649b0e5c4c2b300cd266b588637eb9b85f79eacf3d6295b4bdb388\"},\"caption\":\"La escuela N°185 sufre constantes robos desde hace varios meses. (Foto: TN)\",\"resized_urls\":{\"small\":\"https://tn.com.ar/resizer/aTJT1aXtUZ4NHVM1_7VI7b4Zjso=/767x0/smart/filters:format(webp)/cloudfront-us-east-1.images.arcpublishing.com/artear/DEY5XMSQLFAJ3M4AO6FMSVTFJE.jpg\"},\"type\":\"image\",\"url\":\"https://cloudfront-us-east-1.images.arcpublishing.com/artear/DEY5XMSQLFAJ3M4AO6FMSVTFJE.jpg\",\"shouldPlay\":false}},\"subheadlines\":{\"basic\":\"Ante la inseguridad, la falta de aulas acondicionadas para ser utilizadas, el calor y los ventiladores que no alcanzan, los alumnos se ven afectados y las autoridades locales no brindan respuestas. \"},\"taxonomy\":{\"tags\":[{\"text\":\"Laferrere\"},{\"text\":\"La Matanza\"},{\"text\":\"Escuela\"},{\"text\":\"Robo\"},{\"text\":\"TN y la Gente\"}]},\"type\":\"story\",\"website_url\":\"/policiales/2023/03/17/hay-300-chicos-sin-clases-en-una-escuela-que-no-puede-terminar-las-refacciones-porque-le-roban-los-materiales/\"},{\"credits\":{\"by\":[]},\"description\":{\"basic\":\"\"},\"display_date\":\"2022-11-29T15:43:52.542Z\",\"headlines\":{\"basic\":\"Robo en una escuela de Palermo: se llevaron 150 computadoras y la leche para el desayuno de los chicos \",\"mobile\":\"Inseguridad\"},\"promo_items\":{\"basic\":{\"_id\":\"C3JZWDROTFCNRAERITRITF3SUU\",\"auth\":{\"1\":\"5ebc8946e1657b9fd4b8fa49983c4d421a048f8c8ebf142c7d49fd0930316d1d\"},\"caption\":\"Las autoridades convocaron a un abrazo simbólico para pedir mayor seguridad en la institución. (Foto: Instagram @coope9de2)\",\"resized_urls\":{\"small\":\"https://tn.com.ar/resizer/v_Rk8-Nxlua5cnvmDp4EnUaW1iY=/767x0/smart/filters:format(webp)/cloudfront-us-east-1.images.arcpublishing.com/artear/C3JZWDROTFCNRAERITRITF3SUU.jpg\"},\"type\":\"image\",\"url\":\"https://cloudfront-us-east-1.images.arcpublishing.com/artear/C3JZWDROTFCNRAERITRITF3SUU.jpg\",\"shouldPlay\":false}},\"subheadlines\":{\"basic\":\"El personal de maestranza del establecimiento halló la cocina violentada, con el gas abierto y alcohol derramado por el piso. Se llevaron hasta la ropa de trabajo del personal de cocina. \"},\"taxonomy\":{\"tags\":[{\"text\":\"Palermo\"},{\"text\":\"Escuela\"},{\"text\":\"Robo\"}]},\"type\":\"story\",\"website_url\":\"/policiales/2022/11/29/robo-en-una-escuela-de-palermo-se-llevaron-150-computadoras-y-la-leche-para-el-desayuno-de-los-chicos/\"},{\"credits\":{\"by\":[]},\"description\":{\"basic\":\"\"},\"display_date\":\"2022-11-07T14:43:10.563Z\",\"headlines\":{\"basic\":\"Salió de la escuela, quiso defender a su compañera de un robo y lo mataron a puñaladas \",\"mobile\":\"Wilde\"},\"promo_items\":{\"basic\":{\"_id\":\"6UEPUG6O7JH6HLKJJDSJKA6NMA\",\"embed\":{\"config\":{\"auth\":{\"1\":\"0a37e355ddeecfa97551973894d598e4caa1b2c5b47f6f61555c5276a94070cf\"},\"created\":\"2022-11-07T13:24:43Z\",\"is_live_content\":false,\"resized_urls\":{\"small\":\"https://tn.com.ar/resizer/PjN1yo-IymHIrAyFzv-x_uaTSZw=/767x0/smart/filters:format(webp)/thumbs.vodgc.net/1-398-a0ee3496cdc64c9eac9f5db18d673e96-6gbJRQ1667827481761-1667827832.jpg\"},\"thumbnail\":\"https://thumbs.vodgc.net/1-398-a0ee3496cdc64c9eac9f5db18d673e96-6gbJRQ1667827481761-1667827832.jpg\"},\"id\":\"1353957\"},\"subtype\":\"genoa\",\"type\":\"custom_embed\",\"shouldPlay\":false}},\"subheadlines\":{\"basic\":\"Tomás tenía 18 años y recibió cinco heridas en el tórax. Falleció a los minutos de llegar al hospital. \"},\"taxonomy\":{\"tags\":[{\"text\":\"Crimen\"},{\"text\":\"Wilde\"},{\"text\":\"Robo\"}]},\"type\":\"story\",\"website_url\":\"/policiales/2022/11/07/salio-de-la-escuela-quiso-defender-a-su-companera-de-un-robo-y-lo-mataron-a-punaladas/\"},{\"credits\":{\"by\":[]},\"description\":{\"basic\":\"\"},\"display_date\":\"2022-09-19T22:46:57.315Z\",\"headlines\":{\"basic\":\"Una escuela fue asaltada tres veces en 12 días: “Estamos asustados, nunca sabemos qué vamos a encontrar”\",\"mobile\":\"TN y La Gente\"},\"promo_items\":{\"basic\":{\"_id\":\"4X3BAHAFENDTZOV3DY2QVDLSVU\",\"auth\":{\"1\":\"6fe577c2e953038511bbb5e370653c1db03ced8123534d78c2e336df64f71e17\"},\"caption\":\"La escuela que fue asaltada 3 veces en 12 días. (Foto: Google Street View).\",\"resized_urls\":{\"small\":\"https://tn.com.ar/resizer/R2O7OCifiEL3xbWoq6SfGPmJ-lE=/767x0/smart/filters:format(webp)/cloudfront-us-east-1.images.arcpublishing.com/artear/4X3BAHAFENDTZOV3DY2QVDLSVU.JPG\"},\"type\":\"image\",\"url\":\"https://cloudfront-us-east-1.images.arcpublishing.com/artear/4X3BAHAFENDTZOV3DY2QVDLSVU.JPG\",\"shouldPlay\":false}},\"subheadlines\":{\"basic\":\"Se trata de la Primaria N° 42 y la Secundaria N° 16 que comparten el edificio en el barrio Belgrano de Pergamino. Las autoridades del establecimiento piden seguridad. \"},\"taxonomy\":{\"tags\":[{\"text\":\"TN y la Gente\"},{\"text\":\"Robo\"},{\"text\":\"Pergamino\"},{\"text\":\"Escuela\"}]},\"type\":\"story\",\"website_url\":\"/policiales/2022/09/19/una-escuela-fue-asaltada-tres-veces-en-12-dias-estamos-asustados-nunca-sabemos-que-vamos-a-encontrar/\"},{\"credits\":{\"by\":[]},\"description\":{\"basic\":\"\"},\"display_date\":\"2022-08-02T12:28:32.158Z\",\"headlines\":{\"basic\":\"Hicieron un boquete en una escuela, se robaron los alimentos de todo el mes y dejaron a 400 chicos sin comer\",\"mobile\":\"La Plata\"},\"promo_items\":{\"basic\":{\"_id\":\"PJAIRWERPRB5DOQD7N4V77WAQQ\",\"embed\":{\"config\":{\"auth\":{\"1\":\"af4fab5df050615b2ef1e72613b5c72a6b7fa8c2cb466d554d4ed87442208f6d\"},\"created\":\"2022-08-02T11:31:05Z\",\"is_live_content\":false,\"resized_urls\":{\"small\":\"https://tn.com.ar/resizer/vI_GUE1pMbHmLmIvV1H7wthBoOo=/767x0/smart/filters:format(webp)/thumbs.vodgc.net/1-398-b8866a47516c49a4987cda4defb24734-dMZdmw1659439863926-1659440472.jpg\"},\"thumbnail\":\"https://thumbs.vodgc.net/1-398-b8866a47516c49a4987cda4defb24734-dMZdmw1659439863926-1659440472.jpg\"},\"id\":\"1304806\"},\"subtype\":\"genoa\",\"type\":\"custom_embed\",\"shouldPlay\":false}},\"subheadlines\":{\"basic\":\"El hecho ocurrió el sábado en la Escuela N° 35 de Los Hornos. Tras el saqueo, los alumnos solo pueden asistir hasta el mediodía y las autoridades improvisan viandas para que puedan llevarse a sus casas. \"},\"taxonomy\":{\"tags\":[{\"text\":\"Robo\"},{\"text\":\"Escuela\"},{\"text\":\"La Plata\"}]},\"type\":\"story\",\"website_url\":\"/policiales/2022/08/02/hicieron-un-boquete-en-una-escuela-se-robaron-la-mercaderia-de-todo-el-mes-y-dejaron-a-400-chicos-sin-comer/\"},{\"credits\":{\"by\":[]},\"description\":{\"basic\":\"\"},\"display_date\":\"2022-07-16T01:21:48.993Z\",\"headlines\":{\"basic\":\"Corrientes: dos nenes de 11 años robaron en el colegio donde estudian y los descubrieron por la caligrafía\",\"mobile\":\"TN y La Gente\"},\"promo_items\":{\"basic\":{\"_id\":\"CAVBCBTULRCXVEJTCLEV63RT6Q\",\"auth\":{\"1\":\"d0fde495ef2e288ccdaa3360c3d1960977c3a2c5ebb5c7e4e201ef0e8182c8dd\"},\"caption\":\"Dos nenes de 11 años se llevaron varios elementos. (Foto: Carolina Silva).\",\"resized_urls\":{\"small\":\"https://tn.com.ar/resizer/lIjAx0uoinHPca05A6mumsguRBU=/767x0/smart/filters:format(webp)/cloudfront-us-east-1.images.arcpublishing.com/artear/CAVBCBTULRCXVEJTCLEV63RT6Q.jpg\"},\"type\":\"image\",\"url\":\"https://cloudfront-us-east-1.images.arcpublishing.com/artear/CAVBCBTULRCXVEJTCLEV63RT6Q.jpg\",\"shouldPlay\":false}},\"subheadlines\":{\"basic\":\"Se trata de dos alumnos que van a quinto grado de la escuela 75  “Juan E. Martínez”, de la localidad de Santa Lucía, en Corrientes. Los mensajes que dejaron en el pizarrón fueron clave para reconcerlos.\"},\"taxonomy\":{\"tags\":[{\"text\":\"Corrientes\"},{\"text\":\"Robo\"},{\"text\":\"Escuela\"}]},\"type\":\"story\",\"website_url\":\"/policiales/2022/07/15/corrientes-dos-nenes-de-11-anos-robaron-en-el-colegio-donde-estudian-y-los-descubrieron-por-la-caligrafia/\"},{\"credits\":{\"by\":[]},\"description\":{\"basic\":\"\"},\"display_date\":\"2022-07-05T10:35:30.918Z\",\"headlines\":{\"basic\":\"Una escuela de La Plata suspendió las clases porque le robaron todas las computadoras\",\"mobile\":\"Ringuelet\"},\"promo_items\":{\"basic\":{\"_id\":\"BZX5IGZAVRHYTAHJAY4ATTLGM4\",\"auth\":{\"1\":\"74b55a32e1ecaee838319e6c642b5e2b4061d372659bfdd7067d29eeb70dc261\"},\"caption\":\"La institución suspendió las clases tras el robo. (Foto: archivo/ AFP)\",\"resized_urls\":{\"small\":\"https://tn.com.ar/resizer/pfLo4g6HmLYSy1RIgCVXbvtK6zw=/767x0/smart/filters:format(webp)/cloudfront-us-east-1.images.arcpublishing.com/artear/BZX5IGZAVRHYTAHJAY4ATTLGM4.jpg\"},\"type\":\"image\",\"url\":\"https://cloudfront-us-east-1.images.arcpublishing.com/artear/BZX5IGZAVRHYTAHJAY4ATTLGM4.jpg\",\"shouldPlay\":false}},\"subheadlines\":{\"basic\":\"Todo ocurrió en la madrugada del domingo, en la institución ubicada en Camino Centernario y 511. \"},\"taxonomy\":{\"tags\":[{\"text\":\"La Plata\"},{\"text\":\"Robo\"},{\"text\":\"Escuela\"}]},\"type\":\"story\",\"website_url\":\"/sociedad/2022/07/05/una-escuela-de-la-plata-suspendio-las-clases-porque-le-robaron-todas-las-computadoras/\"},{\"credits\":{\"by\":[]},\"description\":{\"basic\":\"\"},\"display_date\":\"2022-06-22T17:20:09.672Z\",\"headlines\":{\"basic\":\"Ocho delincuentes robaron y amenazaron de muerte a los alumnos de un instituto en plena clase\",\"mobile\":\"Villa Fiorito\"},\"promo_items\":{\"basic\":{\"_id\":\"LKNHSBIBFJFHFB6PSYCNVNFURQ\",\"embed\":{\"config\":{\"auth\":{\"1\":\"86b67c1580feb202d6d85c7156d73ed4d0986d95196a9308526c90bdc15e0c62\"},\"created\":\"2022-06-22T15:15:20Z\",\"is_live_content\":false,\"resized_urls\":{\"small\":\"https://tn.com.ar/resizer/_WR0yBDFTevV-oFwl-LdOkuUwnk=/767x0/smart/filters:format(webp)/thumbs.vodgc.net/1-398-c16c7816040b46ce84c073068063a2fb-aYK5Tk1655910919629-1655919332.jpg\"},\"thumbnail\":\"https://thumbs.vodgc.net/1-398-c16c7816040b46ce84c073068063a2fb-aYK5Tk1655910919629-1655919332.jpg\"},\"id\":\"1284622\"},\"subtype\":\"genoa\",\"type\":\"custom_embed\",\"shouldPlay\":false}},\"subheadlines\":{\"basic\":\"Los ladrones ingresaron al establecimiento mientras se estaba dictando clases y les gatillaron a los estudiantes.  \"},\"taxonomy\":{\"tags\":[{\"text\":\"villa fiorito\"},{\"text\":\"Robo\"},{\"text\":\"Escuela\"},{\"text\":\"Lomas de Zamora\"}]},\"type\":\"story\",\"website_url\":\"/policiales/2022/06/22/ocho-delincuentes-robaron-y-amenazaron-de-muerte-a-los-alumnos-de-un-instituto-en-plena-clase/\"},{\"credits\":{\"by\":[]},\"description\":{\"basic\":\"\"},\"display_date\":\"2022-06-16T21:51:53.799Z\",\"headlines\":{\"basic\":\"Una mujer se compró una moto para trabajar y terminar la escuela, pero se la robaron y pide ayuda\",\"mobile\":\"Mar del Plata\"},\"promo_items\":{\"basic\":{\"_id\":\"OC7MYTXYS32PN77OEADERJA4UM\",\"auth\":{\"1\":\"ccbdb70cc3b74de228aea0e58f1151973f452940e1b92777059eaa282b99d010\"},\"caption\":\"La mujer de 31 años ya realizó la denuncia y la moto tiene pedido de captura. (Foto: gentileza Detrás de la Noticia)\",\"resized_urls\":{\"small\":\"https://tn.com.ar/resizer/RniWWstJLaUG_8Dg2B8pLXx59Pw=/767x0/smart/filters:format(webp)/cloudfront-us-east-1.images.arcpublishing.com/artear/OC7MYTXYS32PN77OEADERJA4UM.jpg\"},\"type\":\"image\",\"url\":\"https://cloudfront-us-east-1.images.arcpublishing.com/artear/OC7MYTXYS32PN77OEADERJA4UM.jpg\",\"shouldPlay\":false}},\"subheadlines\":{\"basic\":\"“Lloro todo el día”, dijo la víctima de 31 años. Recién había pagado la primera cuota de las 36 cuando se la llevaron de la puerta del colegio al que asistía en Mar del Plata.\"},\"taxonomy\":{\"tags\":[{\"text\":\"Mar del Plata\"},{\"text\":\"Robo\"},{\"text\":\"Escuela\"},{\"text\":\"moto\"}]},\"type\":\"story\",\"website_url\":\"/policiales/2022/06/16/una-mujer-se-compro-una-moto-para-trabajar-y-terminar-la-escuela-pero-se-la-robaron-y-pide-ayuda/\"},{\"credits\":{\"by\":[]},\"description\":{\"basic\":\"\"},\"display_date\":\"2021-12-17T16:11:04.839Z\",\"headlines\":{\"basic\":\"Un estudiante iba a rendir un examen, pero unos motochorros le robaron la mochila y en la escuela lo desaprobaron por no llevar el trabajo práctico\",\"mobile\":\"\"},\"promo_items\":{\"basic\":{\"_id\":\"TQCZYJ2B7VG4ZEISTLBFLQLJBE\",\"embed\":{\"config\":{\"auth\":{\"1\":\"c050f9f48205937698082b2b97d0f732e1b57ee8d201d0ce917490571cffed5a\"},\"created\":\"2021-12-17 13:59:24\",\"resized_urls\":{\"small\":\"https://tn.com.ar/resizer/DHeICiQhDD1LjvIAKAP82pEeNrI=/767x0/smart/filters:format(webp)/thumbs.vodgc.net/1-181-XSogpq1639749563022-1639751468.jpg\"},\"thumbnail\":\"https://thumbs.vodgc.net/1-181-XSogpq1639749563022-1639751468.jpg\"},\"id\":\"1204903\"},\"subtype\":\"genoa\",\"type\":\"custom_embed\",\"shouldPlay\":false}},\"subheadlines\":{\"basic\":\"El robo quedó registrado por las cámaras de seguridad. La escuela de Merlo lo había mandado a febrero. \"},\"taxonomy\":{\"tags\":[{\"text\":\"Motochorros\"},{\"text\":\"Merlo\"},{\"text\":\"nene\"}]},\"type\":\"story\",\"website_url\":\"/policiales/2021/12/17/un-estudiante-iba-a-rendir-un-examen-motochorros-le-robaron-la-mochila-y-lo-desaprobaron-por-no-llevar-el-trabajo-practico/\"},{\"credits\":{\"by\":[]},\"description\":{\"basic\":\"\"},\"display_date\":\"2021-10-29T20:28:38.260Z\",\"headlines\":{\"basic\":\"Delincuentes entraron a robar a una escuela de Lomas de Zamora mientras los chicos estaban en clase\",\"mobile\":\"\"},\"promo_items\":{\"basic\":{\"_id\":\"LSLP2VXDEJALVMZNFS2XM54KM4\",\"auth\":{\"1\":\"3d0d88a514d75441b98c49099325f1e78c1c1b0cc97c23e41f8d83f2caf25167\"},\"caption\":\"Dos delincuentes entraron al establecimiento cuando los chicos estaban en la aulas. (Foto: Google Street View).\",\"resized_urls\":{\"small\":\"https://tn.com.ar/resizer/KfEPoVOh3JZN0CS_emlHca757g0=/767x0/smart/filters:format(webp)/cloudfront-us-east-1.images.arcpublishing.com/artear/LSLP2VXDEJALVMZNFS2XM54KM4.jpg\"},\"type\":\"image\",\"url\":\"https://cloudfront-us-east-1.images.arcpublishing.com/artear/LSLP2VXDEJALVMZNFS2XM54KM4.jpg\",\"shouldPlay\":false}},\"subheadlines\":{\"basic\":\"Ocurrió en el Instituto Tecnológico San Bonifacio. Los alumnos vieron a dos ladrones. Uno fue atrapado y el otro logró escapar. Querían llevarse bicicletas y le sacaron el celular a un profesor cuando salía del aula.\"},\"taxonomy\":{\"tags\":[{\"text\":\"TN y la Gente\"},{\"text\":\"Robo\"},{\"text\":\"Escuela\"},{\"text\":\"Lomas de Zamora\"}]},\"type\":\"story\",\"website_url\":\"/policiales/2021/10/29/delincuentes-entraron-a-robar-a-una-escuela-de-lomas-de-zamora-mientras-los-chicos-estaban-en-clase/\"},{\"credits\":{\"by\":[]},\"description\":{\"basic\":\"\"},\"display_date\":\"2021-10-13T18:43:56.305Z\",\"headlines\":{\"basic\":\"Sergio Berni criticó a la Justicia por el asesinato del joven en Quilmes: “Hay que discutir cómo una persona que fue detenida por robo con arma sale a los 4 días”\",\"mobile\":\"\"},\"promo_items\":{\"basic\":{\"_id\":\"OK4WXJ2VDVGDNBA3L3GF74QLQI\",\"embed\":{\"config\":{\"auth\":{\"1\":\"cb28e90db7c7596636152c410886de388d641398407e98bf4b53243b3d84b3b4\"},\"created\":\"2021-10-13T18:14:33Z\",\"is_live_content\":false,\"resized_urls\":{\"small\":\"https://tn.com.ar/resizer/BxxLh2xyjiZt14_pz1R6lxuQueE=/767x0/smart/filters:format(webp)/thumbs.vodgc.net/B3AE2BFB40A6CFD9C459B67BB2B4FBDD316-1634150051.jpg\"},\"thumbnail\":\"https://thumbs.vodgc.net/B3AE2BFB40A6CFD9C459B67BB2B4FBDD316-1634150051.jpg\"},\"id\":\"1169948\"},\"subtype\":\"genoa\",\"type\":\"custom_embed\",\"shouldPlay\":false}},\"subheadlines\":{\"basic\":\"Lucas Cancino fue apuñalado en un robo cuando salía de su casa para ir a la escuela. “No hay suficientes policías, es injustificable tener 80.000 efectivos para toda la provincia”, remarcó el ministro de Seguridad. \"},\"taxonomy\":{\"tags\":[{\"text\":\"Inseguridad\"},{\"text\":\"Sergio Berni\"},{\"text\":\"Quilmes\"}]},\"type\":\"story\",\"website_url\":\"/politica/2021/10/13/sergio-berni-critico-a-la-justicia-por-el-asesinato-del-joven-en-quilmes-hay-que-discutir-como-una-persona-que-fue-detenida-por-robo-con-arma-sale-a-los-4-dias/\"}],\"count\":48,\"next\":20,\"_id\":\"f92f76924f3d4a090cbe51c9ec009e7433c101a460b5a8b96a1a69f4a4e71daa\"},\"expires\":1712705523302,\"lastModified\":1712705222663}},\"content-feed\":{\"{\\\"_sourceInclude\\\":\\\"canonical_url,headlines.basic\\\",\\\"feed_body\\\":\\\"\\\",\\\"feed_query\\\":\\\"type:story+AND+source.source_type:staff\\\",\\\"size\\\":\\\"4\\\"}\":{\"data\":{\"type\":\"results\",\"version\":\"0.6.0\",\"additional_properties\":{\"took\":26,\"timed_out\":false},\"count\":10000,\"next\":4,\"content_elements\":[{\"headlines\":{\"basic\":\"Pablo Echarri se refirió a los dichos de Francella sobre Javier Milei: ”Me extraña que haya hablado ahora”\"},\"canonical_url\":\"/show/famosos/2024/04/09/pablo-echarri-se-refirio-a-los-dichos-de-francella-sobre-javier-milei-me-extrana-que-haya-hablado-ahora/\",\"_id\":\"KLTDRQIXU5BUHG3H4NVNPEMEAA\",\"content_elements\":[],\"promo_items\":{},\"credits\":{\"by\":[]}},{\"headlines\":{\"basic\":\"Intendentes radicales se reunieron con Kicillof y exigieron fondos para salud, seguridad y obra pública\"},\"canonical_url\":\"/politica/2024/04/09/intendentes-radicales-se-reunieron-con-kicillof-y-exigieron-fondos-para-salud-seguridad-y-obra-publica/\",\"_id\":\"O4JSXPK3H5EONPOGFD4OUXVAJE\",\"content_elements\":[],\"promo_items\":{},\"credits\":{\"by\":[]}},{\"headlines\":{\"basic\":\"Boca va por su primer triunfo en la Copa Sudamericana ante Sportivo Trinidense\"},\"canonical_url\":\"/deportes/futbol/2024/04/09/boca-va-por-su-primer-triunfo-en-la-copa-sudamericana-ante-sportivo-trinidense-hora-tv-y-formaciones/\",\"_id\":\"NYPCFTKDWZB5NCYZWYD5QRXYAM\",\"content_elements\":[],\"promo_items\":{},\"credits\":{\"by\":[]}},{\"headlines\":{\"basic\":\"Por qué Boca tuvo que cerrar parte de una tribuna de la Bombonera para el partido ante Sportivo Trinidense\"},\"canonical_url\":\"/deportes/futbol/2024/04/09/por-que-boca-tuvo-que-cerrar-parte-de-una-tribuna-de-la-bombonera-para-el-partido-ante-sportivo-trinidense/\",\"_id\":\"HQN6EYLLKNGSFOVGARJOHXR7OI\",\"content_elements\":[],\"promo_items\":{},\"credits\":{\"by\":[]}}],\"_id\":\"5686fa113fd5aad06e8448337ac7a316a7c1c9e41196eb9bd5c59dcc8dcf25e5\"},\"expires\":1712705451618,\"lastModified\":1712705151528}}};Fusion.layout=\"Megalateral\";Fusion.metas={\"description\":{\"value\":\"busqueda\",\"html\":true}};Fusion.outputType=\"default\";Fusion.template=\"template/tWKUwSJpfQgV0XUt\";Fusion.tree={\"collection\":\"layouts\",\"type\":\"Megalateral\",\"props\":{\"collection\":\"layouts\",\"type\":\"Megalateral\",\"id\":\"Megalateral\",\"childProps\":[{\"collection\":\"sections\",\"id\":0},{\"collection\":\"sections\",\"id\":1},{\"collection\":\"sections\",\"id\":2}]},\"children\":[{\"collection\":\"sections\",\"props\":{\"collection\":\"sections\",\"id\":0},\"children\":[{\"collection\":\"features\",\"type\":\"global/Ad\",\"props\":{\"collection\":\"features\",\"type\":\"global/Ad\",\"id\":\"f0fmJhRMxLxd2fh\",\"contentConfig\":{\"contentService\":\"\",\"contentConfigValues\":{},\"inherit\":true},\"customFields\":{\"sticky\":\"\",\"type\":\"header\"},\"displayProperties\":{},\"localEdits\":{},\"variants\":{}}},{\"collection\":\"features\",\"type\":\"global/SecondaryNavSDolar\",\"props\":{\"collection\":\"features\",\"type\":\"global/SecondaryNavSDolar\",\"id\":\"f0fLwEnpxecG1Nq\",\"contentConfig\":{\"contentService\":\"\",\"contentConfigValues\":{},\"inherit\":true},\"customFields\":{\"title\":\"Temas de hoy\",\"title0\":\"Javier Milei\",\"href0\":\"https://tn.com.ar/politica/2024/04/09/milei-viaja-a-miami-junto-a-su-hermana-karina-para-recibir-una-distincion-de-la-colectividad-judia/\",\"sublinks0\":{},\"title1\":\"Ley Ómnibus\",\"href1\":\"https://tn.com.ar/politica/2024/04/09/el-gobierno-ultima-detalles-para-enviar-en-conjunto-cambios-en-ganancias-y-la-version-final-de-la-ley-bases/\",\"title2\":\"Dengue\",\"href2\":\"https://tn.com.ar/sociedad/2024/04/08/brote-de-dengue-llegaron-a-la-argentina-mas-de-22000-repelentes-importados-desde-mexico-para-donar-a-caritas/\",\"title3\":\"Dólar blue y dólar hoy\",\"href3\":\"https://tn.com.ar/economia/2024/04/09/dolar-blue-y-dolar-hoy-a-cuanto-cotizan-este-martes-9-de-abril/\",\"title4\":\"Base espacial china en Neuquén\",\"href4\":\"https://tn.com.ar/politica/2024/04/09/base-espacial-china-en-neuquen-la-confidencialidad-del-contrato-protege-datos-clave-sobre-tareas-y-tecnologia/\",\"title5\":\"Crisis económica\",\"href5\":\"https://tn.com.ar/economia/2024/04/09/recuperacion-en-distintos-tiempos-afirman-que-el-rebote-economico-sera-desigual-y-llegara-al-bolsillo-en-2025/\",\"title6\":\"Boca Juniors\",\"href6\":\"https://tn.com.ar/deportes/futbol/2024/04/09/boca-va-por-su-primer-triunfo-en-la-copa-sudamericana-ante-sportivo-trinidense-hora-tv-y-formaciones/\",\"title9\":\"\",\"href9\":\"\",\"sublinks2\":{},\"sublinks3\":{},\"sublinks4\":{},\"title7\":\"\",\"href7\":\"\",\"title8\":\"\",\"href8\":\"\",\"title10\":\"\",\"href10\":\"\",\"title11\":\"\",\"href11\":\"\"},\"displayProperties\":{},\"localEdits\":{},\"variants\":{}}},{\"collection\":\"features\",\"type\":\"TN/Header\",\"props\":{\"collection\":\"features\",\"type\":\"TN/Header\",\"id\":\"f0fwgZarTD7m3AN\",\"contentConfig\":{\"contentService\":\"\",\"contentConfigValues\":{},\"inherit\":true},\"customFields\":{},\"displayProperties\":{},\"localEdits\":{},\"variants\":{}}}]},{\"collection\":\"sections\",\"props\":{\"collection\":\"sections\",\"id\":1},\"children\":[{\"collection\":\"chains\",\"type\":\"MainContent\",\"props\":{\"collection\":\"chains\",\"type\":\"MainContent\",\"id\":\"c0f17csuOxjn3uK\",\"customFields\":{},\"displayProperties\":{}},\"children\":[{\"collection\":\"features\",\"type\":\"global/Breadcrumb\",\"props\":{\"collection\":\"features\",\"type\":\"global/Breadcrumb\",\"id\":\"f0fHOLQyDsqn38d\",\"contentConfig\":{\"contentService\":\"\",\"contentConfigValues\":{},\"inherit\":true},\"customFields\":{\"items\":{\"Resultados\":\"\"}},\"displayProperties\":{},\"localEdits\":{},\"variants\":{}}},{\"collection\":\"features\",\"type\":\"global/Search\",\"props\":{\"collection\":\"features\",\"type\":\"global/Search\",\"id\":\"f0fXnG6FZg6oEN\",\"contentConfig\":{\"contentService\":\"\",\"contentConfigValues\":{},\"inherit\":true},\"customFields\":{\"headline\":true,\"tagsillo\":true,\"subheadline\":true,\"media\":true,\"author\":true,\"date\":true,\"feedSize\":20,\"paginate\":true},\"displayProperties\":{},\"localEdits\":{},\"variants\":{}}},{\"collection\":\"features\",\"type\":\"TN/BrickLive\",\"props\":{\"collection\":\"features\",\"type\":\"TN/BrickLive\",\"id\":\"f0fTvGoaOEuZb0\",\"contentConfig\":{\"contentService\":\"\",\"contentConfigValues\":{},\"inherit\":true},\"customFields\":{\"title\":\"\",\"titleUrl\":\"\",\"pageUrl\":\"\",\"size\":\"brick_full\",\"showLive\":true},\"displayProperties\":{},\"localEdits\":{},\"variants\":{}}}]}]},{\"collection\":\"sections\",\"props\":{\"collection\":\"sections\",\"id\":2},\"children\":[{\"collection\":\"features\",\"type\":\"global/Footer\",\"props\":{\"collection\":\"features\",\"type\":\"global/Footer\",\"id\":\"f0fQhWPLMtipmq\",\"contentConfig\":{\"contentService\":\"\",\"contentConfigValues\":{},\"inherit\":true},\"customFields\":{},\"displayProperties\":{},\"localEdits\":{},\"variants\":{}}}]}]};Fusion.spa=false;Fusion.spaEnabled=false;\n"
          ]
        }
      ]
    },
    {
      "cell_type": "code",
      "source": [
        "# Función para filtrar las noticias por año y mes (o solo año)\n",
        "def filter_news(year, month=None):\n",
        "    # URL de la página de noticias a escrapear\n",
        "    url = 'https://tn.com.ar/buscar/robo-escuela/'\n",
        "\n",
        "    # Realizar una petición GET a la página\n",
        "    response = requests.get(url)\n",
        "\n",
        "    # Crear un objeto BeautifulSoup para analizar el HTML de la página\n",
        "    soup = BeautifulSoup(response.text, 'html.parser')\n",
        "\n",
        "    # Buscar todos los elementos que contienen los artículos de noticias\n",
        "    article_elements = soup.find_all('article')\n",
        "\n",
        "    # Buscar las fechas de publicación de los artículos\n",
        "    publish_dates = []\n",
        "    for article in article_elements:\n",
        "        publish_date_element = article.find('time')\n",
        "        if publish_date_element:\n",
        "            publish_date_str = publish_date_element['datetime']\n",
        "            publish_date_str_adjusted = publish_date_str.split('.')[0].replace('T', ' ').replace('Z', '')\n",
        "            publish_date = datetime.strptime(publish_date_str_adjusted, '%Y-%m-%d %H:%M:%S')\n",
        "            publish_dates.append(publish_date)\n",
        "\n",
        "    # Lista para almacenar los artículos filtrados por año y mes (o solo año)\n",
        "    filtered_articles = []\n",
        "\n",
        "    # Filtrar los artículos por año y mes (o solo año)\n",
        "    for article, date in zip(article_elements, publish_dates):\n",
        "        if month:\n",
        "            if date.year == year and date.month == month:\n",
        "                filtered_articles.append(article.get_text())\n",
        "        else:\n",
        "            if date.year == year:\n",
        "                filtered_articles.append(article.get_text())\n",
        "\n",
        "    return filtered_articles"
      ],
      "metadata": {
        "id": "YJJ_3rR1Sqzb"
      },
      "execution_count": null,
      "outputs": []
    },
    {
      "cell_type": "code",
      "source": [
        "# Solicitar al usuario que ingrese el año y el mes (o solo el año)\n",
        "year = int(input(\"Ingrese el año: \"))\n",
        "month = None\n",
        "if input(\"¿Desea filtrar por mes? (s/n): \").lower() == 's':\n",
        "    month = int(input(\"Ingrese el mes (1-12): \"))\n",
        "\n",
        "# Filtrar las noticias por el año y el mes (o solo el año) ingresados por el usuario\n",
        "filtered_articles = filter_news(year, month)\n",
        "\n",
        "# Imprimir los artículos filtrados\n",
        "if filtered_articles:\n",
        "    print(\"\\n\\n\".join(filtered_articles))\n",
        "else:\n",
        "    print(\"No se encontraron noticias para el año y mes especificados.\")"
      ],
      "metadata": {
        "colab": {
          "base_uri": "https://localhost:8080/"
        },
        "id": "T9f-5cCtSvDw",
        "outputId": "4e13d225-126d-4335-ad0e-f7b33bf0811a"
      },
      "execution_count": null,
      "outputs": [
        {
          "output_type": "stream",
          "name": "stdout",
          "text": [
            "Ingrese el año: 2019\n",
            "¿Desea filtrar por mes? (s/n): n\n",
            "No se encontraron noticias para el año y mes especificados.\n"
          ]
        }
      ]
    },
    {
      "cell_type": "code",
      "source": [
        "year_filtro = 2024\n",
        "i = 0\n",
        "subt = []\n",
        "dtime = []\n",
        "titulo = []\n",
        "url_noticias = []\n",
        "Ctag = []\n",
        "\n",
        "while year_filtro > 2022:\n",
        "  i += 1\n",
        "  url = str(\"https://tn.com.ar/buscar/robo-escuela/pagina/\" + str(i) + \"/\")\n",
        "\n",
        "  req = requests.get(url)\n",
        "\n",
        "  soup = BeautifulSoup(req.text, 'html.parser')\n",
        "\n",
        "  for link in soup.find_all(class_ = \"card__subheadline\"):\n",
        "    subt.append(link.get_text())\n",
        "\n",
        "  for link in soup.find_all(class_ = \"time__value\"):\n",
        "    dtime.append(link.get_text())\n",
        "\n",
        "  dtime = [fecha.replace(\"sept\", \"sep\") for fecha in dtime]\n",
        "  dtime = [datetime.strptime(dtime, \"%d %b %Y\").date() for dtime in dtime]\n",
        "\n",
        "  for link in soup.find_all(class_ = 'card__headline'):\n",
        "    titulo.append(link.get_text())\n",
        "\n",
        "  for link in soup.find_all(class_ = 'card__headline'):\n",
        "    url_noticias.append(link.find('a')['href'])\n",
        "\n",
        "  for link in soup.find_all(class_ = \"card__tag\"):\n",
        "    Ctag.append(link.get_text())\n",
        "\n",
        "  years = [fechas.year for fechas in dtime]\n",
        "  year_filtro = min(years)\n"
      ],
      "metadata": {
        "id": "nQC9dRIDOnEV"
      },
      "execution_count": 5,
      "outputs": []
    },
    {
      "cell_type": "code",
      "source": [
        "df_noticias = pd.DataFrame({'Titulo': titulo, 'Fecha': dtime, 'Tag': Ctag, 'Copete': subt, 'url' : url_noticias})\n",
        "print(df_noticias.shape)\n",
        "print(min(df_noticias.Fecha))"
      ],
      "metadata": {
        "colab": {
          "base_uri": "https://localhost:8080/"
        },
        "id": "mXQP6_0MRpGe",
        "outputId": "4f19df2b-3d38-4792-d0e9-06965d24774d"
      },
      "execution_count": 20,
      "outputs": [
        {
          "output_type": "stream",
          "name": "stdout",
          "text": [
            "(20, 5)\n",
            "2021-10-13\n"
          ]
        }
      ]
    },
    {
      "cell_type": "code",
      "source": [
        "df_noticias[\"Fecha\"] = pd.to_datetime(df_noticias[\"Fecha\"] )"
      ],
      "metadata": {
        "id": "QVbXmgiPVwlB"
      },
      "execution_count": 22,
      "outputs": []
    },
    {
      "cell_type": "code",
      "source": [
        "df_noticias = df_noticias[df_noticias[\"Fecha\"] >  pd.to_datetime('2022-12-31')]"
      ],
      "metadata": {
        "id": "uEUIRHWfRtlf"
      },
      "execution_count": 24,
      "outputs": []
    },
    {
      "cell_type": "code",
      "source": [
        "print(df_noticias.shape)\n",
        "print(min(df_noticias.Fecha))"
      ],
      "metadata": {
        "colab": {
          "base_uri": "https://localhost:8080/"
        },
        "id": "KPjujOpjVK9K",
        "outputId": "a0c2c9fb-0abe-429a-980b-89462928c665"
      },
      "execution_count": 25,
      "outputs": [
        {
          "output_type": "stream",
          "name": "stdout",
          "text": [
            "(9, 5)\n",
            "2023-03-17 00:00:00\n"
          ]
        }
      ]
    },
    {
      "cell_type": "code",
      "source": [
        "cuerpo = []\n",
        "cuerpo_temp = []\n",
        "\n",
        "for nota in df_noticias.url:\n",
        "  nota = str(\"https://tn.com.ar\" + nota)\n",
        "  req = requests.get(nota)\n",
        "  soup = BeautifulSoup(req.text, 'html.parser')\n",
        "  for link in soup.find_all(class_ = \"paragraph\"):\n",
        "    cuerpo_temp.append(link.get_text())\n",
        "\n",
        "  cuerpo.append(\" \".join(cuerpo_temp))\n",
        "  cuerpo_temp = []"
      ],
      "metadata": {
        "id": "rTjnCD-qXKd4"
      },
      "execution_count": 38,
      "outputs": []
    },
    {
      "cell_type": "code",
      "source": [
        "df_noticias[\"Cuerpo_noticia\"] = cuerpo"
      ],
      "metadata": {
        "id": "UpMKD9DugAeu"
      },
      "execution_count": 41,
      "outputs": []
    },
    {
      "cell_type": "code",
      "source": [
        "\n"
      ],
      "metadata": {
        "id": "NSnqzln8egtg"
      },
      "execution_count": 28,
      "outputs": []
    },
    {
      "cell_type": "code",
      "source": [],
      "metadata": {
        "colab": {
          "base_uri": "https://localhost:8080/",
          "height": 52
        },
        "id": "4IOoQ3Qse5bX",
        "outputId": "bbd5f1c9-3011-41a7-cce1-f1a725649944"
      },
      "execution_count": 32,
      "outputs": [
        {
          "output_type": "execute_result",
          "data": {
            "text/plain": [
              "'Un delincuente ingresó a una escuela, amenazó a los alumnos con un arma en plena clase y les robó los celulares. Tras ello, escapó junto a su cómplice. Las autoridades locales ahora realizan tareas de investigación para identificarlo.'"
            ],
            "application/vnd.google.colaboratory.intrinsic+json": {
              "type": "string"
            }
          },
          "metadata": {},
          "execution_count": 32
        }
      ]
    },
    {
      "cell_type": "code",
      "source": [],
      "metadata": {
        "colab": {
          "base_uri": "https://localhost:8080/",
          "height": 52
        },
        "id": "Wj4EKvV7fyeu",
        "outputId": "2488632b-1c3d-4535-927f-acafa4a741b9"
      },
      "execution_count": 37,
      "outputs": [
        {
          "output_type": "execute_result",
          "data": {
            "text/plain": [
              "'https://tn.com.arhttps://tn.com.ar/policiales/2024/03/13/un-delincuente-ingreso-a-una-escuela-asalto-a-alumnos-en-plena-clase-y-los-amenazo-con-un-arma/'"
            ],
            "application/vnd.google.colaboratory.intrinsic+json": {
              "type": "string"
            }
          },
          "metadata": {},
          "execution_count": 37
        }
      ]
    }
  ]
}